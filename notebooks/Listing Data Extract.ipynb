{
 "cells": [
  {
   "cell_type": "code",
   "execution_count": null,
   "metadata": {
    "collapsed": true
   },
   "outputs": [],
   "source": [
    "# Pull raw listing data out of DB in one swoop\n",
    "# But exclude listings with a tract not in the census tract dataframe\n",
    "all_tract_ids_in_df = list(TRACT_DATA.tract_id)\n",
    "raw_data = (Listing.objects\n",
    "    .filter(tract_id__in=all_tract_ids_in_df)\n",
    "    .annotate(point_geojson=AsGeoJSON('point'))\n",
    "    .annotate(host_experience_days=ExpressionWrapper(\n",
    "            F('last_scraped') - F('host_since'), \n",
    "            output_field=DurationField()))\n",
    "    ).values('id',\n",
    "             'host_experience_days', \n",
    "             'point_geojson',\n",
    "             'neighborhood_id',\n",
    "             'tract_id',\n",
    "             'zipcode_id',\n",
    "             'block_group_id',\n",
    "             'host_is_superhost',\n",
    "             'host_identity_verified',\n",
    "             'property_type',\n",
    "             'room_type',\n",
    "             'accommodates',\n",
    "             'bathrooms',\n",
    "             'bedrooms',\n",
    "             'bed_type',\n",
    "             'minimum_nights',\n",
    "             'price',\n",
    "             'availability_365',\n",
    "             'estimated_revenue_per_month')\n",
    "\n",
    "# Convert QuerySet to plain list of dicts\n",
    "raw_data = list(raw_data)\n",
    "\n",
    "# Convert timedeltas to ints; convert geojson points to lat, lon variables;\n",
    "for item in raw_data:\n",
    "    # geojson -- > lat, lon\n",
    "    geojson = literal_eval(item['point_geojson']) # Parse json string\n",
    "    item['longitude'] = geojson['coordinates'][0]\n",
    "    item['latitude'] = geojson['coordinates'][1]\n",
    "    item.pop('point_geojson') # we don't need this anymore    \n",
    "    # timedelta --> int\n",
    "    item['host_experience_days'] = item['host_experience_days'].days\n",
    "\n",
    "# Add amenity fields\n",
    "all_amenity_ids = Amenity.objects.order_by('id').values_list('id', flat=True)    \n",
    "for item in raw_data:\n",
    "    its_amenities = Listing.objects.get(id=item['id']).amenities.values_list('id', flat=True)\n",
    "    amenity_data = {\n",
    "        'amenity_%d' % amenity_id: amenity_id in its_amenities \n",
    "        for amenity_id in all_amenity_ids\n",
    "    }\n",
    "    item.update(amenity_data)"
   ]
  }
 ],
 "metadata": {
  "kernelspec": {
   "display_name": "Django Shell-Plus",
   "language": "python",
   "name": "django_extensions"
  },
  "language_info": {
   "codemirror_mode": {
    "name": "ipython",
    "version": 3
   },
   "file_extension": ".py",
   "mimetype": "text/x-python",
   "name": "python",
   "nbconvert_exporter": "python",
   "pygments_lexer": "ipython3",
   "version": "3.5.2"
  }
 },
 "nbformat": 4,
 "nbformat_minor": 2
}
