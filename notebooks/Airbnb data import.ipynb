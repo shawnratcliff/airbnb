{
 "cells": [
  {
   "cell_type": "code",
   "execution_count": 286,
   "metadata": {
    "collapsed": true
   },
   "outputs": [],
   "source": [
    "import pandas as pd\n",
    "import numpy as np"
   ]
  },
  {
   "cell_type": "code",
   "execution_count": 287,
   "metadata": {
    "collapsed": false
   },
   "outputs": [],
   "source": [
    "\n",
    "dtypes = {\n",
    "    'id': np.int64,\n",
    "    'listing_url': str,\n",
    "    'scrape_id': np.int64,\n",
    "    'last_scraped': str, # date\n",
    "    'name': str,\n",
    "    'description': str,\n",
    "    'host_id': np.int64,\n",
    "    'host_name': str,\n",
    "    'host_since': str, # date\n",
    "    'host_is_superhost': str,\n",
    "    'host_identity_verified': str,\n",
    "    'neighbourhood_cleansed': str,\n",
    "    # 'zipcode': np.int32, --- Can't use ZIP, too dirty\n",
    "    'latitude': np.float64,\n",
    "    'longitude': np.float64,\n",
    "    'property_type': str,\n",
    "    'room_type': str,\n",
    "    'accommodates': np.int16,\n",
    "    'bathrooms': np.float16, # contains NAN values\n",
    "    'bedrooms': np.float16, # contains NAN values\n",
    "    'bed_type': str,\n",
    "    'amenities': str,\n",
    "    'price': str, # $ - need function\n",
    "    'minimum_nights': np.int16,\n",
    "    'availability_365': np.int16,\n",
    "    'number_of_reviews': np.int16,\n",
    "    'reviews_per_month': np.float16\n",
    "}\n",
    "        \n",
    "parse_dates = ['last_scraped', 'host_since']\n",
    "\n",
    "converters = {\n",
    "    'host_is_superhost': lambda x: x == 't',\n",
    "    'host_identity_verified': lambda x: x == 't',\n",
    "    'price': lambda x: float(x.replace('$','').replace(',','')) # convert '$1,000.00' to 1000.00\n",
    "}"
   ]
  },
  {
   "cell_type": "code",
   "execution_count": 289,
   "metadata": {
    "collapsed": false,
    "scrolled": true
   },
   "outputs": [
    {
     "name": "stderr",
     "output_type": "stream",
     "text": [
      "/Users/shawn/Projects/airbnb/venv/lib/python3.6/site-packages/IPython/core/interactiveshell.py:2717: DtypeWarning: Columns (43) have mixed types. Specify dtype option on import or set low_memory=False.\n",
      "  interactivity=interactivity, compiler=compiler, result=result)\n"
     ]
    }
   ],
   "source": [
    "df = pd.read_csv(\n",
    "    '../res/listings-3-aug-16.csv.gz', \n",
    "    dtype=dtypes, \n",
    "    parse_dates=parse_dates, \n",
    "    converters=converters\n",
    ")\n"
   ]
  },
  {
   "cell_type": "code",
   "execution_count": 223,
   "metadata": {
    "collapsed": false,
    "scrolled": false
   },
   "outputs": [
    {
     "name": "stdout",
     "output_type": "stream",
     "text": [
      "Index(['id', 'listing_url', 'scrape_id', 'last_scraped', 'name', 'summary',\n",
      "       'space', 'description', 'experiences_offered', 'neighborhood_overview',\n",
      "       'notes', 'transit', 'access', 'interaction', 'house_rules',\n",
      "       'thumbnail_url', 'medium_url', 'picture_url', 'xl_picture_url',\n",
      "       'host_id', 'host_url', 'host_name', 'host_since', 'host_location',\n",
      "       'host_about', 'host_response_time', 'host_response_rate',\n",
      "       'host_acceptance_rate', 'host_is_superhost', 'host_thumbnail_url',\n",
      "       'host_picture_url', 'host_neighbourhood', 'host_listings_count',\n",
      "       'host_total_listings_count', 'host_verifications',\n",
      "       'host_has_profile_pic', 'host_identity_verified', 'street',\n",
      "       'neighbourhood', 'neighbourhood_cleansed',\n",
      "       'neighbourhood_group_cleansed', 'city', 'state', 'zipcode', 'market',\n",
      "       'smart_location', 'country_code', 'country', 'latitude', 'longitude',\n",
      "       'is_location_exact', 'property_type', 'room_type', 'accommodates',\n",
      "       'bathrooms', 'bedrooms', 'beds', 'bed_type', 'amenities', 'square_feet',\n",
      "       'price', 'weekly_price', 'monthly_price', 'security_deposit',\n",
      "       'cleaning_fee', 'guests_included', 'extra_people', 'minimum_nights',\n",
      "       'maximum_nights', 'calendar_updated', 'has_availability',\n",
      "       'availability_30', 'availability_60', 'availability_90',\n",
      "       'availability_365', 'calendar_last_scraped', 'number_of_reviews',\n",
      "       'first_review', 'last_review', 'review_scores_rating',\n",
      "       'review_scores_accuracy', 'review_scores_cleanliness',\n",
      "       'review_scores_checkin', 'review_scores_communication',\n",
      "       'review_scores_location', 'review_scores_value', 'requires_license',\n",
      "       'license', 'jurisdiction_names', 'instant_bookable',\n",
      "       'cancellation_policy', 'require_guest_profile_picture',\n",
      "       'require_guest_phone_verification', 'calculated_host_listings_count',\n",
      "       'reviews_per_month'],\n",
      "      dtype='object')\n"
     ]
    }
   ],
   "source": [
    "print(df.columns)"
   ]
  },
  {
   "cell_type": "code",
   "execution_count": 308,
   "metadata": {
    "collapsed": false,
    "scrolled": false
   },
   "outputs": [
    {
     "data": {
      "text/plain": [
       "359      I have an extra sunny remodeled bedroom for re...\n",
       "1265     medium sized room in small city. no kitchen or...\n",
       "1266     outside parking in open yard. car parking only...\n",
       "1494     Furnished bedroom with on suite bathroom for r...\n",
       "1592     Private, large, full furnished bedroom with ha...\n",
       "1704     Great Pasadena suburb (Altadena) location in t...\n",
       "2602     Beautiful, rustic, stucco guesthouse three blo...\n",
       "4055     Amenities :  Parking in covered secured garage...\n",
       "4188                                             Blah blah\n",
       "4421     Stay in a lovely, quiet, ideally located (midw...\n",
       "4931     One bedroom provided in a two bedroom condo.  ...\n",
       "4987     Single room available in nice condo centrally ...\n",
       "5430     Beautifully remodeled studio in a private gate...\n",
       "5566     Private Area, easy access to shopping, L.A Fai...\n",
       "5661     We rent 2 guest rooms and 1 bathroom which are...\n",
       "5725      This cozy room is in a charming Spanish style...\n",
       "5783     Awesome, large, curbside, one bedroom, air con...\n",
       "5915     Access to all amenities, full bathroom; and wa...\n",
       "6425     This is a cozy loft on the corner with big win...\n",
       "6478     Beautiful, remodeled house, 20 min. to Malibu ...\n",
       "7174     Fabulous private Guest House and deck with stu...\n",
       "7311     Imagine your feet up as you relax on the patio...\n",
       "7485     1 bedroom, 1 bath This 1920’s Spanish apartmen...\n",
       "7502     Located in a Beautiful community this bedroom ...\n",
       "7758     Our one bedroom is available right in the midd...\n",
       "8639     Stylish and private studio apt with patio--ste...\n",
       "8689     This bedroom is large and can easily fit two p...\n",
       "10202    Close to the beach and  a short walk to shops,...\n",
       "10309    Paradise Found and lots have found it! You'll ...\n",
       "10446    Newly renovated Luxury Penthouse with dual Mas...\n",
       "                               ...                        \n",
       "21783    Best value in most exciting part of downtown L...\n",
       "21784    Best value in most exciting part of downtown L...\n",
       "22301    WONDERFUL beach property. Just 2 min walk to w...\n",
       "22619    Enjoy hotel amenities with the comforts of hom...\n",
       "23043                                              deleted\n",
       "24133    Private room in safe, convenient location in N...\n",
       "24184    Ocean front, two bedroom condo, luxury finishe...\n",
       "24270    Small private furnished room with shared bathr...\n",
       "24271    Private Rooms for rent in Central Los Angeles....\n",
       "24273    Private Room for rent in Los Angeles. Short-te...\n",
       "24276    Private Room with Queen-size bed in Hollywood....\n",
       "24277    Private room in Hollywood. The room has a quee...\n",
       "24285    Private Room in Mid-City L.A. Private room wit...\n",
       "24288    Private Room with twin-size Bed. This is a sma...\n",
       "24300    Close to shopping, Language schools, Worlds be...\n",
       "24301    Close to shopping, Language schools, Worlds be...\n",
       "24302    Close to shopping, Language schools, Worlds be...\n",
       "24304    Close to shopping, Language schools, Worlds be...\n",
       "24305    Close to shopping, Language schools, Worlds be...\n",
       "24340    Washer and dryer in unit, dishwasher, large pa...\n",
       "24341    Awesome apartment to share.  Cheers! Washer an...\n",
       "24587    Located on \"the most coveted street in Venice\"...\n",
       "24739    Imagine staying in a stunning 3 bedroom 2 bath...\n",
       "24741    the sea star is a lovely 2 bedroom duplex situ...\n",
       "24746    Experience venice beach at it's best whilst st...\n",
       "24747    the sea breeze is a charming open and airy spa...\n",
       "24853    Glendale is the top ten safest cities in U.S. ...\n",
       "25362    This unique 'loft' like unit has a kitchen & d...\n",
       "25384          Comfy BUNK bed 2 min from Hollywood spot #1\n",
       "25719    A Unique Spanish Style Designer House located ...\n",
       "Name: description, dtype: object"
      ]
     },
     "execution_count": 308,
     "metadata": {},
     "output_type": "execute_result"
    }
   ],
   "source": [
    "df[df['bathrooms'].isnull()]['description']"
   ]
  },
  {
   "cell_type": "code",
   "execution_count": null,
   "metadata": {
    "collapsed": true
   },
   "outputs": [],
   "source": []
  }
 ],
 "metadata": {
  "kernelspec": {
   "display_name": "Django Shell-Plus",
   "language": "python",
   "name": "django_extensions"
  },
  "language_info": {
   "codemirror_mode": {
    "name": "ipython",
    "version": 3
   },
   "file_extension": ".py",
   "mimetype": "text/x-python",
   "name": "python",
   "nbconvert_exporter": "python",
   "pygments_lexer": "ipython3",
   "version": "3.6.0"
  }
 },
 "nbformat": 4,
 "nbformat_minor": 2
}
