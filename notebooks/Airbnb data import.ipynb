{
 "cells": [
  {
   "cell_type": "code",
   "execution_count": 1,
   "metadata": {
    "collapsed": false
   },
   "outputs": [],
   "source": [
    "from main.models import Neighborhood, Listing\n",
    "from django.contrib.gis.geos import Point\n",
    "import pandas as pd\n",
    "import numpy as np"
   ]
  },
  {
   "cell_type": "code",
   "execution_count": 2,
   "metadata": {
    "collapsed": false
   },
   "outputs": [],
   "source": [
    "# Define data types for initial parsing of CSV\n",
    "dtype = {\n",
    "    'id': np.int64,\n",
    "    'listing_url': str,\n",
    "    'scrape_id': np.int64,\n",
    "    'last_scraped': str, # date\n",
    "    'name': str,\n",
    "    'description': str,\n",
    "    'host_id': np.int64,\n",
    "    'host_name': str,\n",
    "    'host_since': str, # date\n",
    "    'host_is_superhost': str,\n",
    "    'host_identity_verified': str,\n",
    "    'latitude': np.float64,\n",
    "    'longitude': np.float64,\n",
    "    'neighbourhood_cleansed': str,\n",
    "    'property_type': str,\n",
    "    'room_type': str,\n",
    "    'accommodates': np.int16,\n",
    "    'bathrooms': np.float16, # contains NAN values\n",
    "    'bedrooms': np.float16, # contains NAN values\n",
    "    'bed_type': str,\n",
    "    'amenities': str,\n",
    "    'price': str, # $ - need function\n",
    "    'minimum_nights': np.int16,\n",
    "    'availability_365': np.int16,\n",
    "    'number_of_reviews': np.int16,\n",
    "    'reviews_per_month': np.float16,\n",
    "    'street': str\n",
    "}\n",
    "     \n",
    "# Specify columns that should be parsed as dates\n",
    "parse_dates = ['last_scraped', 'host_since']\n",
    "\n",
    "# Specify conversion functions for particular columns\n",
    "converters = {\n",
    "    'host_is_superhost': lambda x: x == 't',\n",
    "    'host_identity_verified': lambda x: x == 't',\n",
    "    'price': lambda x: float(x.replace('$','').replace(',','')) # convert '$1,000.00' to 1000.00\n",
    "}"
   ]
  },
  {
   "cell_type": "code",
   "execution_count": 3,
   "metadata": {
    "collapsed": false,
    "scrolled": true
   },
   "outputs": [],
   "source": [
    "# Read CSV contents into dataframe\n",
    "df = pd.read_csv(\n",
    "    '../res/listings-3-aug-16.csv.gz', \n",
    "    usecols=list(dtype.keys()),\n",
    "    dtype=dtype, \n",
    "    parse_dates=parse_dates, \n",
    "    converters=converters\n",
    ")"
   ]
  },
  {
   "cell_type": "code",
   "execution_count": 6,
   "metadata": {
    "collapsed": false,
    "scrolled": false
   },
   "outputs": [
    {
     "data": {
      "text/plain": [
       "id                        False\n",
       "listing_url               False\n",
       "scrape_id                 False\n",
       "last_scraped              False\n",
       "name                      False\n",
       "description               False\n",
       "host_id                   False\n",
       "host_name                 False\n",
       "host_since                False\n",
       "host_is_superhost         False\n",
       "host_identity_verified    False\n",
       "street                    False\n",
       "neighbourhood_cleansed    False\n",
       "latitude                  False\n",
       "longitude                 False\n",
       "property_type             False\n",
       "room_type                 False\n",
       "accommodates              False\n",
       "bathrooms                 False\n",
       "bedrooms                  False\n",
       "bed_type                  False\n",
       "amenities                 False\n",
       "price                     False\n",
       "minimum_nights            False\n",
       "availability_365          False\n",
       "number_of_reviews         False\n",
       "reviews_per_month         False\n",
       "dtype: bool"
      ]
     },
     "execution_count": 6,
     "metadata": {},
     "output_type": "execute_result"
    }
   ],
   "source": [
    "# Check for columns containing null values\n",
    "df.isnull().any()"
   ]
  },
  {
   "cell_type": "code",
   "execution_count": 5,
   "metadata": {
    "collapsed": false
   },
   "outputs": [],
   "source": [
    "# Fill certain null / missing values\n",
    "df['reviews_per_month'].fillna(value=0.0, inplace=True)\n",
    "df['bathrooms'].fillna(value=0.0, inplace=True)\n",
    "df['bedrooms'].fillna(value=0.0, inplace=True)\n",
    "\n",
    "# Drop entries with certain missing values\n",
    "df.dropna(subset=['id', 'description', 'host_since', 'host_name'], inplace=True)"
   ]
  },
  {
   "cell_type": "code",
   "execution_count": 14,
   "metadata": {
    "collapsed": false,
    "scrolled": false
   },
   "outputs": [],
   "source": [
    "# Delete all existing Listings\n",
    "Listing.objects.all().delete()\n",
    "\n",
    "# Instantiate and save a Listing for each row in the dataframe\n",
    "for index, row in df.iterrows():\n",
    "    point = Point(x=row['longitude'], y=row['latitude'], srid=4326)\n",
    "    \n",
    "    new_listing = Listing(\n",
    "        id = row['id'],\n",
    "        name = row['name'],\n",
    "        point = point,\n",
    "        listing_url = row['listing_url'],\n",
    "        scrape_id = row['scrape_id'],\n",
    "        last_scraped = row['last_scraped'],\n",
    "        description = row['description'],\n",
    "        host_id = row['host_id'],\n",
    "        host_name = row['host_name'],\n",
    "        host_since = row['host_since'],\n",
    "        host_is_superhost = row['host_is_superhost'],\n",
    "        host_identity_verified = row['host_identity_verified'],\n",
    "        neighborhood = Neighborhood.objects.filter(mpoly__contains=point).first(),\n",
    "        neighbourhood_cleansed = row['neighbourhood_cleansed'],\n",
    "        property_type = row['property_type'],\n",
    "        room_type = row['room_type'],\n",
    "        accommodates = row['accommodates'],\n",
    "        bathrooms = row['bathrooms'],\n",
    "        bedrooms = row['bedrooms'],\n",
    "        bed_type = row['bed_type'],\n",
    "        amenities = row['amenities'],\n",
    "        price = row['price'],\n",
    "        minimum_nights = row['minimum_nights'],\n",
    "        availability_365 = row['availability_365'],\n",
    "        number_of_reviews = row['number_of_reviews'],\n",
    "        reviews_per_month = row['reviews_per_month'],\n",
    "        street = row['street']\n",
    "    )\n",
    "    new_listing.save() # commit to DB"
   ]
  },
  {
   "cell_type": "code",
   "execution_count": 21,
   "metadata": {
    "collapsed": false
   },
   "outputs": [
    {
     "name": "stdout",
     "output_type": "stream",
     "text": [
      "9\n",
      "13957732 Wyndham Bonnet Creek 1 Be * Long Beach\n",
      "14282984 Malibu's Finest Villa in  * Malibu\n",
      "14231094 Clean, Comfortable, Great * La Mirada\n",
      "14079456 No frills room Malibu bea * Malibu\n",
      "13936161 The Iconic Malibu Beach C * Malibu\n",
      "14238894 Sunny sailboat on the wat * Redondo Beach\n",
      "14075166 Marilyn Monroes Home 180  * Malibu\n",
      "13896738 Malibu La Costa Beach Hou * Malibu\n",
      "13960487 Private Beach Studio Apar * Long Beach\n"
     ]
    }
   ],
   "source": [
    "# Check the integrity of the geo lookups\n",
    "\n",
    "# For some listings, no neighborhood contained the search point.\n",
    "# How many, and which are they?\n",
    "null_neighborhood_listings = Listing.objects.filter(neighborhood=None)\n",
    "print(null_neighborhood_listings.count())\n",
    "for l in null_neighborhood_listings:\n",
    "    print(l.pk,l.name[:25], '*', l.neighbourhood_cleansed)"
   ]
  },
  {
   "cell_type": "code",
   "execution_count": 26,
   "metadata": {
    "collapsed": false
   },
   "outputs": [
    {
     "name": "stdout",
     "output_type": "stream",
     "text": [
      "0.10094054351248673\n"
     ]
    }
   ],
   "source": [
    "bad_listing = Listing.objects.get(pk=13957732)\n",
    "long_beach = Neighborhood.objects.get(\n",
    "    name=bad_listing.neighbourhood_cleansed\n",
    ")\n",
    "\n",
    "print(long_beach.mpoly.centroid.distance(bad_listing.point))"
   ]
  },
  {
   "cell_type": "code",
   "execution_count": 51,
   "metadata": {
    "collapsed": false
   },
   "outputs": [
    {
     "name": "stderr",
     "output_type": "stream",
     "text": [
      "/Users/shawn/Projects/airbnb/venv/lib/python3.5/site-packages/IPython/core/interactiveshell.py:2717: DtypeWarning: Columns (43) have mixed types. Specify dtype option on import or set low_memory=False.\n",
      "  interactivity=interactivity, compiler=compiler, result=result)\n"
     ]
    }
   ],
   "source": [
    "\"\"\"\n",
    "Build and pickle a dataframe with some additional listing attributes for use in machine learning algorithms.\n",
    "\"\"\"\n",
    "df = pd.read_csv('../res/listings-3-aug-16.csv.gz')\n",
    "extra_cols = [ 'id', 'guests_included', 'extra_people', 'review_scores_rating', \n",
    "              'review_scores_accuracy', 'review_scores_cleanliness', \n",
    "              'review_scores_checkin', 'review_scores_communication', \n",
    "              'review_scores_location', 'review_scores_value', 'cancellation_policy',\n",
    "              'require_guest_phone_verification', 'require_guest_profile_picture',\n",
    "              'instant_bookable'\n",
    "             ]\n",
    "df = df[extra_cols]\n",
    "\n",
    "# Clean up dtypes\n",
    "df['guests_included'] = df.guests_included.astype(np.float64)\n",
    "df['extra_people'] = df.extra_people.apply(lambda x: np.float64(x.replace('$','')))\n",
    "df['require_guest_phone_verification'] = df.require_guest_phone_verification.apply(lambda x: x == 't')\n",
    "df['require_guest_profile_picture'] = df.require_guest_profile_picture.apply(lambda x: x == 't')\n",
    "df['instant_bookable'] = df.instant_bookable.apply(lambda x: x == 't')\n",
    "df = pd.get_dummies(df)\n",
    "\n",
    "# Fill nulls with mean values\n",
    "df = df.fillna(df.mean())\n",
    "\n",
    "# Pickle the dataframe\n",
    "import pickle\n",
    "pickle.dump(df, open('../pickles/listings_extra_df.p', 'wb'))"
   ]
  },
  {
   "cell_type": "code",
   "execution_count": 52,
   "metadata": {
    "collapsed": false
   },
   "outputs": [
    {
     "data": {
      "text/plain": [
       "dtype('int64')"
      ]
     },
     "execution_count": 52,
     "metadata": {},
     "output_type": "execute_result"
    }
   ],
   "source": [
    "df.id.dtype"
   ]
  }
 ],
 "metadata": {
  "kernelspec": {
   "display_name": "Django Shell-Plus",
   "language": "python",
   "name": "django_extensions"
  },
  "language_info": {
   "codemirror_mode": {
    "name": "ipython",
    "version": 3
   },
   "file_extension": ".py",
   "mimetype": "text/x-python",
   "name": "python",
   "nbconvert_exporter": "python",
   "pygments_lexer": "ipython3",
   "version": "3.5.2"
  }
 },
 "nbformat": 4,
 "nbformat_minor": 2
}
