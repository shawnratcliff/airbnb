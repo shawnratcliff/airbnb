{
 "cells": [
  {
   "cell_type": "code",
   "execution_count": 286,
   "metadata": {
    "collapsed": true
   },
   "outputs": [],
   "source": [
    "import pandas as pd\n",
    "import numpy as np"
   ]
  },
  {
   "cell_type": "code",
   "execution_count": 287,
   "metadata": {
    "collapsed": false
   },
   "outputs": [],
   "source": [
    "\n",
    "dtypes = {\n",
    "    'id': np.int64,\n",
    "    'listing_url': str,\n",
    "    'scrape_id': np.int64,\n",
    "    'last_scraped': str, # date\n",
    "    'name': str,\n",
    "    'summary': str,\n",
    "    'description': str,\n",
    "    'host_id': np.int64,\n",
    "    'host_name': str,\n",
    "    'host_since': str, # date\n",
    "    'host_is_superhost': str,\n",
    "    'host_identity_verified': str,\n",
    "    'neighbourhood_cleansed': str,\n",
    "    # 'zipcode': np.int32, --- Can't use ZIP, too dirty\n",
    "    'latitude': np.float64,\n",
    "    'longitude': np.float64,\n",
    "    'property_type': str,\n",
    "    'room_type': str,\n",
    "    'accommodates': np.int16,\n",
    "    'bathrooms': np.float16, # contains NAN values\n",
    "    'bedrooms': np.float16, # contains NAN values\n",
    "    'bed_type': str,\n",
    "    'amenities': str,\n",
    "    'price': str, # $ - need function\n",
    "    'minimum_nights': np.int16,\n",
    "    'availability_365': np.int16,\n",
    "    'number_of_reviews': np.int16,\n",
    "    'reviews_per_month': np.float16\n",
    "}\n",
    "        \n",
    "parse_dates = ['last_scraped', 'host_since']\n",
    "\n",
    "converters = {\n",
    "    'host_is_superhost': lambda x: x == 't',\n",
    "    'host_identity_verified': lambda x: x == 't',\n",
    "    'price': lambda x: float(x.replace('$','').replace(',','')) # convert '$1,000.00' to 1000.00\n",
    "}"
   ]
  },
  {
   "cell_type": "code",
   "execution_count": 289,
   "metadata": {
    "collapsed": false
   },
   "outputs": [
    {
     "name": "stderr",
     "output_type": "stream",
     "text": [
      "/Users/shawn/Projects/airbnb/venv/lib/python3.6/site-packages/IPython/core/interactiveshell.py:2717: DtypeWarning: Columns (43) have mixed types. Specify dtype option on import or set low_memory=False.\n",
      "  interactivity=interactivity, compiler=compiler, result=result)\n"
     ]
    }
   ],
   "source": [
    "df = pd.read_csv(\n",
    "    '../res/listings-3-aug-16.csv.gz', \n",
    "    dtype=dtypes, \n",
    "    parse_dates=parse_dates, \n",
    "    converters=converters\n",
    ")\n"
   ]
  },
  {
   "cell_type": "code",
   "execution_count": 223,
   "metadata": {
    "collapsed": false,
    "scrolled": false
   },
   "outputs": [
    {
     "name": "stdout",
     "output_type": "stream",
     "text": [
      "Index(['id', 'listing_url', 'scrape_id', 'last_scraped', 'name', 'summary',\n",
      "       'space', 'description', 'experiences_offered', 'neighborhood_overview',\n",
      "       'notes', 'transit', 'access', 'interaction', 'house_rules',\n",
      "       'thumbnail_url', 'medium_url', 'picture_url', 'xl_picture_url',\n",
      "       'host_id', 'host_url', 'host_name', 'host_since', 'host_location',\n",
      "       'host_about', 'host_response_time', 'host_response_rate',\n",
      "       'host_acceptance_rate', 'host_is_superhost', 'host_thumbnail_url',\n",
      "       'host_picture_url', 'host_neighbourhood', 'host_listings_count',\n",
      "       'host_total_listings_count', 'host_verifications',\n",
      "       'host_has_profile_pic', 'host_identity_verified', 'street',\n",
      "       'neighbourhood', 'neighbourhood_cleansed',\n",
      "       'neighbourhood_group_cleansed', 'city', 'state', 'zipcode', 'market',\n",
      "       'smart_location', 'country_code', 'country', 'latitude', 'longitude',\n",
      "       'is_location_exact', 'property_type', 'room_type', 'accommodates',\n",
      "       'bathrooms', 'bedrooms', 'beds', 'bed_type', 'amenities', 'square_feet',\n",
      "       'price', 'weekly_price', 'monthly_price', 'security_deposit',\n",
      "       'cleaning_fee', 'guests_included', 'extra_people', 'minimum_nights',\n",
      "       'maximum_nights', 'calendar_updated', 'has_availability',\n",
      "       'availability_30', 'availability_60', 'availability_90',\n",
      "       'availability_365', 'calendar_last_scraped', 'number_of_reviews',\n",
      "       'first_review', 'last_review', 'review_scores_rating',\n",
      "       'review_scores_accuracy', 'review_scores_cleanliness',\n",
      "       'review_scores_checkin', 'review_scores_communication',\n",
      "       'review_scores_location', 'review_scores_value', 'requires_license',\n",
      "       'license', 'jurisdiction_names', 'instant_bookable',\n",
      "       'cancellation_policy', 'require_guest_profile_picture',\n",
      "       'require_guest_phone_verification', 'calculated_host_listings_count',\n",
      "       'reviews_per_month'],\n",
      "      dtype='object')\n"
     ]
    }
   ],
   "source": [
    "print(df.columns)"
   ]
  },
  {
   "cell_type": "code",
   "execution_count": 281,
   "metadata": {
    "collapsed": false
   },
   "outputs": [
    {
     "data": {
      "text/plain": [
       "0                           SPACIOUS LUXURY PENTHOUSE LOFT\n",
       "1                              Stunning Silverlake Classic\n",
       "2                      Hrt of Hollywood/beautiful/spacious\n",
       "3                      Beautiful Designer Home Guest House\n",
       "4                         Luxury Private Bdrm, Bath in MDR\n",
       "5                        Craftsman-style detached bungalow\n",
       "6                                       Clean and Friendly\n",
       "7        Luxury Penthouse Suite in the center of Hollywood\n",
       "8                      Fabulous Nov Sublet - GreatLocation\n",
       "9                                                     WeHo\n",
       "10                         Sporty, Cozy Room in Bellflower\n",
       "11                         One Bedroom House in Silverlake\n",
       "12                     Incredible views - Creative Castle!\n",
       "13                          Amazing & Unique Room For Rent\n",
       "14                        Apartment in Wilshire Selby West\n",
       "15           Private room, super convenient for travelers!\n",
       "16         Sherman Oaks, Valley Glen - top floor apartment\n",
       "17                       Comfy Bedroom & Blissful Bathroom\n",
       "18                                    Convenient Cozy home\n",
       "19                       Large Sunny Studio in Silver Lake\n",
       "20                          Secluded Hollywood Hills Oasis\n",
       "21                           LUXURY APARTMENT/Hancock Park\n",
       "22                                      Lorenzo Apartments\n",
       "23                                      Traveler's retreat\n",
       "24                     Luxury Guest Studio- walk to shops!\n",
       "25                                 Hollywood Hills Mansion\n",
       "26                                      Welcome to my home\n",
       "27                            Hilltop Guesthouse with View\n",
       "28                       Private house with garden & bikes\n",
       "29                        Stunning Beverly Hills Townhouse\n",
       "                               ...                        \n",
       "26050                      Bright two bedroom in Los Feliz\n",
       "26051          Los Feliz/ Silver Lake Music House on Lyric\n",
       "26052                    Los Feliz/ Franklin Hills Retreat\n",
       "26053                            Los Feliz Spanish Getaway\n",
       "26054                          Los Feliz Spanish compound!\n",
       "26055                  Modern Villa in Los Feliz with Pool\n",
       "26056                     Private Oasis in the heart of LA\n",
       "26057                                  Pasadena Dream Home\n",
       "26058                       Enchanting Mediterranean Villa\n",
       "26059                          Celebrity home in the Hills\n",
       "26060                                 Hollywood Sign Views\n",
       "26061                            Silver Lake Mountain Home\n",
       "26062                   Refined Architectural Tuscan Views\n",
       "26063                                     Silver Lake Nest\n",
       "26064                    Silver Lake- Views of Downtown LA\n",
       "26065                          Modern Marvel in Silverlake\n",
       "26066                  Studio City Mid Century Modern Home\n",
       "26067                             Greater Hollywood Escape\n",
       "26068                        Venice Architectural Bungalow\n",
       "26069                                    Venice Surf House\n",
       "26070                          Loft in the Heart of Venice\n",
       "26071                      Dream Penthouse/ WEST HOLLYWOOD\n",
       "26072                             罗兰岗山景超大别墅雅房安全近香港超市Costco\n",
       "26073                               罗兰岗山景别墅二楼雅房近香港超市Costco\n",
       "26074                     罗兰岗山景超大豪华主人房沙发客厅浴缸衣帽间近香港超市Costco\n",
       "26075                            罗兰岗山景豪华超大套房沙发写字台近超市Costco\n",
       "26076                               罗兰岗山景豪华别墅雅房近香港超市Costco\n",
       "26077                  Ocean view Cottage w garage parking\n",
       "26078                       VENICE BEACH, ocean front view\n",
       "26079                   Lrg Apt. Downtown LA view, Pool!  \n",
       "Name: name, dtype: object"
      ]
     },
     "execution_count": 281,
     "metadata": {},
     "output_type": "execute_result"
    }
   ],
   "source": [
    "df['name']"
   ]
  },
  {
   "cell_type": "code",
   "execution_count": null,
   "metadata": {
    "collapsed": true
   },
   "outputs": [],
   "source": []
  }
 ],
 "metadata": {
  "kernelspec": {
   "display_name": "Django Shell-Plus",
   "language": "python",
   "name": "django_extensions"
  },
  "language_info": {
   "codemirror_mode": {
    "name": "ipython",
    "version": 3
   },
   "file_extension": ".py",
   "mimetype": "text/x-python",
   "name": "python",
   "nbconvert_exporter": "python",
   "pygments_lexer": "ipython3",
   "version": "3.6.0"
  }
 },
 "nbformat": 4,
 "nbformat_minor": 2
}
