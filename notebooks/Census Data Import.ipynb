{
 "cells": [
  {
   "cell_type": "code",
   "execution_count": 231,
   "metadata": {
    "collapsed": false
   },
   "outputs": [],
   "source": [
    "import requests\n",
    "import pandas as pd\n",
    "import numpy as np\n",
    "from ast import literal_eval\n",
    "import pickle\n",
    "\n",
    "\"\"\"\n",
    "Summary of tables and concepts available in 2015 ACS 5-year estimates. \n",
    "Also includes detailed variable descriptions, including data collection methods:\n",
    "\n",
    "http://old.socialexplorer.com/pub/reportdata/metabrowser.aspx?survey=ACS2015_5yr&header=True\n",
    "\"\"\"\n",
    "\n",
    "API_KEY = 'c8d52047c115ae3d605397c2e2ab846560365abd'\n",
    "\n",
    "def get_acs_url(variable_names):\n",
    "    return (\n",
    "        'http://api.census.gov/data/2015/acs5'\n",
    "        '?get='\n",
    "        '%s'\n",
    "#       '&for=block+group:*&in=state:06+county:037&key='\n",
    "        '&for=tract:*&in=state:06+county:037&key='\n",
    "#        '&for=zip+code+tabulation+area:*&in=state:06+county:037&key='\n",
    "        '%s'\n",
    "        % (','.join(variable_names), API_KEY)\n",
    "    )\n",
    "\n",
    "def get_acs_data(variable_names):\n",
    "    \"\"\"\n",
    "    Retrieves all values for variable_names for all block groups in Los Angeles County.\n",
    "    Source: American Community Survey, 2015 5-year estimates\n",
    "    @return Pandas dataframe\n",
    "    \"\"\"\n",
    "    # Split variables into sublists of <= 50 vars to comply with API limits\n",
    "    # Then, build and merge dataframes with each set of 50 and return the whole.\n",
    "    var_chunks = [variables[x:x+50] for x in range(0, len(variables), 50)]\n",
    "    for i, chunk in enumerate(var_chunks):\n",
    "        url = get_acs_url(chunk)\n",
    "        data = requests.get(url).json()\n",
    "        \n",
    "        if i == 0:\n",
    "            df = pd.DataFrame(data[1:], columns=data[0])\n",
    "        else:\n",
    "            df = pd.merge(df, pd.DataFrame(data[1:], columns=data[0]))\n",
    "\n",
    "    # Convert cols to numeric types\n",
    "    non_numeric = ('NAME', 'state', 'county', 'tract', 'block group',\n",
    "                   'zip code tabulation area')\n",
    "    for col in df.columns:\n",
    "        if col not in non_numeric:\n",
    "            df[col] = pd.to_numeric(df[col])\n",
    "    return df\n",
    "    \n",
    "def get_variable_metadata(variable_name):\n",
    "    \"\"\"\n",
    "    Retrieves metadata associated with variable_name.\n",
    "    @return dict\n",
    "    \"\"\"\n",
    "    url = ('http://api.census.gov/data/2015/acs5/variables/%s.json' \n",
    "           % variable_name)\n",
    "    return requests.get(url).json()\n",
    "\n",
    "def table_variables(table_name, number_list):\n",
    "    \"\"\"\n",
    "    Generates list of variables by concatenating table_name with each number in number_list.\n",
    "    \"\"\"\n",
    "    return tuple(\n",
    "        '%s_%03dE' % (table_name, num)\n",
    "        for num in number_list\n",
    "    )"
   ]
  },
  {
   "cell_type": "code",
   "execution_count": 164,
   "metadata": {
    "collapsed": false
   },
   "outputs": [],
   "source": [
    "# Variables for 2015 ACS 5-Year Estimates Table\n",
    "variables = (\n",
    "    ()\n",
    "    + ('B01003_001E',) # total population\n",
    "    + ('B01002_001E',) # median age\n",
    "    + table_variables('B01001', range(1,50)) # age brackets by sex\n",
    "    + table_variables('B15003', (1, 21, 22, 23, 24, 25)) # educational attainment (higher ed degrees only)\n",
    "    + ('B19301_001E',) # per capita income\n",
    "    + ('B19013_001E',) # median household income\n",
    "    + table_variables('B19001', range(1,18)) # household income\n",
    "    + ('B25001_001E',) # total housing units\n",
    "    + ('B25077_001E',) # median gross rent\n",
    "    + ('B25064_001E',) # median home value (owner-occupied)\n",
    "    + table_variables('B25002', range(1,4)) # housing vacancy status\n",
    ")"
   ]
  },
  {
   "cell_type": "code",
   "execution_count": 165,
   "metadata": {
    "collapsed": false
   },
   "outputs": [],
   "source": [
    "# Record metadata for each variable (concept, label, data type)\n",
    "variable_info = {\n",
    "    v: get_variable_metadata(v)\n",
    "    for v in variables\n",
    "}\n",
    "\n",
    "# Quick helper function to find variable tags\n",
    "def find_vars(search_key):\n",
    "    return [\n",
    "        variable_info[v]\n",
    "        for v in variable_info.keys()\n",
    "        if search_key.lower() in variable_info[v]['concept'].lower()\n",
    "    ]"
   ]
  },
  {
   "cell_type": "code",
   "execution_count": 166,
   "metadata": {
    "collapsed": false
   },
   "outputs": [],
   "source": [
    "# Get DataFrame\n",
    "df = get_acs_data(variables)\n",
    "\n",
    "# Create FIPS geoid column\n",
    "df['geoid'] = df['state'] + df['county'] + df['tract'] # + df['block group']"
   ]
  },
  {
   "cell_type": "code",
   "execution_count": 167,
   "metadata": {
    "collapsed": false,
    "scrolled": false
   },
   "outputs": [
    {
     "name": "stdout",
     "output_type": "stream",
     "text": [
      "{'concept': 'B01002.  Median Age by Sex',\n",
      " 'label': 'Median age --!!Total:',\n",
      " 'name': 'B01002_001E',\n",
      " 'predicateType': 'int'}\n",
      "{'concept': 'B19301. Per Capita Income in the Past 12 Months (in 2015 '\n",
      "            'Inflation-Adjusted Dollars)',\n",
      " 'label': 'Per capita income in the past 12 months (in 2015 Inflation-adjusted '\n",
      "          'dollars)',\n",
      " 'name': 'B19301_001E',\n",
      " 'predicateType': 'int'}\n",
      "{'concept': 'B19013. Median Household Income in the Past 12 Months (in 2015 '\n",
      "            'Inflation-Adjusted Dollars)',\n",
      " 'label': 'Median household income in the past 12 months (in 2015 '\n",
      "          'Inflation-adjusted dollars)',\n",
      " 'name': 'B19013_001E',\n",
      " 'predicateType': 'int'}\n",
      "{'concept': 'B25077.  Median Value (Dollars) for Owner-Occupied Housing Units',\n",
      " 'label': 'Median value (dollars)',\n",
      " 'name': 'B25077_001E',\n",
      " 'predicateType': 'int'}\n",
      "{'concept': 'B25064.  Median Gross Rent (Dollars)',\n",
      " 'label': 'Median gross rent',\n",
      " 'name': 'B25064_001E',\n",
      " 'predicateType': 'int'}\n"
     ]
    }
   ],
   "source": [
    "# Determine which columns contain null values\n",
    "from pprint import pprint\n",
    "for v in df.columns[df.isnull().any()]:\n",
    "    pprint(variable_info[v])"
   ]
  },
  {
   "cell_type": "code",
   "execution_count": 168,
   "metadata": {
    "collapsed": false,
    "scrolled": false
   },
   "outputs": [
    {
     "data": {
      "text/plain": [
       "353556"
      ]
     },
     "execution_count": 168,
     "metadata": {},
     "output_type": "execute_result"
    }
   ],
   "source": [
    "# Total population within tracts that contain at least 1 null value\n",
    "df[pd.isnull(df).any(axis=1)]['B01003_001E'].sum()"
   ]
  },
  {
   "cell_type": "code",
   "execution_count": 169,
   "metadata": {
    "collapsed": false
   },
   "outputs": [
    {
     "data": {
      "text/plain": [
       "0.035220395944049979"
      ]
     },
     "execution_count": 169,
     "metadata": {},
     "output_type": "execute_result"
    }
   ],
   "source": [
    "# Percent of population within tracts that contain at least 1 null value\n",
    "df[pd.isnull(df).any(axis=1)]['B01003_001E'].sum() / df['B01003_001E'].sum()"
   ]
  },
  {
   "cell_type": "code",
   "execution_count": 170,
   "metadata": {
    "collapsed": false,
    "scrolled": false
   },
   "outputs": [],
   "source": [
    "# Add neighborhood relationships to dataframe\n",
    "data = [[t.geoid, t.neighborhood_id]\n",
    "        for t in Tract.objects.all()]\n",
    "df2 = pd.DataFrame(data, columns=('geoid', 'neighborhood_id'))\n",
    "df = pd.merge(df, df2)\n",
    "\n",
    "# Pickle the data and metadata\n",
    "census_data = {\n",
    "    'variable_info': variable_info,\n",
    "    'dataframe': df\n",
    "}\n",
    "pickle.dump(census_data, open('../pickles/census_data.p', 'wb'))"
   ]
  },
  {
   "cell_type": "code",
   "execution_count": 171,
   "metadata": {
    "collapsed": false
   },
   "outputs": [
    {
     "name": "stdout",
     "output_type": "stream",
     "text": [
      "Tract population sum: 30892\n",
      "LA Times: {'population_latimes_2000_census': 33829}\n"
     ]
    }
   ],
   "source": [
    "# Test an aggregation: estimate the population of Beverly Hills\n",
    "print('Tract population sum:', df[df['neighborhood_id'] == 35]['B01003_001E'].sum())\n",
    "print('LA Times:', Neighborhood.objects.get(pk=35).fixed_data)"
   ]
  },
  {
   "cell_type": "code",
   "execution_count": 365,
   "metadata": {
    "collapsed": false,
    "scrolled": false
   },
   "outputs": [],
   "source": [
    "TRACT_DATA = pickle.load(open('../pickles/census_data.p', 'rb'))\n",
    "def _neighborhood_weighted_avg(total_field, value_fields, neighborhood_id=None, make_percent=False):\n",
    "    \"\"\"\n",
    "    Compute weighted average of statistic for neighborhood, by aggregating from tract-level data.\n",
    "    If no neighborhood_id is supplied, aggregates all tracts in all neighborhoods.\n",
    "    Note: returns None if total_field column summation is not > 0\n",
    "    @param total_field: the applicable totals field (e.g., total population in tract)\n",
    "    @param value_fields: a list of variable names to be added together to produce the value of interest. (For a single value, use a list of one element.)\n",
    "    @param neighborhood_id: the neighborhood id to select\n",
    "    @param make_percent: convert count-based target values to decimal fractions\n",
    "    \"\"\"\n",
    "    df = TRACT_DATA\n",
    "    if neighborhood_id:\n",
    "        nhood = df[df['neighborhood_id'] == neighborhood_id] # select all rows with neighborhood_id\n",
    "    else:\n",
    "        nhood = df # select all rows\n",
    "    weights = nhood[total_field] / nhood[total_field].sum()\n",
    "    if not nhood[total_field].sum() > 0:\n",
    "        return None\n",
    "\n",
    "    # Produce a 'values' series by adding all the values in value_fields\n",
    "    values = nhood[value_fields[0]].copy()\n",
    "    for field in value_fields[1:]:\n",
    "        values += nhood[field]\n",
    "\n",
    "    if (make_percent):\n",
    "        # Return the weighted sum of all target values, each divided by the applicable total\n",
    "        return_val = ((values / nhood[total_field]) * weights).sum()\n",
    "    else:\n",
    "        # Return the weighted sum of all target values\n",
    "        return_val = (values * weights).sum()\n",
    "    if np.isnan(return_val):\n",
    "        return None\n",
    "    else:\n",
    "        return return_val\n"
   ]
  },
  {
   "cell_type": "code",
   "execution_count": 367,
   "metadata": {
    "collapsed": false
   },
   "outputs": [
    {
     "data": {
      "text/plain": [
       "{'median_age': 24.325586944479955,\n",
       " 'median_gross_rent': 914.80923238328364,\n",
       " 'median_home_value_owner_occupied': 214130.22381535231,\n",
       " 'median_household_income': 29416.040328130897,\n",
       " 'per_capita_income': 9167.1580382632401,\n",
       " 'percent_age_0_17': 0.37915974263922625,\n",
       " 'percent_age_18_34': 0.27338190804891566,\n",
       " 'percent_age_35_49': 0.18645873279645489,\n",
       " 'percent_age_50_64': 0.10908006306191147,\n",
       " 'percent_age_65_up': 0.051919553453491842,\n",
       " 'percent_associate_degree': 0.033411514802849936,\n",
       " 'percent_bachelors_degree': 0.030358012125503386,\n",
       " 'percent_bachelors_or_higher': 0.03637651015621543,\n",
       " 'percent_doctoral_degree': 0.0,\n",
       " 'percent_homes_vacant': 0.071253715684560237,\n",
       " 'percent_masters_degree': 0.0040713369031287342,\n",
       " 'percent_professional_degree': 0.0019471611275833076}"
      ]
     },
     "execution_count": 367,
     "metadata": {},
     "output_type": "execute_result"
    }
   ],
   "source": [
    "\"\"\"\n",
    "Compute stats for neighborhoods. To avoid a lot of boilerplate code,\n",
    "we'll define a dict that encapsulates the settings for each stat\n",
    "that's automatable. (Some others may require a custom approach.)\n",
    "\n",
    "Totals fields:\n",
    "\n",
    "'B25001_001E' # total num. of housing units\n",
    "'B25002_001E' # total housing units for vacancy status\n",
    "'B01003_001E' # total population\n",
    "'B15003_001E' # total pop for educational attainment\n",
    "'B19001_001E' # total num. of households\n",
    "\n",
    "Target fields:\n",
    "\n",
    "'B01002_001E' # median age\n",
    "'B19301_001E' # per capita income\n",
    "'B15003_021E' # educat attain: assoc degree (%)\n",
    "'B15003_022E' # educat attain: bachelor's degree (%)\n",
    "'B15003_023E' # educat attain: masters degree (%)\n",
    "'B15003_024E' # educat attain: professional school (%)\n",
    "'B15003_025E' # educat attain: doctorate degree (%)\n",
    "'B19013_001E' # median household income\n",
    "\n",
    "'B25064_001E' # median gross rent\n",
    "'B25064_001E' # median home value (owner-occupied)\n",
    "'B25002_003E' # vacant homes (%)\n",
    "\n",
    "\"\"\"\n",
    "\n",
    "age_vars = [\n",
    "    ['B01001_003E', 'B01001_004E', 'B01001_005E', 'B01001_006E', 'B01001_027E',\n",
    "     'B01001_028E', 'B01001_029E', 'B01001_030E'], # 0-17\n",
    "    ['B01001_007E', 'B01001_008E', 'B01001_009E', 'B01001_010E', 'B01001_011E', 'B01001_012E',\n",
    "     'B01001_031E', 'B01001_032E', 'B01001_033E', 'B01001_034E', 'B01001_035E', 'B01001_036E'], # 18-34\n",
    "    ['B01001_013E', 'B01001_014E', 'B01001_015E', 'B01001_037E', 'B01001_038E', 'B01001_039E'], # 35-49\n",
    "    ['B01001_016E', 'B01001_017E', 'B01001_018E', 'B01001_019E', 'B01001_040E', 'B01001_041E',\n",
    "     'B01001_042E', 'B01001_043E'], # 50-64\n",
    "    ['B01001_020E', 'B01001_021E', 'B01001_022E', 'B01001_023E', 'B01001_024E', 'B01001_025E',\n",
    "     'B01001_044E', 'B01001_045E', 'B01001_046E', 'B01001_047E', 'B01001_048E', 'B01001_049E'] # 65+\n",
    "]\n",
    "\n",
    "stats_meta = {\n",
    "    'median_age': {\n",
    "        'total_field': 'B01003_001E',\n",
    "        'target_fields': ['B01002_001E',],\n",
    "        'make_percent': False\n",
    "    },\n",
    "    'percent_age_0_17': {\n",
    "        'total_field': 'B01003_001E',\n",
    "        'target_fields': age_vars[0],\n",
    "        'make_percent': True\n",
    "    },\n",
    "    'percent_age_18_34': {\n",
    "        'total_field': 'B01003_001E',\n",
    "        'target_fields': age_vars[1],\n",
    "        'make_percent': True\n",
    "    },\n",
    "    'percent_age_35_49': {\n",
    "        'total_field': 'B01003_001E',\n",
    "        'target_fields': age_vars[2],\n",
    "        'make_percent': True\n",
    "    },\n",
    "    'percent_age_50_64': {\n",
    "        'total_field': 'B01003_001E',\n",
    "        'target_fields': age_vars[3],\n",
    "        'make_percent': True\n",
    "    },\n",
    "    'percent_age_65_up': {\n",
    "        'total_field': 'B01003_001E',\n",
    "        'target_fields': age_vars[4],\n",
    "        'make_percent': True\n",
    "    },    \n",
    "    'per_capita_income': {\n",
    "        'total_field': 'B01003_001E',\n",
    "        'target_fields': ['B19301_001E',],\n",
    "        'make_percent': False\n",
    "    },\n",
    "    'median_household_income': {\n",
    "        'total_field': 'B19301_001E',\n",
    "        'target_fields': ['B19013_001E',],\n",
    "        'make_percent': False\n",
    "    },\n",
    "    'median_gross_rent': {\n",
    "        'total_field': 'B25001_001E',\n",
    "        'target_fields': ['B25064_001E',],\n",
    "        'make_percent': False\n",
    "    },\n",
    "    'median_home_value_owner_occupied': {\n",
    "        'total_field': 'B25001_001E',\n",
    "        'target_fields': ['B25077_001E'],\n",
    "        'make_percent': False\n",
    "    },\n",
    "    'percent_homes_vacant': {\n",
    "        'total_field': 'B25002_001E',\n",
    "        'target_fields': ['B25002_003E',],\n",
    "        'make_percent': True\n",
    "    },\n",
    "    'percent_associate_degree': {\n",
    "        'total_field': 'B15003_001E',\n",
    "        'target_fields': ['B15003_021E',],\n",
    "        'make_percent': True\n",
    "    },\n",
    "    'percent_bachelors_degree': {\n",
    "        'total_field': 'B15003_001E',\n",
    "        'target_fields': ['B15003_022E',],\n",
    "        'make_percent': True\n",
    "    },\n",
    "    'percent_masters_degree': {\n",
    "        'total_field': 'B15003_001E',\n",
    "        'target_fields': ['B15003_023E',],\n",
    "        'make_percent': True\n",
    "    },\n",
    "    'percent_professional_degree': {\n",
    "        'total_field': 'B15003_001E',\n",
    "        'target_fields': ['B15003_024E',],\n",
    "        'make_percent': True\n",
    "    },\n",
    "    'percent_doctoral_degree': {\n",
    "        'total_field': 'B15003_001E',\n",
    "        'target_fields': ['B15003_025E',],\n",
    "        'make_percent': True\n",
    "    },\n",
    "    'percent_bachelors_or_higher': {\n",
    "        'total_field': 'B15003_001E',\n",
    "        'target_fields': ['B15003_022E', 'B15003_023E', 'B15003_024E', 'B15003_025E'],\n",
    "        'make_percent': True\n",
    "    }\n",
    "}\n",
    "\n",
    "def compute_stats(neighborhood):\n",
    "    return {\n",
    "        k: neighborhood_weighted_avg(\n",
    "            total_field=stats_meta[k]['total_field'],\n",
    "            target_fields=stats_meta[k]['target_fields'],\n",
    "            neighborhood_id=neighborhood.id,\n",
    "            make_percent=stats_meta[k]['make_percent']\n",
    "        )\n",
    "        for k in stats_meta.keys()\n",
    "    }\n",
    "\n",
    "compute_stats(Neighborhood.objects.get(name=\"Watts\"))"
   ]
  },
  {
   "cell_type": "code",
   "execution_count": 368,
   "metadata": {
    "collapsed": false
   },
   "outputs": [
    {
     "name": "stdout",
     "output_type": "stream",
     "text": [
      "Angeles Crest *Hasley Canyon *Arcadia *Beverly Hills *Castaic *Castaic Canyons *Azusa *Cerritos *Chatsworth *Calabasas *Carson *Culver City *Claremont *Compton *Covina *East San Gabriel *Glendale *Florence *East Compton *East Los Angeles *El Monte *Jefferson Park *Lennox *La Cañada Flintridge *Harbor Gateway *Hancock Park *Irwindale *La Verne *La Mirada *Lancaster *Long Beach *Northeast Antelope Valley *Malibu *Pico-Robertson *Palmdale *Monrovia *Montebello *Elysian Valley *Palos Verdes Estates *Pasadena *Pico Rivera *Rancho Palos Verdes *Redondo Beach *Ramona *Ridge Route *Rolling Hills Estates *Rosemead *San Dimas *San Gabriel *San Pedro *Santa Clarita *Santa Fe Springs *Southeast Antelope Valley *Vermont Vista *Stevenson Ranch *Sun Village *Topanga *Torrance *Tujunga Canyons *Unincorporated Catalina Island *Unincorporated Santa Monica Mountains *Unincorporated Santa Susana Mountains *Northwest Palmdale *Whittier *Westlake Village *West Covina *Wilmington *View Park-Windsor Hills *Pomona *Northwest Antelope Valley *Hawthorne *Industry *Leona Valley *Cheviot Hills *Chesterfield Square *Panorama City *Montecito Heights *West Los Angeles *Bellflower *East La Mirada *Hansen Dam *Beverly Grove *Harvard Park *Carthay *Manchester Square *Bradbury *Adams-Normandie *Bel-Air *Hidden Hills *Veterans Administration *North Hills *Chinatown *South Park *Sun Valley *Artesia *Sawtelle *Lake Balboa *Cypress Park *Central-Alameda *Northridge *Valley Glen *Green Valley *San Fernando *Walnut Park *Exposition Park *South San Jose Hills *Mount Washington *Fairfax *East Hollywood *West Carson *Hollywood *Acton *Granada Hills *Quartz Hill *Van Nuys *Boyle Heights *Larchmont *Mayflower Village *Leimert Park *Hawaiian Gardens *Lake Los Angeles *Arlington Heights *Mission Hills *Century City *Vermont Knolls *South Pasadena *Winnetka *Griffith Park *Bell Gardens *Agoura Hills *Canoga Park *Agua Dulce *Temple City *El Sereno *Rolling Hills *Tarzana *Alhambra *San Marino *Altadena *West San Dimas *Chatsworth Reservoir *Avalon *El Segundo *Valinda *Palms *Elysian Park *Reseda *Vermont Square *Avocado Heights *West Adams *Studio City *Baldwin Hills/Crenshaw *Signal Hill *Broadway-Manchester *Baldwin Park *Universal City *Venice *Arleta *Gramercy Park *Toluca Lake *Bell *Sepulveda Basin *Inglewood *Sunland *Watts *Beverly Crest *Brentwood *Westwood *Westlake *Burbank *Charter Oak *Citrus *Commerce *Del Rey *Desert View Highlands *Diamond Bar *Sherman Oaks *Downey *Duarte *Eagle Rock *Encino *Florence-Firestone *Westmont *Gardena *North Hollywood *Atwater Village *Lincoln Heights *Cudahy *Vincent *Rancho Dominguez *Glendora *Hacienda Heights *Hermosa Beach *Windsor Square *Green Meadows *Pico-Union *Hollywood Hills *Koreatown *North El Monte *Vermont-Slauson *Highland Park *Shadow Hills *Porter Ranch *University Park *Hollywood Hills West *Huntington Park *Mid-City *La Crescenta-Montrose *Echo Park *Ladera Heights *La Habra Heights *Lake Hughes *Mid-Wilshire *West Hills *Lake View Terrace *Lakewood *La Puente *Lopez/Kagel Canyons *Lynwood *Manhattan Beach *Monterey Park *North Whittier *Val Verde *West Compton *Norwalk *Pacific Palisades *Paramount *Playa del Rey *Sierra Madre *Tujunga *Littlerock *Vernon *San Pasqual *East Pasadena *Lawndale *South Gate *Alondra Park *Del Aire *Rowland Heights *Santa Monica *South El Monte *South San Gabriel *Rancho Park *Maywood *Harbor City *Pacoima *South Whittier *Sylmar *Walnut *Westchester *West Hollywood *West Puente Valley *West Whittier-Los Nietos *Whittier Narrows *Willowbrook *Woodland Hills *Lomita *Valley Village *Glassell Park *Los Feliz *Silver Lake *Marina del Rey *Playa Vista *Harvard Heights *Historic South-Central *Beverlywood *Mar Vista *Downtown *Hyde Park *South Diamond Bar *Elizabeth Lake *Athens *"
     ]
    }
   ],
   "source": [
    "# Compute stats for each Neighborhood, and save on the model\n",
    "for n in Neighborhood.objects.all():\n",
    "    stats = compute_stats(n)\n",
    "    for key, value in stats.items():\n",
    "        n.fixed_data[key] = value\n",
    "    n.save()\n",
    "    print(n.name, '*', end='')"
   ]
  },
  {
   "cell_type": "code",
   "execution_count": 369,
   "metadata": {
    "collapsed": false
   },
   "outputs": [
    {
     "data": {
      "text/plain": [
       "{'avg_estimated_bookings_per_listing_per_month': 4.34049479166666,\n",
       " 'avg_estimated_revenue_per_listing_per_month': 5307.615234375,\n",
       " 'avg_host_experience_years': 0.543310082435003,\n",
       " 'avg_listing_price': 451.0,\n",
       " 'crime_count': 842,\n",
       " 'crimes_per_capita': 0.1291015026065624,\n",
       " 'listing_count': 3,\n",
       " 'median_age': 45.1756062767475,\n",
       " 'median_gross_rent': 670.6654991243432,\n",
       " 'median_home_value_owner_occupied': 415123.50262697024,\n",
       " 'median_household_income': 83798.29791631277,\n",
       " 'per_capita_income': 34437.263908701854,\n",
       " 'percent_age_0_17': 0.20256776034236804,\n",
       " 'percent_age_18_34': 0.18454156399948127,\n",
       " 'percent_age_35_49': 0.1990662689664116,\n",
       " 'percent_age_50_64': 0.27791466735831927,\n",
       " 'percent_age_65_up': 0.1359097393334198,\n",
       " 'percent_associate_degree': 0.10245824732595235,\n",
       " 'percent_bachelors_degree': 0.16513417151435544,\n",
       " 'percent_bachelors_or_higher': 0.2782886094952149,\n",
       " 'percent_doctoral_degree': 0.013698630136986302,\n",
       " 'percent_homes_vacant': 0.09737302977232926,\n",
       " 'percent_masters_degree': 0.08707074498029649,\n",
       " 'percent_professional_degree': 0.012385062863576657,\n",
       " 'population_latimes_2000_census': 6522,\n",
       " 'total_estimated_bookings_per_month': 6.5107421875}"
      ]
     },
     "execution_count": 369,
     "metadata": {},
     "output_type": "execute_result"
    }
   ],
   "source": [
    "Neighborhood.objects.first().data"
   ]
  },
  {
   "cell_type": "code",
   "execution_count": 232,
   "metadata": {
    "collapsed": true
   },
   "outputs": [],
   "source": [
    "q=Listing.objects.filter(price__lt=300)"
   ]
  },
  {
   "cell_type": "code",
   "execution_count": 262,
   "metadata": {
    "collapsed": false
   },
   "outputs": [
    {
     "data": {
      "text/plain": [
       "<QuerySet [{'room_type': 'Entire home/apt', 'percent': 0.5368285345938977}, {'room_type': 'Private room', 'percent': 0.40820799312419426}, {'room_type': 'Shared room', 'percent': 0.05496347228190804}]>"
      ]
     },
     "execution_count": 262,
     "metadata": {},
     "output_type": "execute_result"
    }
   ],
   "source": [
    "from django.db.models.expressions import ExpressionWrapper\n",
    "from django.db.models import FloatField\n",
    "q.values_list('room_type').distinct().order_by('room_type').annotate(\n",
    "    percent=ExpressionWrapper(Count('room_type') * 1.0 / q.count(), output_field=FloatField())\n",
    ")"
   ]
  },
  {
   "cell_type": "code",
   "execution_count": 280,
   "metadata": {
    "collapsed": false
   },
   "outputs": [],
   "source": [
    "z=q.values_list('room_type').distinct().annotate(percent=ExpressionWrapper(Count('room_type') * 1.0 / q.count(), output_field=FloatField()))"
   ]
  },
  {
   "cell_type": "code",
   "execution_count": 295,
   "metadata": {
    "collapsed": false
   },
   "outputs": [
    {
     "data": {
      "text/plain": [
       "{'Airbed': 0.00954018048990116,\n",
       " 'Couch': 0.006574989256553502,\n",
       " 'Futon': 0.015040825096691019,\n",
       " 'Pull-out Sofa': 0.009669101847872797,\n",
       " 'Real Bed': 0.9591749033089815}"
      ]
     },
     "execution_count": 295,
     "metadata": {},
     "output_type": "execute_result"
    }
   ],
   "source": [
    "dict(q.values_list('bed_type').distinct().annotate(percent=ExpressionWrapper(Count('room_type') * 1.0 / q.count(), output_field=FloatField())))"
   ]
  },
  {
   "cell_type": "code",
   "execution_count": 338,
   "metadata": {
    "collapsed": false
   },
   "outputs": [
    {
     "data": {
      "text/plain": [
       "[('24-Hour Check-in', 0.32303394929093254),\n",
       " ('Air Conditioning', 0.6756338633433605),\n",
       " ('Breakfast', 0.10421143102707349),\n",
       " ('Buzzer/Wireless Intercom', 0.10739149119037388),\n",
       " ('Cable TV', 0.37116458960034376),\n",
       " ('Carbon Monoxide Detector', 0.5884400515685432),\n",
       " ('Cat(s)', 0.06923076923076923),\n",
       " ('Dog(s)', 0.1329608938547486),\n",
       " ('Doorman', 0.030984099699183497),\n",
       " ('Dryer', 0.7371293510958316),\n",
       " ('Elevator in Building', 0.20550064460678985),\n",
       " ('Essentials', 0.8186076493339063),\n",
       " ('Family/Kid Friendly', 0.5128921357971638),\n",
       " ('Fire Extinguisher', 0.4322733132788999),\n",
       " ('First Aid Kit', 0.3971207563386334),\n",
       " ('Free Parking on Premises', 0.6368285345938978),\n",
       " ('Gym', 0.1293940696175333),\n",
       " ('Hair Dryer', 0.48831113021057154),\n",
       " ('Hangers', 0.5601203266007735),\n",
       " ('Heating', 0.8462397937258272),\n",
       " ('Hot Tub', 0.16587881392350667),\n",
       " ('Indoor Fireplace', 0.1954877524709927),\n",
       " ('Internet', 0.7303824666953158),\n",
       " ('Iron', 0.46832831972496775),\n",
       " ('Kitchen', 0.8908895573700043),\n",
       " ('Laptop Friendly Workspace', 0.5006875805758487),\n",
       " ('Lock on Bedroom Door', 0.13966480446927373),\n",
       " ('Other pet(s)', 0.011817791147400086),\n",
       " ('Pets Allowed', 0.17253975075204125),\n",
       " ('Pets live on this property', 0.20425440481306403),\n",
       " ('Pool', 0.2120326600773528),\n",
       " ('Safety Card', 0.15569402664374732),\n",
       " ('Shampoo', 0.6752470992694456),\n",
       " ('Smoke Detector', 0.8097120756338634),\n",
       " ('Smoking Allowed', 0.08345509239363988),\n",
       " ('Suitable for Events', 0.06691018478727975),\n",
       " ('TV', 0.725741297808337),\n",
       " ('Washer', 0.745595186935969),\n",
       " ('Washer / Dryer', 0.00047271164589600346),\n",
       " ('Wheelchair Accessible', 0.09591749033089815),\n",
       " ('Wireless Internet', 0.9524709926944563),\n",
       " (None, 0.0)]"
      ]
     },
     "execution_count": 338,
     "metadata": {},
     "output_type": "execute_result"
    }
   ],
   "source": [
    "list(q.values_list('amenities__name').distinct().order_by('amenities__name').annotate(\n",
    "                    percent=ExpressionWrapper(Count('amenities__name') * 1.0 / q.count(), output_field=FloatField())))"
   ]
  },
  {
   "cell_type": "code",
   "execution_count": 332,
   "metadata": {
    "collapsed": false
   },
   "outputs": [
    {
     "data": {
      "text/plain": [
       "24860"
      ]
     },
     "execution_count": 332,
     "metadata": {},
     "output_type": "execute_result"
    }
   ],
   "source": [
    "Amenity.objects.get(name='Wireless Internet').listing_set.count()"
   ]
  },
  {
   "cell_type": "code",
   "execution_count": 341,
   "metadata": {
    "collapsed": false
   },
   "outputs": [
    {
     "data": {
      "text/plain": [
       "{'one': 1, 'two': 2}"
      ]
     },
     "execution_count": 341,
     "metadata": {},
     "output_type": "execute_result"
    }
   ],
   "source": [
    "obj={'one': 1, 'two': 2}\n",
    "json.loads(json.dumps(obj))"
   ]
  },
  {
   "cell_type": "code",
   "execution_count": 344,
   "metadata": {
    "collapsed": false,
    "scrolled": false
   },
   "outputs": [
    {
     "data": {
      "text/plain": [
       "{'listings': {'amenities_distribution': {'array_labels': ['24-Hour Check-in',\n",
       "    'Air Conditioning',\n",
       "    'Breakfast',\n",
       "    'Buzzer/Wireless Intercom',\n",
       "    'Cable TV',\n",
       "    'Carbon Monoxide Detector',\n",
       "    'Cat(s)',\n",
       "    'Dog(s)',\n",
       "    'Doorman',\n",
       "    'Dryer',\n",
       "    'Elevator in Building',\n",
       "    'Essentials',\n",
       "    'Family/Kid Friendly',\n",
       "    'Fire Extinguisher',\n",
       "    'First Aid Kit',\n",
       "    'Free Parking on Premises',\n",
       "    'Gym',\n",
       "    'Hair Dryer',\n",
       "    'Hangers',\n",
       "    'Heating',\n",
       "    'Hot Tub',\n",
       "    'Indoor Fireplace',\n",
       "    'Internet',\n",
       "    'Iron',\n",
       "    'Kitchen',\n",
       "    'Laptop Friendly Workspace',\n",
       "    'Lock on Bedroom Door',\n",
       "    'Other pet(s)',\n",
       "    'Pets Allowed',\n",
       "    'Pets live on this property',\n",
       "    'Pool',\n",
       "    'Safety Card',\n",
       "    'Shampoo',\n",
       "    'Smoke Detector',\n",
       "    'Smoking Allowed',\n",
       "    'Suitable for Events',\n",
       "    'TV',\n",
       "    'Washer',\n",
       "    'Washer / Dryer',\n",
       "    'Wheelchair Accessible',\n",
       "    'Wireless Internet'],\n",
       "   'comp_avg': [0.32949750671269656,\n",
       "    0.6829305715381665,\n",
       "    0.10322209436133487,\n",
       "    0.11415420023014959,\n",
       "    0.4002301495972382,\n",
       "    0.5919064058304565,\n",
       "    0.06547756041426928,\n",
       "    0.1263137706175681,\n",
       "    0.031952435749904105,\n",
       "    0.7532029152282317,\n",
       "    0.20019179133103185,\n",
       "    0.8204833141542003,\n",
       "    0.5439969313387035,\n",
       "    0.4414652857690832,\n",
       "    0.4018028385116993,\n",
       "    0.6598772535481396,\n",
       "    0.13156885308784044,\n",
       "    0.49685462217107784,\n",
       "    0.566283084004603,\n",
       "    0.8540084388185654,\n",
       "    0.18546221710778674,\n",
       "    0.2345607978519371,\n",
       "    0.737054085155351,\n",
       "    0.47836593785960874,\n",
       "    0.898542385884158,\n",
       "    0.5081319524357499,\n",
       "    0.13271960107403144,\n",
       "    0.011507479861910242,\n",
       "    0.18400460299194477,\n",
       "    0.19332566168009205,\n",
       "    0.22846183352512467,\n",
       "    0.16010740314537783,\n",
       "    0.674645186037591,\n",
       "    0.8098964326812428,\n",
       "    0.08170310701956271,\n",
       "    0.08519370924434215,\n",
       "    0.7422324510932106,\n",
       "    0.7612965093977753,\n",
       "    0.0004986574606827771,\n",
       "    0.09973149213655542,\n",
       "    0.9535864978902954],\n",
       "   'meta': 'Value is decimal proportion. Arrays are parallel.',\n",
       "   'value': [0.22627544277028813,\n",
       "    0.6297911710282844,\n",
       "    0.13111287338091462,\n",
       "    0.07586571504097277,\n",
       "    0.225350251123447,\n",
       "    0.535289452815226,\n",
       "    0.08696801480306635,\n",
       "    0.14485857784826858,\n",
       "    0.010837959291567539,\n",
       "    0.7122653978324082,\n",
       "    0.14062913031985197,\n",
       "    0.7759714512291832,\n",
       "    0.359106529209622,\n",
       "    0.40378006872852235,\n",
       "    0.4077451757864129,\n",
       "    0.5611948189267777,\n",
       "    0.08181337562780862,\n",
       "    0.40232619614062914,\n",
       "    0.5046259582342056,\n",
       "    0.7791435368754956,\n",
       "    0.14195083267248215,\n",
       "    0.18226275442770287,\n",
       "    0.6564895585514142,\n",
       "    0.38673010837959293,\n",
       "    0.8446999735659529,\n",
       "    0.4343113930742797,\n",
       "    0.21596616441977268,\n",
       "    0.013217023526301877,\n",
       "    0.12424002114723764,\n",
       "    0.24834787205921227,\n",
       "    0.17657943431139309,\n",
       "    0.1415543219666931,\n",
       "    0.6110229976209358,\n",
       "    0.7730637060533968,\n",
       "    0.11102299762093576,\n",
       "    0.05551149881046788,\n",
       "    0.5730901401004493,\n",
       "    0.7268041237113402,\n",
       "    0.0003965107057890563,\n",
       "    0.054321966693100715,\n",
       "    0.9377478191911182]},\n",
       "  'bed_type_distribution': {'comp_avg': [0.006329113924050633,\n",
       "    0.008822401227464518,\n",
       "    0.9624472573839662,\n",
       "    0.013617184503260453,\n",
       "    0.008784042961258152],\n",
       "   'meta': \"Arrays indexed as: [0] 'Couch', [1] 'Airbed', [2] 'Real Bed', [3] 'Futon', [4] 'Pull-out Sofa'.\",\n",
       "   'value': [0.015596087761036215,\n",
       "    0.021675918583135077,\n",
       "    0.9181866243721913,\n",
       "    0.029209621993127148,\n",
       "    0.015331747290510176]},\n",
       "  'count': {'comp_total': 26070,\n",
       "   'meta': 'Value represents the # of listings that matched the filter criteria. Comp_total is the total # of listings in LA. Ex: 4531 out of 26070 selected.',\n",
       "   'value': 7566},\n",
       "  'meta': 'Comp_avg is the average value for all listings in LA (for comparison graphs). Z score can be used to programmatically display messages such as, \"about average for Los Angeles Airbnb listings\" ( -0.5 to 0.5, eg.)',\n",
       "  'room_type_distribution': {'comp_avg': [0.5822401227464519,\n",
       "    0.36800920598388953,\n",
       "    0.04975067126965861],\n",
       "   'meta': 'Arrays indexed as: [0] Entire home/apt, [1] Private room, [2] Shared room. ',\n",
       "   'value': [0.12093576526566217, 0.7278614855934443, 0.15120274914089346]}}}"
      ]
     },
     "execution_count": 344,
     "metadata": {},
     "output_type": "execute_result"
    }
   ],
   "source": [
    "filters = {\n",
    "    'numerical_range': [\n",
    "        {\n",
    "            'attribute_name': 'price',\n",
    "            'min': None,\n",
    "            'max': 75.00\n",
    "        },\n",
    "    ],\n",
    "}\n",
    "\n",
    "r=requests.post('http://localhost:8000/api/listings/stats/', json={'filters': filters})\n",
    "r.json()"
   ]
  },
  {
   "cell_type": "code",
   "execution_count": null,
   "metadata": {
    "collapsed": true
   },
   "outputs": [],
   "source": [
    "\"\"\"\n",
    "Prepare extra columns for ML\n",
    "\"\"\"\n",
    "age_vars = [\n",
    "    ['B01001_003E', 'B01001_004E', 'B01001_005E', 'B01001_006E', 'B01001_027E',\n",
    "     'B01001_028E', 'B01001_029E', 'B01001_030E'], # 0-17\n",
    "    ['B01001_007E', 'B01001_008E', 'B01001_009E', 'B01001_010E', 'B01001_011E', 'B01001_012E',\n",
    "     'B01001_031E', 'B01001_032E', 'B01001_033E', 'B01001_034E', 'B01001_035E', 'B01001_036E'], # 18-34\n",
    "    ['B01001_013E', 'B01001_014E', 'B01001_015E', 'B01001_037E', 'B01001_038E', 'B01001_039E'], # 35-49\n",
    "    ['B01001_016E', 'B01001_017E', 'B01001_018E', 'B01001_019E', 'B01001_040E', 'B01001_041E',\n",
    "     'B01001_042E', 'B01001_043E'], # 50-64\n",
    "    ['B01001_020E', 'B01001_021E', 'B01001_022E', 'B01001_023E', 'B01001_024E', 'B01001_025E',\n",
    "     'B01001_044E', 'B01001_045E', 'B01001_046E', 'B01001_047E', 'B01001_048E', 'B01001_049E'] # 65+\n",
    "]\n",
    "\n",
    "stats_meta = {\n",
    "    'median_age': {\n",
    "        'total_field': 'B01003_001E',\n",
    "        'target_fields': ['B01002_001E',],\n",
    "        'make_percent': False\n",
    "    },\n",
    "    'percent_age_0_17': {\n",
    "        'total_field': 'B01003_001E',\n",
    "        'target_fields': age_vars[0],\n",
    "        'make_percent': True\n",
    "    },\n",
    "    'percent_age_18_34': {\n",
    "        'total_field': 'B01003_001E',\n",
    "        'target_fields': age_vars[1],\n",
    "        'make_percent': True\n",
    "    },\n",
    "    'percent_age_35_49': {\n",
    "        'total_field': 'B01003_001E',\n",
    "        'target_fields': age_vars[2],\n",
    "        'make_percent': True\n",
    "    },\n",
    "    'percent_age_50_64': {\n",
    "        'total_field': 'B01003_001E',\n",
    "        'target_fields': age_vars[3],\n",
    "        'make_percent': True\n",
    "    },\n",
    "    'percent_age_65_up': {\n",
    "        'total_field': 'B01003_001E',\n",
    "        'target_fields': age_vars[4],\n",
    "        'make_percent': True\n",
    "    },    \n",
    "    'per_capita_income': {\n",
    "        'total_field': 'B01003_001E',\n",
    "        'target_fields': ['B19301_001E',],\n",
    "        'make_percent': False\n",
    "    },\n",
    "    'median_household_income': {\n",
    "        'total_field': 'B19301_001E',\n",
    "        'target_fields': ['B19013_001E',],\n",
    "        'make_percent': False\n",
    "    },\n",
    "    'median_gross_rent': {\n",
    "        'total_field': 'B25001_001E',\n",
    "        'target_fields': ['B25064_001E',],\n",
    "        'make_percent': False\n",
    "    },\n",
    "    'median_home_value_owner_occupied': {\n",
    "        'total_field': 'B25001_001E',\n",
    "        'target_fields': ['B25077_001E'],\n",
    "        'make_percent': False\n",
    "    },\n",
    "    'percent_homes_vacant': {\n",
    "        'total_field': 'B25002_001E',\n",
    "        'target_fields': ['B25002_003E',],\n",
    "        'make_percent': True\n",
    "    },\n",
    "    'percent_associate_degree': {\n",
    "        'total_field': 'B15003_001E',\n",
    "        'target_fields': ['B15003_021E',],\n",
    "        'make_percent': True\n",
    "    },\n",
    "    'percent_bachelors_degree': {\n",
    "        'total_field': 'B15003_001E',\n",
    "        'target_fields': ['B15003_022E',],\n",
    "        'make_percent': True\n",
    "    },\n",
    "    'percent_masters_degree': {\n",
    "        'total_field': 'B15003_001E',\n",
    "        'target_fields': ['B15003_023E',],\n",
    "        'make_percent': True\n",
    "    },\n",
    "    'percent_professional_degree': {\n",
    "        'total_field': 'B15003_001E',\n",
    "        'target_fields': ['B15003_024E',],\n",
    "        'make_percent': True\n",
    "    },\n",
    "    'percent_doctoral_degree': {\n",
    "        'total_field': 'B15003_001E',\n",
    "        'target_fields': ['B15003_025E',],\n",
    "        'make_percent': True\n",
    "    },\n",
    "    'percent_bachelors_or_higher': {\n",
    "        'total_field': 'B15003_001E',\n",
    "        'target_fields': ['B15003_022E', 'B15003_023E', 'B15003_024E', 'B15003_025E'],\n",
    "        'make_percent': True\n",
    "    }\n",
    "}\n",
    "\n",
    "# Compute percent-based variables\n",
    "for key in stats_meta.keys():\n",
    "    if stats_meta[key]['make_percent']:\n",
    "        total_field = stats_meta[key]['total_field']\n",
    "        target_fields = stats_meta[key]['target_fields']\n",
    "        horizontal_sum = tract_df[target_fields[0]].copy()\n",
    "        for field in target_fields[1:]:\n",
    "            horizontal_sum += tract_df[field]\n",
    "        percent = horizontal_sum / tract_df[total_field]\n",
    "        tract_df[key] = percent"
   ]
  }
 ],
 "metadata": {
  "kernelspec": {
   "display_name": "Django Shell-Plus",
   "language": "python",
   "name": "django_extensions"
  },
  "language_info": {
   "codemirror_mode": {
    "name": "ipython",
    "version": 3
   },
   "file_extension": ".py",
   "mimetype": "text/x-python",
   "name": "python",
   "nbconvert_exporter": "python",
   "pygments_lexer": "ipython3",
   "version": "3.5.2"
  }
 },
 "nbformat": 4,
 "nbformat_minor": 2
}
