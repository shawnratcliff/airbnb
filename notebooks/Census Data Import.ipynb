{
 "cells": [
  {
   "cell_type": "code",
   "execution_count": 174,
   "metadata": {
    "collapsed": false
   },
   "outputs": [],
   "source": [
    "import requests\n",
    "import pandas as pd\n",
    "import numpy as np\n",
    "from ast import literal_eval\n",
    "import pickle\n",
    "\n",
    "\"\"\"\n",
    "Summary of tables and concepts available in 2015 ACS 5-year estimates. \n",
    "Also includes detailed variable descriptions, including data collection methods:\n",
    "\n",
    "http://old.socialexplorer.com/pub/reportdata/metabrowser.aspx?survey=ACS2015_5yr&header=True\n",
    "\"\"\"\n",
    "\n",
    "API_KEY = 'c8d52047c115ae3d605397c2e2ab846560365abd'\n",
    "\n",
    "def get_acs_url(variable_names):\n",
    "    return (\n",
    "        'http://api.census.gov/data/2015/acs5'\n",
    "        '?get='\n",
    "        '%s'\n",
    "#       '&for=block+group:*&in=state:06+county:037&key='\n",
    "        '&for=tract:*&in=state:06+county:037&key='\n",
    "#        '&for=zip+code+tabulation+area:*&in=state:06+county:037&key='\n",
    "        '%s'\n",
    "        % (','.join(variable_names), API_KEY)\n",
    "    )\n",
    "\n",
    "def get_acs_data(variable_names):\n",
    "    \"\"\"\n",
    "    Retrieves all values for variable_names for all block groups in Los Angeles County.\n",
    "    Source: American Community Survey, 2015 5-year estimates\n",
    "    @return Pandas dataframe\n",
    "    \"\"\"\n",
    "    # Split variables into sublists of <= 50 vars to comply with API limits\n",
    "    # Then, build and merge dataframes with each set of 50 and return the whole.\n",
    "    var_chunks = [variables[x:x+50] for x in range(0, len(variables), 50)]\n",
    "    for i, chunk in enumerate(var_chunks):\n",
    "        url = get_acs_url(chunk)\n",
    "        data = requests.get(url).json()\n",
    "        \n",
    "        if i == 0:\n",
    "            df = pd.DataFrame(data[1:], columns=data[0])\n",
    "        else:\n",
    "            df = pd.merge(df, pd.DataFrame(data[1:], columns=data[0]))\n",
    "\n",
    "    # Convert cols to numeric types\n",
    "    non_numeric = ('NAME', 'state', 'county', 'tract', 'block group',\n",
    "                   'zip code tabulation area')\n",
    "    for col in df.columns:\n",
    "        if col not in non_numeric:\n",
    "            df[col] = pd.to_numeric(df[col])\n",
    "    return df\n",
    "    \n",
    "def get_variable_metadata(variable_name):\n",
    "    \"\"\"\n",
    "    Retrieves metadata associated with variable_name.\n",
    "    @return dict\n",
    "    \"\"\"\n",
    "    url = ('http://api.census.gov/data/2015/acs5/variables/%s.json' \n",
    "           % variable_name)\n",
    "    return requests.get(url).json()\n",
    "\n",
    "def table_variables(table_name, number_list):\n",
    "    \"\"\"\n",
    "    Generates list of variables by concatenating table_name with each number in number_list.\n",
    "    \"\"\"\n",
    "    return tuple(\n",
    "        '%s_%03dE' % (table_name, num)\n",
    "        for num in number_list\n",
    "    )"
   ]
  },
  {
   "cell_type": "code",
   "execution_count": 164,
   "metadata": {
    "collapsed": false
   },
   "outputs": [],
   "source": [
    "# Variables for 2015 ACS 5-Year Estimates Table\n",
    "variables = (\n",
    "    ()\n",
    "    + ('B01003_001E',) # total population\n",
    "    + ('B01002_001E',) # median age\n",
    "    + table_variables('B01001', range(1,50)) # age brackets by sex\n",
    "    + table_variables('B15003', (1, 21, 22, 23, 24, 25)) # educational attainment (higher ed degrees only)\n",
    "    + ('B19301_001E',) # per capita income\n",
    "    + ('B19013_001E',) # median household income\n",
    "    + table_variables('B19001', range(1,18)) # household income\n",
    "    + ('B25001_001E',) # total housing units\n",
    "    + ('B25077_001E',) # median gross rent\n",
    "    + ('B25064_001E',) # median home value (owner-occupied)\n",
    "    + table_variables('B25002', range(1,4)) # housing vacancy status\n",
    ")"
   ]
  },
  {
   "cell_type": "code",
   "execution_count": 165,
   "metadata": {
    "collapsed": false
   },
   "outputs": [],
   "source": [
    "# Record metadata for each variable (concept, label, data type)\n",
    "variable_info = {\n",
    "    v: get_variable_metadata(v)\n",
    "    for v in variables\n",
    "}\n",
    "\n",
    "# Quick helper function to find variable tags\n",
    "def find_vars(search_key):\n",
    "    return [\n",
    "        variable_info[v]\n",
    "        for v in variable_info.keys()\n",
    "        if search_key.lower() in variable_info[v]['concept'].lower()\n",
    "    ]"
   ]
  },
  {
   "cell_type": "code",
   "execution_count": 166,
   "metadata": {
    "collapsed": false
   },
   "outputs": [],
   "source": [
    "# Get DataFrame\n",
    "df = get_acs_data(variables)\n",
    "\n",
    "# Create FIPS geoid column\n",
    "df['geoid'] = df['state'] + df['county'] + df['tract'] # + df['block group']"
   ]
  },
  {
   "cell_type": "code",
   "execution_count": 167,
   "metadata": {
    "collapsed": false,
    "scrolled": false
   },
   "outputs": [
    {
     "name": "stdout",
     "output_type": "stream",
     "text": [
      "{'concept': 'B01002.  Median Age by Sex',\n",
      " 'label': 'Median age --!!Total:',\n",
      " 'name': 'B01002_001E',\n",
      " 'predicateType': 'int'}\n",
      "{'concept': 'B19301. Per Capita Income in the Past 12 Months (in 2015 '\n",
      "            'Inflation-Adjusted Dollars)',\n",
      " 'label': 'Per capita income in the past 12 months (in 2015 Inflation-adjusted '\n",
      "          'dollars)',\n",
      " 'name': 'B19301_001E',\n",
      " 'predicateType': 'int'}\n",
      "{'concept': 'B19013. Median Household Income in the Past 12 Months (in 2015 '\n",
      "            'Inflation-Adjusted Dollars)',\n",
      " 'label': 'Median household income in the past 12 months (in 2015 '\n",
      "          'Inflation-adjusted dollars)',\n",
      " 'name': 'B19013_001E',\n",
      " 'predicateType': 'int'}\n",
      "{'concept': 'B25077.  Median Value (Dollars) for Owner-Occupied Housing Units',\n",
      " 'label': 'Median value (dollars)',\n",
      " 'name': 'B25077_001E',\n",
      " 'predicateType': 'int'}\n",
      "{'concept': 'B25064.  Median Gross Rent (Dollars)',\n",
      " 'label': 'Median gross rent',\n",
      " 'name': 'B25064_001E',\n",
      " 'predicateType': 'int'}\n"
     ]
    }
   ],
   "source": [
    "# Determine which columns contain null values\n",
    "from pprint import pprint\n",
    "for v in df.columns[df.isnull().any()]:\n",
    "    pprint(variable_info[v])"
   ]
  },
  {
   "cell_type": "code",
   "execution_count": 168,
   "metadata": {
    "collapsed": false,
    "scrolled": false
   },
   "outputs": [
    {
     "data": {
      "text/plain": [
       "353556"
      ]
     },
     "execution_count": 168,
     "metadata": {},
     "output_type": "execute_result"
    }
   ],
   "source": [
    "# Total population within tracts that contain at least 1 null value\n",
    "df[pd.isnull(df).any(axis=1)]['B01003_001E'].sum()"
   ]
  },
  {
   "cell_type": "code",
   "execution_count": 169,
   "metadata": {
    "collapsed": false
   },
   "outputs": [
    {
     "data": {
      "text/plain": [
       "0.035220395944049979"
      ]
     },
     "execution_count": 169,
     "metadata": {},
     "output_type": "execute_result"
    }
   ],
   "source": [
    "# Percent of population within tracts that contain at least 1 null value\n",
    "df[pd.isnull(df).any(axis=1)]['B01003_001E'].sum() / df['B01003_001E'].sum()"
   ]
  },
  {
   "cell_type": "code",
   "execution_count": 170,
   "metadata": {
    "collapsed": false,
    "scrolled": false
   },
   "outputs": [],
   "source": [
    "# Add neighborhood relationships to dataframe\n",
    "data = [[t.geoid, t.neighborhood_id]\n",
    "        for t in Tract.objects.all()]\n",
    "df2 = pd.DataFrame(data, columns=('geoid', 'neighborhood_id'))\n",
    "df = pd.merge(df, df2)\n",
    "\n",
    "# Pickle the data and metadata\n",
    "census_data = {\n",
    "    'variable_info': variable_info,\n",
    "    'dataframe': df\n",
    "}\n",
    "pickle.dump(census_data, open('../pickles/census_data.p', 'wb'))"
   ]
  },
  {
   "cell_type": "code",
   "execution_count": 171,
   "metadata": {
    "collapsed": false
   },
   "outputs": [
    {
     "name": "stdout",
     "output_type": "stream",
     "text": [
      "Tract population sum: 30892\n",
      "LA Times: {'population_latimes_2000_census': 33829}\n"
     ]
    }
   ],
   "source": [
    "# Test an aggregation: estimate the population of Beverly Hills\n",
    "print('Tract population sum:', df[df['neighborhood_id'] == 35]['B01003_001E'].sum())\n",
    "print('LA Times:', Neighborhood.objects.get(pk=35).fixed_data)"
   ]
  },
  {
   "cell_type": "code",
   "execution_count": 223,
   "metadata": {
    "collapsed": false,
    "scrolled": false
   },
   "outputs": [],
   "source": [
    "# Define a function to aggregate tract data relating to a neighborhood\n",
    "def neighborhood_weighted_avg(total_field, target_field, neighborhood_id, make_percent=False):\n",
    "    \"\"\"\n",
    "    Compute weighted average of statistic for neighborhood.\n",
    "    Note: returns None if total_field column summation is not > 0\n",
    "    \n",
    "    @param total_field: the applicable totals field (e.g., total population in tract)\n",
    "    @param target_field: the value of interest (e.g., # of college graduates)\n",
    "    @param neighborhood_id: the neighborhood id to select\n",
    "    @param make_percent: convert count-based target values to decimal fractions\n",
    "    \"\"\"\n",
    "    nhood = df[df['neighborhood_id'] == neighborhood_id] \n",
    "    weights = nhood[total_field] / nhood[total_field].sum()\n",
    "    if not nhood[total_field].sum() > 0:\n",
    "        return None\n",
    "    if (make_percent):\n",
    "        # Return the weighted sum of all target values, each divided by the applicable total\n",
    "        return_val = ((nhood[target_field] / nhood[total_field]) * weights).sum()\n",
    "    else:\n",
    "        # Return the weighted sum of all target values\n",
    "        return_val = (nhood[target_field] * weights).sum()\n",
    "    if np.isnan(return_val):\n",
    "        return None\n",
    "    else:\n",
    "        return return_val\n"
   ]
  },
  {
   "cell_type": "code",
   "execution_count": 224,
   "metadata": {
    "collapsed": false
   },
   "outputs": [
    {
     "data": {
      "text/plain": [
       "{'median_age': 41.425382923572386,\n",
       " 'median_gross_rent': 1423.2760891590681,\n",
       " 'median_home_value_owner_occupied': 417053.05977710237,\n",
       " 'median_household_income': 62780.628095069173,\n",
       " 'per_capita_income': 28672.086756735527,\n",
       " 'percent_associate_degree': 0.11835049335049334,\n",
       " 'percent_bachelors_degree': 0.15256327756327756,\n",
       " 'percent_doctoral_degree': 0.012012012012012012,\n",
       " 'percent_homes_vacant': 0.050962512664640323,\n",
       " 'percent_masters_degree': 0.061400686400686404,\n",
       " 'percent_professional_degree': 0.0086872586872586872}"
      ]
     },
     "execution_count": 224,
     "metadata": {},
     "output_type": "execute_result"
    }
   ],
   "source": [
    "\"\"\"\n",
    "Compute stats for neighborhoods. To avoid a lot of boilerplate code,\n",
    "we'll define a dict that encapsulates the settings for each stat\n",
    "that's automatable. (Some others may require a custom approach.)\n",
    "\n",
    "Totals fields:\n",
    "\n",
    "'B25001_001E' # total num. of housing units\n",
    "'B25002_001E' # total housing units for vacancy status\n",
    "'B01003_001E' # total population\n",
    "'B15003_001E' # total pop for educational attainment\n",
    "'B19001_001E' # total num. of households\n",
    "\n",
    "Target fields:\n",
    "\n",
    "'B01002_001E' # median age\n",
    "'B19301_001E' # per capita income\n",
    "'B15003_021E' # educat attain: assoc degree (%)\n",
    "'B15003_022E' # educat attain: bachelor's degree (%)\n",
    "'B15003_023E' # educat attain: masters degree (%)\n",
    "'B15003_024E' # educat attain: professional school (%)\n",
    "'B15003_025E' # educat attain: doctorate degree (%)\n",
    "'B19013_001E' # median household income\n",
    "\n",
    "'B25064_001E' # median gross rent\n",
    "'B25064_001E' # median home value (owner-occupied)\n",
    "'B25002_003E' # vacant homes (%)\n",
    "\n",
    "\"\"\"\n",
    "\n",
    "stats_meta = {\n",
    "    'median_age': {\n",
    "        'total_field': 'B01003_001E',\n",
    "        'target_field': 'B01002_001E',\n",
    "        'make_percent': False\n",
    "    },\n",
    "    'per_capita_income': {\n",
    "        'total_field': 'B01003_001E',\n",
    "        'target_field': 'B19301_001E',\n",
    "        'make_percent': False\n",
    "    },\n",
    "    'median_household_income': {\n",
    "        'total_field': 'B19301_001E',\n",
    "        'target_field': 'B19013_001E',\n",
    "        'make_percent': False\n",
    "    },\n",
    "    'median_gross_rent': {\n",
    "        'total_field': 'B25001_001E',\n",
    "        'target_field': 'B25064_001E',\n",
    "        'make_percent': False\n",
    "    },\n",
    "    'median_home_value_owner_occupied': {\n",
    "        'total_field': 'B25001_001E',\n",
    "        'target_field': 'B25077_001E',\n",
    "        'make_percent': False\n",
    "    },\n",
    "    'percent_homes_vacant': {\n",
    "        'total_field': 'B25002_001E',\n",
    "        'target_field': 'B25002_003E',\n",
    "        'make_percent': True\n",
    "    },\n",
    "    'percent_associate_degree': {\n",
    "        'total_field': 'B15003_001E',\n",
    "        'target_field': 'B15003_021E',\n",
    "        'make_percent': True\n",
    "    },\n",
    "    'percent_bachelors_degree': {\n",
    "        'total_field': 'B15003_001E',\n",
    "        'target_field': 'B15003_022E',\n",
    "        'make_percent': True\n",
    "    },\n",
    "    'percent_masters_degree': {\n",
    "        'total_field': 'B15003_001E',\n",
    "        'target_field': 'B15003_023E',\n",
    "        'make_percent': True\n",
    "    },\n",
    "    'percent_professional_degree': {\n",
    "        'total_field': 'B15003_001E',\n",
    "        'target_field': 'B15003_024E',\n",
    "        'make_percent': True\n",
    "    },\n",
    "    'percent_doctoral_degree': {\n",
    "        'total_field': 'B15003_001E',\n",
    "        'target_field': 'B15003_025E',\n",
    "        'make_percent': True\n",
    "    },    \n",
    "}\n",
    "\n",
    "def compute_stats(neighborhood):\n",
    "    return {\n",
    "        k: neighborhood_weighted_avg(\n",
    "            total_field=stats_meta[k]['total_field'],\n",
    "            target_field=stats_meta[k]['target_field'],\n",
    "            neighborhood_id=neighborhood.id,\n",
    "            make_percent=stats_meta[k]['make_percent']\n",
    "        )\n",
    "        for k in stats_meta.keys()\n",
    "    }\n",
    "\n",
    "compute_stats(Neighborhood.objects.get(name=\"Tujunga\"))"
   ]
  },
  {
   "cell_type": "code",
   "execution_count": null,
   "metadata": {
    "collapsed": false
   },
   "outputs": [],
   "source": [
    "# Compute stats for each Neighborhood, and save on the model\n",
    "for n in Neighborhood.objects.all():\n",
    "    stats = compute_stats(n)\n",
    "    for key, value in stats.items():\n",
    "        n.fixed_data[key] = value\n",
    "    n.save()\n",
    "    print(n.name, '*', end='')"
   ]
  },
  {
   "cell_type": "code",
   "execution_count": 226,
   "metadata": {
    "collapsed": false
   },
   "outputs": [
    {
     "data": {
      "text/plain": [
       "{'avg_estimated_bookings_per_listing_per_month': 4.34049479166666,\n",
       " 'avg_estimated_revenue_per_listing_per_month': 5307.615234375,\n",
       " 'avg_host_experience_years': 0.543310082435003,\n",
       " 'avg_listing_price': 451.0,\n",
       " 'crime_count': 842,\n",
       " 'listing_count': 3,\n",
       " 'median_age': 45.1756062767475,\n",
       " 'median_gross_rent': 670.6654991243432,\n",
       " 'median_home_value_owner_occupied': 415123.50262697024,\n",
       " 'median_household_income': 83798.29791631277,\n",
       " 'per_capita_income': 34437.263908701854,\n",
       " 'percent_associate_degree': 0.10245824732595235,\n",
       " 'percent_bachelors_degree': 0.16513417151435544,\n",
       " 'percent_doctoral_degree': 0.013698630136986302,\n",
       " 'percent_homes_vacant': 0.09737302977232926,\n",
       " 'percent_masters_degree': 0.08707074498029649,\n",
       " 'percent_professional_degree': 0.012385062863576657,\n",
       " 'population_latimes_2000_census': 6522,\n",
       " 'total_estimated_bookings_per_month': 6.5107421875}"
      ]
     },
     "execution_count": 226,
     "metadata": {},
     "output_type": "execute_result"
    }
   ],
   "source": [
    "Neighborhood.objects.first().data"
   ]
  },
  {
   "cell_type": "code",
   "execution_count": null,
   "metadata": {
    "collapsed": true
   },
   "outputs": [],
   "source": []
  }
 ],
 "metadata": {
  "kernelspec": {
   "display_name": "Django Shell-Plus",
   "language": "python",
   "name": "django_extensions"
  },
  "language_info": {
   "codemirror_mode": {
    "name": "ipython",
    "version": 3
   },
   "file_extension": ".py",
   "mimetype": "text/x-python",
   "name": "python",
   "nbconvert_exporter": "python",
   "pygments_lexer": "ipython3",
   "version": "3.5.2"
  }
 },
 "nbformat": 4,
 "nbformat_minor": 2
}
