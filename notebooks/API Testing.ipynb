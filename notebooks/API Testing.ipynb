{
 "cells": [
  {
   "cell_type": "code",
   "execution_count": 11,
   "metadata": {
    "collapsed": true
   },
   "outputs": [],
   "source": [
    "from api.filters import get_filter_query\n",
    "import requests"
   ]
  },
  {
   "cell_type": "code",
   "execution_count": 10,
   "metadata": {
    "collapsed": false
   },
   "outputs": [],
   "source": [
    "\n",
    "filters = {\n",
    "    'numerical_range': [\n",
    "        {\n",
    "            'attribute_name': 'price',\n",
    "            'min': 90.00,\n",
    "            'max': 135.00\n",
    "        },\n",
    "        {\n",
    "            'attribute_name': 'accommodates',\n",
    "            'min': 3,\n",
    "            'max': None\n",
    "        }\n",
    "    ],\n",
    "    'region': {\n",
    "        'region_type': 'neighborhood',\n",
    "        'id': 35\n",
    "    }\n",
    "}\n",
    "query = get_filter_query(filters)"
   ]
  },
  {
   "cell_type": "code",
   "execution_count": 36,
   "metadata": {
    "collapsed": false,
    "scrolled": true
   },
   "outputs": [
    {
     "data": {
      "text/plain": [
       "<Q: (AND: ('price__lte', 99.0), ('accommodates__gte', 4))>"
      ]
     },
     "execution_count": 36,
     "metadata": {},
     "output_type": "execute_result"
    }
   ],
   "source": [
    "query"
   ]
  },
  {
   "cell_type": "code",
   "execution_count": 63,
   "metadata": {
    "collapsed": false
   },
   "outputs": [],
   "source": [
    "# Place GET request with filters attached to JSON body\n",
    "r = requests.get('http://localhost:8000/api/neighborhoods/',) #json={'filters': filters})"
   ]
  },
  {
   "cell_type": "code",
   "execution_count": 67,
   "metadata": {
    "collapsed": false,
    "scrolled": false
   },
   "outputs": [
    {
     "data": {
      "text/plain": [
       "{'data': {'avg_estimated_bookings_per_listing': 18.533333333333335,\n",
       "  'avg_listing_price': 84.0,\n",
       "  'crime_count': 234,\n",
       "  'listing_count': 45,\n",
       "  'population_latimes_2000_census': 36817},\n",
       " 'name': 'Monrovia'}"
      ]
     },
     "execution_count": 67,
     "metadata": {},
     "output_type": "execute_result"
    }
   ],
   "source": [
    "results = r.json()\n",
    "results['features'][35]['properties']"
   ]
  },
  {
   "cell_type": "code",
   "execution_count": 1,
   "metadata": {
    "collapsed": false,
    "scrolled": false
   },
   "outputs": [],
   "source": [
    "from django.contrib.gis.db.models.functions import AsGeoJSON\n",
    "n = Neighborhood.objects.annotate(geojson=AsGeoJSON('mpoly')).first()"
   ]
  },
  {
   "cell_type": "code",
   "execution_count": 5,
   "metadata": {
    "collapsed": false
   },
   "outputs": [],
   "source": [
    "with open('../test.json', 'w') as f:\n",
    "    f.write(n.geojson)"
   ]
  },
  {
   "cell_type": "code",
   "execution_count": 8,
   "metadata": {
    "collapsed": false
   },
   "outputs": [
    {
     "data": {
      "text/plain": [
       "str"
      ]
     },
     "execution_count": 8,
     "metadata": {},
     "output_type": "execute_result"
    }
   ],
   "source": [
    "type(n.geojson)"
   ]
  },
  {
   "cell_type": "code",
   "execution_count": 5,
   "metadata": {
    "collapsed": false
   },
   "outputs": [
    {
     "data": {
      "text/plain": [
       "<django.db.models.fields.related_descriptors.create_forward_many_to_many_manager.<locals>.ManyRelatedManager at 0x115eb4128>"
      ]
     },
     "execution_count": 5,
     "metadata": {},
     "output_type": "execute_result"
    }
   ],
   "source": [
    "l = Listing.objects.first()\n",
    "l.amenities"
   ]
  },
  {
   "cell_type": "code",
   "execution_count": 6,
   "metadata": {
    "collapsed": false
   },
   "outputs": [
    {
     "data": {
      "text/plain": [
       "<django.db.models.fields.related_descriptors.ManyToManyDescriptor at 0x11541cf98>"
      ]
     },
     "execution_count": 6,
     "metadata": {},
     "output_type": "execute_result"
    }
   ],
   "source": [
    "getattr(Listing, 'amenities')"
   ]
  },
  {
   "cell_type": "code",
   "execution_count": 23,
   "metadata": {
    "collapsed": false
   },
   "outputs": [],
   "source": [
    "filters = {\n",
    "    'region': {\n",
    "        'region_type': 'neighborhood',\n",
    "        'id': 35\n",
    "    }\n",
    "}\n",
    "query = get_filter_query(filters)\n",
    "r = requests.post('http://localhost:8000/api/listings/filter/', json={'filters': filters})"
   ]
  },
  {
   "cell_type": "code",
   "execution_count": 24,
   "metadata": {
    "collapsed": false,
    "scrolled": false
   },
   "outputs": [],
   "source": [
    "r=requests.get('http://localhost:8000/api/neighborhoods/')"
   ]
  },
  {
   "cell_type": "code",
   "execution_count": 28,
   "metadata": {
    "collapsed": false
   },
   "outputs": [
    {
     "data": {
      "text/plain": [
       "<Listing: 6132543 Room Available ($125.00)>"
      ]
     },
     "execution_count": 28,
     "metadata": {},
     "output_type": "execute_result"
    }
   ],
   "source": [
    "Neighborhood.objects.get(name=\"Vernon\").listing_set.first()"
   ]
  },
  {
   "cell_type": "code",
   "execution_count": 29,
   "metadata": {
    "collapsed": false
   },
   "outputs": [
    {
     "data": {
      "text/plain": [
       "47025"
      ]
     },
     "execution_count": 29,
     "metadata": {},
     "output_type": "execute_result"
    }
   ],
   "source": [
    "Crime.objects.filter(neighborhood=Neighborhood.objects.get(name=\"Downtown\")).count()"
   ]
  },
  {
   "cell_type": "code",
   "execution_count": 48,
   "metadata": {
    "collapsed": false,
    "scrolled": false
   },
   "outputs": [
    {
     "data": {
      "text/plain": [
       "{'reviews_per_month__avg': 2.12242562430246}"
      ]
     },
     "execution_count": 48,
     "metadata": {},
     "output_type": "execute_result"
    }
   ],
   "source": [
    "Listing.objects.filter(Q(host_name__contains='&') | Q(host_name__icontains=\" and \")).aggregate(Avg('reviews_per_month'))"
   ]
  },
  {
   "cell_type": "code",
   "execution_count": 44,
   "metadata": {
    "collapsed": false
   },
   "outputs": [
    {
     "data": {
      "text/plain": [
       "{'reviews_per_month__avg': 1.426660547523}"
      ]
     },
     "execution_count": 44,
     "metadata": {},
     "output_type": "execute_result"
    }
   ],
   "source": [
    "Listing.objects.exclude(host_name__contains='&').aggregate(Avg('reviews_per_month'))"
   ]
  },
  {
   "cell_type": "code",
   "execution_count": 53,
   "metadata": {
    "collapsed": false,
    "scrolled": false
   },
   "outputs": [
    {
     "data": {
      "text/plain": [
       "16"
      ]
     },
     "execution_count": 53,
     "metadata": {},
     "output_type": "execute_result"
    }
   ],
   "source": [
    "Listing.objects.order_by('-accommodates').first().accommodates"
   ]
  },
  {
   "cell_type": "code",
   "execution_count": 55,
   "metadata": {
    "collapsed": false
   },
   "outputs": [
    {
     "data": {
      "text/plain": [
       "{'reviews_per_month__avg': 2.56827859317555}"
      ]
     },
     "execution_count": 55,
     "metadata": {},
     "output_type": "execute_result"
    }
   ],
   "source": [
    "Listing.objects.filter(price__lt=20.00).aggregate(Avg('reviews_per_month'))"
   ]
  },
  {
   "cell_type": "code",
   "execution_count": 56,
   "metadata": {
    "collapsed": false
   },
   "outputs": [
    {
     "data": {
      "text/plain": [
       "{'reviews_per_month__avg': 1.45916998379981}"
      ]
     },
     "execution_count": 56,
     "metadata": {},
     "output_type": "execute_result"
    }
   ],
   "source": [
    "Listing.objects.aggregate(Avg('reviews_per_month'))"
   ]
  },
  {
   "cell_type": "code",
   "execution_count": 60,
   "metadata": {
    "collapsed": false
   },
   "outputs": [
    {
     "data": {
      "text/plain": [
       "{'avg_listing_price': 451.0, 'crime_count': 842, 'listing_count': 3}"
      ]
     },
     "execution_count": 60,
     "metadata": {},
     "output_type": "execute_result"
    }
   ],
   "source": [
    "Neighborhood.objects.annotate(aveeno=F('computed_stats')).first().aveeno"
   ]
  },
  {
   "cell_type": "code",
   "execution_count": 61,
   "metadata": {
    "collapsed": false
   },
   "outputs": [
    {
     "data": {
      "text/plain": [
       "<QuerySet [{'crime_code_desc': 'GRAND THEFT / AUTO REPAIR'}, {'crime_code_desc': 'FELONIES, MISCELLANEOUS: Perjury'}, {'crime_code_desc': 'NARCOTICS: Found Narcotics'}, {'crime_code_desc': 'VEHICLE BURGLARY: Attempt Auto/Passenger Van Burglary'}, {'crime_code_desc': 'ASSAULT, AGGRAVATED: ADW - OTHER DANGEROUS WEAPON'}, {'crime_code_desc': 'EMBEZZLEMENT, GRAND'}, {'crime_code_desc': 'NARCOTICS: Miscellaneous Felonies'}, {'crime_code_desc': 'VEHICLE - ATTEMPT STOLEN'}, {'crime_code_desc': 'FEDERAL OFFENSES WITHOUT MONEY: Immigration Laws - Illegal Entry'}, {'crime_code_desc': 'ASSAULT, NON-AGG: Child Assault'}, {'crime_code_desc': 'DEFRAUDING: Welfare Fraud (Fel Or Misd)'}, {'crime_code_desc': 'FEDERAL OFFENSES WITH MONEY: Counterfeiting U.S. Money'}, {'crime_code_desc': 'DEPUTY INVOLVED SHOOTING/SUSPECT DEAD'}, {'crime_code_desc': 'NARCOTICS: Marijuana (Felony) Hashish/Hashish Oil (Poss/Sales)'}, {'crime_code_desc': 'IMMIGRATION: False Documents-Use to Conceal True Citizenship-Felony'}, {'crime_code_desc': 'THEFT, COIN MACHINE - PETTY ($950 & UNDER)'}, {'crime_code_desc': 'VAGRANCY/QUALITY OF LIFE:Illegal Vending'}, {'crime_code_desc': 'ROBBERY, STRONG-ARM: Residence'}, {'crime_code_desc': 'CRIMINAL HOMICIDE: Murder'}, {'crime_code_desc': 'MISDEMEANORS, MISCELLANEOUS: Alarm Violations'}, '...(remaining elements truncated)...']>"
      ]
     },
     "execution_count": 61,
     "metadata": {},
     "output_type": "execute_result"
    }
   ],
   "source": [
    "Crime.objects.values('crime_code_desc').distinct()"
   ]
  },
  {
   "cell_type": "code",
   "execution_count": 62,
   "metadata": {
    "collapsed": false
   },
   "outputs": [
    {
     "data": {
      "text/plain": [
       "5996"
      ]
     },
     "execution_count": 62,
     "metadata": {},
     "output_type": "execute_result"
    }
   ],
   "source": [
    "Listing.objects.filter(number_of_reviews=0).count()"
   ]
  },
  {
   "cell_type": "code",
   "execution_count": null,
   "metadata": {
    "collapsed": true
   },
   "outputs": [],
   "source": []
  }
 ],
 "metadata": {
  "kernelspec": {
   "display_name": "Django Shell-Plus",
   "language": "python",
   "name": "django_extensions"
  },
  "language_info": {
   "codemirror_mode": {
    "name": "ipython",
    "version": 3
   },
   "file_extension": ".py",
   "mimetype": "text/x-python",
   "name": "python",
   "nbconvert_exporter": "python",
   "pygments_lexer": "ipython3",
   "version": "3.5.2"
  }
 },
 "nbformat": 4,
 "nbformat_minor": 2
}
