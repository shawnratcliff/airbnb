{
 "cells": [
  {
   "cell_type": "code",
   "execution_count": 19,
   "metadata": {
    "collapsed": false
   },
   "outputs": [],
   "source": [
    "from api.filters import get_filter_query\n",
    "import requests\n",
    "from pprint import pprint"
   ]
  },
  {
   "cell_type": "code",
   "execution_count": 3,
   "metadata": {
    "collapsed": false
   },
   "outputs": [
    {
     "name": "stdout",
     "output_type": "stream",
     "text": [
      "(AND: ('neighborhood', 76))\n"
     ]
    }
   ],
   "source": [
    "filters = {\n",
    "    'numerical_range': [\n",
    "        {\n",
    "            'attribute_name': 'price',\n",
    "            'min': None,\n",
    "            'max': None\n",
    "        },\n",
    "        {\n",
    "            'attribute_name': 'accommodates',\n",
    "            'min': None,\n",
    "            'max': None\n",
    "        },\n",
    "#         {\n",
    "#             'attribute_name': 'id',\n",
    "#             'min': 109,\n",
    "#             'max': 109\n",
    "#         }\n",
    "    ],\n",
    "    'region': {\n",
    "        'region_type': 'neighborhood',\n",
    "        'id': Neighborhood.objects.get(name=\"Eagle Rock\").pk\n",
    "    }\n",
    "}\n",
    "query = get_filter_query(filters)\n",
    "print(query)"
   ]
  },
  {
   "cell_type": "code",
   "execution_count": 4,
   "metadata": {
    "collapsed": false,
    "scrolled": false
   },
   "outputs": [
    {
     "name": "stdout",
     "output_type": "stream",
     "text": [
      "['eagle', 'rock', 'pasadena', 'highland', 'occidental', 'house', 'glendale', 'lots', 'yard', 'college', 'park', 'trees', 'entrance', 'town', 'rose', 'joes', 'trader', 'bowl', 'questions', 'colorado']\n",
      "CPU times: user 6.96 ms, sys: 2.48 ms, total: 9.44 ms\n",
      "Wall time: 3.67 s\n"
     ]
    }
   ],
   "source": [
    "%%time\n",
    "r=requests.post('http://reaction/api/listings/stats/', json={'filters': filters})\n",
    "stats=r.json()\n",
    "print(stats['listings']['most_discriminating_terms']['value'])"
   ]
  },
  {
   "cell_type": "code",
   "execution_count": 158,
   "metadata": {
    "collapsed": false
   },
   "outputs": [
    {
     "data": {
      "text/plain": [
       "{'median_age': 45.1756062767475,\n",
       " 'median_gross_rent': 670.6654991243432,\n",
       " 'median_home_value_owner_occupied': 415123.50262697024,\n",
       " 'median_household_income': 83798.29791631277,\n",
       " 'per_capita_income': 34437.263908701854,\n",
       " 'percent_associate_degree': 0.10245824732595235,\n",
       " 'percent_bachelors_degree': 0.16513417151435544,\n",
       " 'percent_doctoral_degree': 0.013698630136986302,\n",
       " 'percent_homes_vacant': 0.09737302977232926,\n",
       " 'percent_masters_degree': 0.08707074498029649,\n",
       " 'percent_professional_degree': 0.012385062863576657,\n",
       " 'population_latimes_2000_census': 6522}"
      ]
     },
     "execution_count": 158,
     "metadata": {},
     "output_type": "execute_result"
    }
   ],
   "source": [
    "Neighborhood.objects.first().fixed_data"
   ]
  },
  {
   "cell_type": "code",
   "execution_count": 1,
   "metadata": {
    "collapsed": false
   },
   "outputs": [],
   "source": [
    "for n in Neighborhood.objects.all():\n",
    "    n.update_stats()"
   ]
  },
  {
   "cell_type": "code",
   "execution_count": 43,
   "metadata": {
    "collapsed": false
   },
   "outputs": [
    {
     "data": {
      "text/plain": [
       "{'avg_estimated_bookings_per_listing_per_month': 4.34049479166666,\n",
       " 'avg_estimated_revenue_per_listing_per_month': 5307.615234375,\n",
       " 'avg_host_experience_years': 0.543310082435003,\n",
       " 'avg_listing_price': 451.0,\n",
       " 'crime_count': 842,\n",
       " 'crimes_per_capita': 0.1291015026065624,\n",
       " 'listing_count': 3,\n",
       " 'total_estimated_bookings_per_month': 6.5107421875}"
      ]
     },
     "execution_count": 43,
     "metadata": {},
     "output_type": "execute_result"
    }
   ],
   "source": [
    "Neighborhood.objects.first().computed_stats"
   ]
  },
  {
   "cell_type": "code",
   "execution_count": 73,
   "metadata": {
    "collapsed": false
   },
   "outputs": [],
   "source": [
    "new_listing = {\n",
    "    'address': 'LA Live, Los Angeles, CA',\n",
    "    'availability_365': 365,\n",
    "    'room_type': 'Entire home/apt',\n",
    "    'property_type': 'Apartment',\n",
    "    'bed_type': 'Real Bed',\n",
    "    'accommodates': 2,\n",
    "    'guests_included': 2,\n",
    "    'bedrooms': 1,\n",
    "    'bathrooms': 1,\n",
    "    'host_experience_days': 720,\n",
    "    'extra_people': 0,\n",
    "    'cancellation_policy': 'Flexible',\n",
    "    'minimum_nights': 1,\n",
    "    'amenity_1': False,\n",
    "    'amenity_2': False,\n",
    "    'amenity_3': False,\n",
    "    'amenity_4': False,\n",
    "    'amenity_5': False,\n",
    "    'amenity_6': False,\n",
    "    'amenity_7': False,\n",
    "    'amenity_8': False,\n",
    "    'amenity_9': False,\n",
    "    'amenity_10': False,\n",
    "    'amenity_11': False,\n",
    "    'amenity_12': False,\n",
    "    'amenity_13': False,\n",
    "    'amenity_14': False,\n",
    "    'amenity_15': False,\n",
    "    'amenity_16': False,\n",
    "    'amenity_17': False,\n",
    "    'amenity_18': False,\n",
    "    'amenity_19': False,\n",
    "    'amenity_20': False,\n",
    "    'amenity_21': False,\n",
    "    'amenity_22': False,\n",
    "    'amenity_23': False,\n",
    "    'amenity_24': False,\n",
    "    'amenity_25': False,\n",
    "    'amenity_26': False,\n",
    "    'amenity_27': False,\n",
    "    'amenity_28': False,\n",
    "    'amenity_29': False,\n",
    "    'amenity_30': False,\n",
    "    'amenity_31': False,\n",
    "    'amenity_32': False,\n",
    "    'amenity_33': False,\n",
    "    'amenity_34': False,\n",
    "    'amenity_35': False,\n",
    "    'amenity_36': False,\n",
    "    'amenity_37': False,\n",
    "    'amenity_38': False,\n",
    "    'amenity_39': False,\n",
    "    'amenity_40': False,\n",
    "    'amenity_41': False,\n",
    "    'amenity_42': False,\n",
    "    'amenity_43': False,\n",
    "    'amenity_44': False,\n",
    "}\n",
    "r=requests.post('http://reaction/api/predict/', json={'listing_attrs': new_listing})"
   ]
  },
  {
   "cell_type": "code",
   "execution_count": 74,
   "metadata": {
    "collapsed": false
   },
   "outputs": [
    {
     "data": {
      "text/plain": [
       "{'bias': 143.99774422824882,\n",
       " 'contributions': [['availability', 59.80678226776585],\n",
       "  ['bedrooms', -41.46863488042358],\n",
       "  ['listing_type', 23.586835337483862],\n",
       "  ['economics', 21.782130077799703],\n",
       "  ['maximum_occupancy', -13.891551474687514],\n",
       "  ['location', -6.742203852663452],\n",
       "  ['miscellaneous', -2.8207898558506854],\n",
       "  ['demographics', -2.7978431408612225],\n",
       "  ['bathrooms', -1.483997007390073],\n",
       "  ['amenities', -1.2329991384460857]],\n",
       " 'prediction': 178.95}"
      ]
     },
     "execution_count": 74,
     "metadata": {},
     "output_type": "execute_result"
    }
   ],
   "source": [
    "r.json()"
   ]
  },
  {
   "cell_type": "code",
   "execution_count": 38,
   "metadata": {
    "collapsed": false
   },
   "outputs": [
    {
     "data": {
      "text/plain": [
       "100.95000000000002"
      ]
     },
     "execution_count": 38,
     "metadata": {},
     "output_type": "execute_result"
    }
   ],
   "source": [
    "sum(x[1] for x in r.json()['contributions']) + r.json()['bias']"
   ]
  },
  {
   "cell_type": "code",
   "execution_count": null,
   "metadata": {
    "collapsed": true
   },
   "outputs": [],
   "source": []
  }
 ],
 "metadata": {
  "kernelspec": {
   "display_name": "Django Shell-Plus",
   "language": "python",
   "name": "django_extensions"
  },
  "language_info": {
   "codemirror_mode": {
    "name": "ipython",
    "version": 3
   },
   "file_extension": ".py",
   "mimetype": "text/x-python",
   "name": "python",
   "nbconvert_exporter": "python",
   "pygments_lexer": "ipython3",
   "version": "3.5.2"
  }
 },
 "nbformat": 4,
 "nbformat_minor": 2
}
