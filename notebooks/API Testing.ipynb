{
 "cells": [
  {
   "cell_type": "code",
   "execution_count": 1,
   "metadata": {
    "collapsed": false
   },
   "outputs": [],
   "source": [
    "from api.filters import get_filter_query\n",
    "import requests\n",
    "from pprint import pprint"
   ]
  },
  {
   "cell_type": "code",
   "execution_count": 87,
   "metadata": {
    "collapsed": false
   },
   "outputs": [
    {
     "name": "stdout",
     "output_type": "stream",
     "text": [
      "(AND: ('neighborhood', 250), ('price__lte', 50.0))\n"
     ]
    }
   ],
   "source": [
    "filters = {\n",
    "    'numerical_range': [\n",
    "        {\n",
    "            'attribute_name': 'price',\n",
    "            'min': None,\n",
    "            'max': 50.0\n",
    "        },\n",
    "        {\n",
    "            'attribute_name': 'accommodates',\n",
    "            'min': None,\n",
    "            'max': None\n",
    "        },\n",
    "#         {\n",
    "#             'attribute_name': 'id',\n",
    "#             'min': 109,\n",
    "#             'max': 109\n",
    "#         }\n",
    "    ],\n",
    "    'region': {\n",
    "        'region_type': 'neighborhood',\n",
    "        'id': Neighborhood.objects.get(name=\"Watts\").pk\n",
    "    }\n",
    "}\n",
    "query = get_filter_query(filters)\n",
    "print(query)"
   ]
  },
  {
   "cell_type": "code",
   "execution_count": 89,
   "metadata": {
    "collapsed": false,
    "scrolled": false
   },
   "outputs": [
    {
     "name": "stdout",
     "output_type": "stream",
     "text": [
      "{'error': 'There are no listings within the filter criteria.',\n",
      " 'listings': {'count': {'comp_total': 26070,\n",
      "                        'meta': 'Value represents the # of listings that '\n",
      "                                'matched the filter criteria. Comp_total is '\n",
      "                                'the total # of listings in LA. Ex: 4531 out '\n",
      "                                'of 26070 selected.',\n",
      "                        'value': 0}}}\n",
      "CPU times: user 5.05 ms, sys: 1.77 ms, total: 6.82 ms\n",
      "Wall time: 20.9 ms\n"
     ]
    }
   ],
   "source": [
    "%%time\n",
    "r=requests.post('http://localhost:8000/api/listings/stats/', json={'filters': filters})\n",
    "stats=r.json()\n",
    "pprint(stats)"
   ]
  },
  {
   "cell_type": "code",
   "execution_count": 158,
   "metadata": {
    "collapsed": false
   },
   "outputs": [
    {
     "data": {
      "text/plain": [
       "{'median_age': 45.1756062767475,\n",
       " 'median_gross_rent': 670.6654991243432,\n",
       " 'median_home_value_owner_occupied': 415123.50262697024,\n",
       " 'median_household_income': 83798.29791631277,\n",
       " 'per_capita_income': 34437.263908701854,\n",
       " 'percent_associate_degree': 0.10245824732595235,\n",
       " 'percent_bachelors_degree': 0.16513417151435544,\n",
       " 'percent_doctoral_degree': 0.013698630136986302,\n",
       " 'percent_homes_vacant': 0.09737302977232926,\n",
       " 'percent_masters_degree': 0.08707074498029649,\n",
       " 'percent_professional_degree': 0.012385062863576657,\n",
       " 'population_latimes_2000_census': 6522}"
      ]
     },
     "execution_count": 158,
     "metadata": {},
     "output_type": "execute_result"
    }
   ],
   "source": [
    "Neighborhood.objects.first().fixed_data"
   ]
  },
  {
   "cell_type": "code",
   "execution_count": 1,
   "metadata": {
    "collapsed": false
   },
   "outputs": [],
   "source": [
    "for n in Neighborhood.objects.all():\n",
    "    n.update_stats()"
   ]
  },
  {
   "cell_type": "code",
   "execution_count": 3,
   "metadata": {
    "collapsed": false
   },
   "outputs": [
    {
     "data": {
      "text/plain": [
       "{'avg_estimated_bookings_per_listing_per_month': 4.34049479166666,\n",
       " 'avg_estimated_revenue_per_listing_per_month': 5307.615234375,\n",
       " 'avg_host_experience_years': 0.543310082435003,\n",
       " 'avg_listing_price': 451.0,\n",
       " 'crime_count': 842,\n",
       " 'crimes_per_capita': 0.1291015026065624,\n",
       " 'listing_count': 3,\n",
       " 'total_estimated_bookings_per_month': 6.5107421875}"
      ]
     },
     "execution_count": 3,
     "metadata": {},
     "output_type": "execute_result"
    }
   ],
   "source": [
    "Neighborhood.objects.first().computed_stats"
   ]
  },
  {
   "cell_type": "code",
   "execution_count": null,
   "metadata": {
    "collapsed": true
   },
   "outputs": [],
   "source": []
  }
 ],
 "metadata": {
  "kernelspec": {
   "display_name": "Django Shell-Plus",
   "language": "python",
   "name": "django_extensions"
  },
  "language_info": {
   "codemirror_mode": {
    "name": "ipython",
    "version": 3
   },
   "file_extension": ".py",
   "mimetype": "text/x-python",
   "name": "python",
   "nbconvert_exporter": "python",
   "pygments_lexer": "ipython3",
   "version": "3.5.2"
  }
 },
 "nbformat": 4,
 "nbformat_minor": 2
}
