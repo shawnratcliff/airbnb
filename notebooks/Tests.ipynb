{
 "cells": [
  {
   "cell_type": "markdown",
   "metadata": {},
   "source": [
    "## Test cases for data integrity / geospatial ORM models"
   ]
  },
  {
   "cell_type": "code",
   "execution_count": 54,
   "metadata": {
    "collapsed": true
   },
   "outputs": [],
   "source": [
    "from main.models import Listing, Amenity, Neighborhood, Tract\n",
    "from django.db.models import Sum\n",
    "\n",
    "def test_listings_have_location(listings):\n",
    "    passed = 0\n",
    "    failed = 0\n",
    "    for l in listings:\n",
    "        try:\n",
    "            assert l.point is not None\n",
    "            passed += 1\n",
    "        except AssertionError as e:\n",
    "            failed += 1\n",
    "    print(\"Testing that listings have non-null location attribute:\")\n",
    "    print(\"--> %d listings passed, %d listings failed.\\n\" % (passed, failed))\n",
    "\n",
    "\n",
    "def test_listings_in_correct_tract(listings):\n",
    "    passed = 0\n",
    "    failed = 0\n",
    "    for l in listings:\n",
    "        try:\n",
    "            if l.tract:\n",
    "                assert l.tract.mpoly.contains(l.point)\n",
    "            passed += 1\n",
    "        except AssertionError as e:\n",
    "            failed += 1\n",
    "    print(\"Testing that listings are contained within the polygon of the assigned census tracts:\")\n",
    "    print(\"--> %d listings passed, %d listings failed.\\n\" % (passed, failed))\n",
    "\n",
    "def test_amenity_assignments(amenities):\n",
    "    passed = 0\n",
    "    failed = 0\n",
    "    for a in amenities:\n",
    "        try:\n",
    "            assert a.listing_set.count() > 0\n",
    "            passed += 1\n",
    "        except AssertionError as e:\n",
    "            failed += 1\n",
    "    print(\"Testing that every amenity observed in the data set has been assigned to at least one listing:\")\n",
    "    print(\"--> %d amenities passed, %d amenities failed.\\n\" % (passed, failed))\n",
    "\n",
    "def test_neighborhood_age_distributions(neighborhoods):\n",
    "    passed = 0\n",
    "    failed = 0\n",
    "    for n in neighborhoods:\n",
    "        try:\n",
    "            # Make sure that all age brackets add up to 1.0 (or approximately)\n",
    "            # unless there is no age data for this neighborhood\n",
    "            data = n.fixed_data\n",
    "            age_brackets = ['percent_age_0_17', 'percent_age_18_34', 'percent_age_35_49',\n",
    "                            'percent_age_50_64', 'percent_age_65_up']\n",
    "            bracket_values = [data[bracket] if data[bracket] is not None else 0\n",
    "                             for bracket in age_brackets]\n",
    "            assert sum(bracket_values) == 0 or sum(bracket_values) > .999\n",
    "            passed += 1\n",
    "        except AssertionError as e:\n",
    "            failed += 1\n",
    "    print(\"Testing that neighborhood age bracket fractions sum to 1.0:\")\n",
    "    print(\"--> %d neighborhoods passed, %d neighborhoods failed.\\n\" % (passed, failed))\n",
    "\n",
    "def test_neighborhood_tract_geospatial_aggregations(neighborhoods):\n",
    "    passed = 0\n",
    "    failed = 0\n",
    "    for n in neighborhoods:\n",
    "        try:\n",
    "            combined_tract_area = sum(t.mpoly.area for t in n.tract_set.all())\n",
    "            neighborhood_area = n.mpoly.area\n",
    "            # Ignore neighborhoods with no tracts. This is expected, because\n",
    "            # the census doesn't cover lakes, etc.\n",
    "            if combined_tract_area > 0:\n",
    "                log_difference = math.log(neighborhood_area, 10) - math.log(combined_tract_area, 10)\n",
    "                assert abs(log_difference) <= 1.0 # within same order of magnitude\n",
    "            passed += 1\n",
    "        except AssertionError as e:\n",
    "            failed += 1\n",
    "    print(\"Testing that tract-neighborhood aggregations are geometrically sane (i.e., neighborhood and associated tract areas within same order of magnitude):\")\n",
    "    print(\"--> %d neighborhoods passed, %d neighborhoods failed.\\n\" % (passed, failed))\n",
    "\n",
    "    \n"
   ]
  },
  {
   "cell_type": "markdown",
   "metadata": {},
   "source": [
    "## Test results"
   ]
  },
  {
   "cell_type": "code",
   "execution_count": 56,
   "metadata": {
    "collapsed": false,
    "scrolled": false
   },
   "outputs": [
    {
     "name": "stdout",
     "output_type": "stream",
     "text": [
      "Testing that listings have non-null location attribute:\n",
      "--> 26070 listings passed, 0 listings failed.\n",
      "\n",
      "Testing that listings are contained within the polygon of the assigned census tracts:\n",
      "--> 26070 listings passed, 0 listings failed.\n",
      "\n",
      "Testing that every amenity observed in the data set has been assigned to at least one listing:\n",
      "--> 41 amenities passed, 0 amenities failed.\n",
      "\n",
      "Testing that neighborhood age bracket fractions sum to 1.0:\n",
      "--> 272 neighborhoods passed, 0 neighborhoods failed.\n",
      "\n",
      "Testing that tract-neighborhood aggregations are geometrically sane (i.e., neighborhood and associated tract areas within same order of magnitude):\n",
      "--> 272 neighborhoods passed, 0 neighborhoods failed.\n",
      "\n"
     ]
    }
   ],
   "source": [
    "# Run all the tests\n",
    "test_listings_have_location(Listing.objects.all())\n",
    "test_listings_in_correct_tract(Listing.objects.all())\n",
    "test_amenity_assignments(Amenity.objects.all())\n",
    "test_neighborhood_age_distributions(Neighborhood.objects.all())\n",
    "test_neighborhood_tract_geospatial_aggregations(Neighborhood.objects.all())"
   ]
  }
 ],
 "metadata": {
  "kernelspec": {
   "display_name": "Django Shell-Plus",
   "language": "python",
   "name": "django_extensions"
  },
  "language_info": {
   "codemirror_mode": {
    "name": "ipython",
    "version": 3
   },
   "file_extension": ".py",
   "mimetype": "text/x-python",
   "name": "python",
   "nbconvert_exporter": "python",
   "pygments_lexer": "ipython3",
   "version": "3.5.2"
  }
 },
 "nbformat": 4,
 "nbformat_minor": 2
}
