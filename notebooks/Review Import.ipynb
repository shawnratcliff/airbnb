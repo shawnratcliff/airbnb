{
 "cells": [
  {
   "cell_type": "code",
   "execution_count": 11,
   "metadata": {
    "collapsed": false
   },
   "outputs": [],
   "source": [
    "import pandas as pd\n",
    "import numpy as np\n",
    "from django.db.models import F, FloatField, Sum"
   ]
  },
  {
   "cell_type": "code",
   "execution_count": 3,
   "metadata": {
    "collapsed": false
   },
   "outputs": [],
   "source": [
    "# Define data types for initial parsing of CSV\n",
    "dtype = {\n",
    "    'id': np.int64,\n",
    "    'listing_id': np.int64,\n",
    "    'date': str,\n",
    "    'reviewer_id': np.int64,\n",
    "    'comments': str\n",
    "}\n",
    "     \n",
    "# Specify columns that should be parsed as dates\n",
    "parse_dates = ['date']\n",
    "\n",
    "# Specify conversion functions for particular columns\n",
    "converters = {\n",
    "}"
   ]
  },
  {
   "cell_type": "code",
   "execution_count": 4,
   "metadata": {
    "collapsed": false,
    "scrolled": true
   },
   "outputs": [],
   "source": [
    "# Read CSV contents into dataframe\n",
    "df = pd.read_csv(\n",
    "    '../res/reviews-3-aug-16.csv.gz', \n",
    "    usecols=list(dtype.keys()),\n",
    "    dtype=dtype, \n",
    "    parse_dates=parse_dates, \n",
    "    converters=converters\n",
    ")"
   ]
  },
  {
   "cell_type": "code",
   "execution_count": 5,
   "metadata": {
    "collapsed": false,
    "scrolled": false
   },
   "outputs": [
    {
     "data": {
      "text/plain": [
       "listing_id     False\n",
       "id             False\n",
       "date           False\n",
       "reviewer_id    False\n",
       "comments        True\n",
       "dtype: bool"
      ]
     },
     "execution_count": 5,
     "metadata": {},
     "output_type": "execute_result"
    }
   ],
   "source": [
    "# Check for columns containing null values\n",
    "df.isnull().any()"
   ]
  },
  {
   "cell_type": "code",
   "execution_count": 5,
   "metadata": {
    "collapsed": false
   },
   "outputs": [],
   "source": [
    "# # Fill certain null / missing values\n",
    "# df['reviews_per_month'].fillna(value=0.0, inplace=True)\n",
    "# df['bathrooms'].fillna(value=0.0, inplace=True)\n",
    "# df['bedrooms'].fillna(value=0.0, inplace=True)\n",
    "\n",
    "# # Drop entries with certain missing values\n",
    "# df.dropna(subset=['id', 'description', 'host_since', 'host_name'], inplace=True)"
   ]
  },
  {
   "cell_type": "code",
   "execution_count": 8,
   "metadata": {
    "collapsed": false,
    "scrolled": false
   },
   "outputs": [
    {
     "name": "stdout",
     "output_type": "stream",
     "text": [
      "..........................................................................................................................................................................................................................................................Listing 2898119 does not exist\n",
      "Listing 2898119 does not exist\n",
      ".................Listing 10034835 does not exist\n",
      "Listing 10034835 does not exist\n",
      "...........................................................................................................................................Listing 6505664 does not exist\n",
      "........................Listing 9998970 does not exist\n",
      ".........."
     ]
    }
   ],
   "source": [
    "# Delete all existing Reviews\n",
    "Review.objects.all().delete()\n",
    "\n",
    "# Instantiate and save a Listing for each row in the dataframe\n",
    "for index, row in df.iterrows():\n",
    "    try:\n",
    "        listing = Listing.objects.get(pk=row['listing_id'])\n",
    "        Review(\n",
    "            listing=listing,\n",
    "            id=row['id'],\n",
    "            date=row['date'],\n",
    "            reviewer_id=row['reviewer_id'],\n",
    "            comments=row['comments']\n",
    "        ).save() # Commit to DB\n",
    "    except Listing.DoesNotExist:\n",
    "        print (\"Listing %d does not exist\" % row['listing_id'])\n",
    "    if index % 1000 == 0:\n",
    "        print('.', end='')"
   ]
  },
  {
   "cell_type": "code",
   "execution_count": 11,
   "metadata": {
    "collapsed": false
   },
   "outputs": [
    {
     "data": {
      "text/plain": [
       "206"
      ]
     },
     "execution_count": 11,
     "metadata": {},
     "output_type": "execute_result"
    }
   ],
   "source": [
    "Review.objects.filter(comments=\"nan\").update(comments=\"\")"
   ]
  },
  {
   "cell_type": "code",
   "execution_count": 14,
   "metadata": {
    "collapsed": false
   },
   "outputs": [
    {
     "data": {
      "text/plain": [
       "53344"
      ]
     },
     "execution_count": 14,
     "metadata": {},
     "output_type": "execute_result"
    }
   ],
   "source": [
    "from django.db.models.functions import ExtractMonth\n",
    "Review.objects.annotate(month=ExtractMonth('date')).filter(month=6).count()"
   ]
  },
  {
   "cell_type": "code",
   "execution_count": 38,
   "metadata": {
    "collapsed": false
   },
   "outputs": [],
   "source": [
    "months=['Jan', 'Feb', 'Mar', 'Apr', 'May', 'Jun', 'Jul', 'Aug', 'Sep', 'Oct','Nov','Dec']\n",
    "def print_monthly_review_totals(queryset):\n",
    "    for i in range(1,13):\n",
    "        print(months[i-1], \"%.2f%%\" % float(100 *\n",
    "            queryset.annotate(month=ExtractMonth('date')).filter(month=i).count() / queryset.count()))"
   ]
  },
  {
   "cell_type": "code",
   "execution_count": 42,
   "metadata": {
    "collapsed": false
   },
   "outputs": [
    {
     "name": "stdout",
     "output_type": "stream",
     "text": [
      "Booking activity for all listings\n",
      "Jan 6.77%\n",
      "Feb 7.31%\n",
      "Mar 8.77%\n",
      "Apr 9.74%\n",
      "May 11.16%\n",
      "Jun 12.14%\n",
      "Jul 13.94%\n",
      "Aug 7.48%\n",
      "Sep 5.94%\n",
      "Oct 6.23%\n",
      "Nov 5.25%\n",
      "Dec 5.26%\n"
     ]
    }
   ],
   "source": [
    "print(\"Booking activity for all listings\")\n",
    "print_monthly_review_totals(Review.objects.all())"
   ]
  },
  {
   "cell_type": "code",
   "execution_count": 41,
   "metadata": {
    "collapsed": false
   },
   "outputs": [
    {
     "name": "stdout",
     "output_type": "stream",
     "text": [
      "Booking activity for Van Nuys\n",
      "Jan 5.98%\n",
      "Feb 5.23%\n",
      "Mar 7.85%\n",
      "Apr 10.65%\n",
      "May 10.84%\n",
      "Jun 14.86%\n",
      "Jul 18.04%\n",
      "Aug 5.61%\n",
      "Sep 5.89%\n",
      "Oct 4.58%\n",
      "Nov 5.33%\n",
      "Dec 5.14%\n"
     ]
    }
   ],
   "source": [
    "print(\"Booking activity for Van Nuys\")\n",
    "listing_ids = [_['id'] for _ in Neighborhood.objects.get(name=\"Van Nuys\").listing_set.all().values('id')]\n",
    "print_monthly_review_totals(Review.objects.filter(listing_id__in=listing_ids))"
   ]
  },
  {
   "cell_type": "code",
   "execution_count": null,
   "metadata": {
    "collapsed": true
   },
   "outputs": [],
   "source": []
  }
 ],
 "metadata": {
  "kernelspec": {
   "display_name": "Django Shell-Plus",
   "language": "python",
   "name": "django_extensions"
  },
  "language_info": {
   "codemirror_mode": {
    "name": "ipython",
    "version": 3
   },
   "file_extension": ".py",
   "mimetype": "text/x-python",
   "name": "python",
   "nbconvert_exporter": "python",
   "pygments_lexer": "ipython3",
   "version": "3.5.2"
  }
 },
 "nbformat": 4,
 "nbformat_minor": 2
}
