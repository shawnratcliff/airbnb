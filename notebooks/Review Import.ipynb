{
 "cells": [
  {
   "cell_type": "code",
   "execution_count": 1,
   "metadata": {
    "collapsed": false
   },
   "outputs": [],
   "source": [
    "import pandas as pd\n",
    "import numpy as np"
   ]
  },
  {
   "cell_type": "code",
   "execution_count": 3,
   "metadata": {
    "collapsed": false
   },
   "outputs": [],
   "source": [
    "# Define data types for initial parsing of CSV\n",
    "dtype = {\n",
    "    'id': np.int64,\n",
    "    'listing_id': np.int64,\n",
    "    'date': str,\n",
    "    'reviewer_id': np.int64,\n",
    "    'comments': str\n",
    "}\n",
    "     \n",
    "# Specify columns that should be parsed as dates\n",
    "parse_dates = ['date']\n",
    "\n",
    "# Specify conversion functions for particular columns\n",
    "converters = {\n",
    "}"
   ]
  },
  {
   "cell_type": "code",
   "execution_count": 4,
   "metadata": {
    "collapsed": false,
    "scrolled": true
   },
   "outputs": [],
   "source": [
    "# Read CSV contents into dataframe\n",
    "df = pd.read_csv(\n",
    "    '../res/reviews-3-aug-16.csv.gz', \n",
    "    usecols=list(dtype.keys()),\n",
    "    dtype=dtype, \n",
    "    parse_dates=parse_dates, \n",
    "    converters=converters\n",
    ")"
   ]
  },
  {
   "cell_type": "code",
   "execution_count": 5,
   "metadata": {
    "collapsed": false,
    "scrolled": false
   },
   "outputs": [
    {
     "data": {
      "text/plain": [
       "listing_id     False\n",
       "id             False\n",
       "date           False\n",
       "reviewer_id    False\n",
       "comments        True\n",
       "dtype: bool"
      ]
     },
     "execution_count": 5,
     "metadata": {},
     "output_type": "execute_result"
    }
   ],
   "source": [
    "# Check for columns containing null values\n",
    "df.isnull().any()"
   ]
  },
  {
   "cell_type": "code",
   "execution_count": 5,
   "metadata": {
    "collapsed": false
   },
   "outputs": [],
   "source": [
    "# # Fill certain null / missing values\n",
    "# df['reviews_per_month'].fillna(value=0.0, inplace=True)\n",
    "# df['bathrooms'].fillna(value=0.0, inplace=True)\n",
    "# df['bedrooms'].fillna(value=0.0, inplace=True)\n",
    "\n",
    "# # Drop entries with certain missing values\n",
    "# df.dropna(subset=['id', 'description', 'host_since', 'host_name'], inplace=True)"
   ]
  },
  {
   "cell_type": "code",
   "execution_count": 8,
   "metadata": {
    "collapsed": false,
    "scrolled": false
   },
   "outputs": [
    {
     "name": "stdout",
     "output_type": "stream",
     "text": [
      "..........................................................................................................................................................................................................................................................Listing 2898119 does not exist\n",
      "Listing 2898119 does not exist\n",
      ".................Listing 10034835 does not exist\n",
      "Listing 10034835 does not exist\n",
      "...........................................................................................................................................Listing 6505664 does not exist\n",
      "........................Listing 9998970 does not exist\n",
      ".........."
     ]
    }
   ],
   "source": [
    "# Delete all existing Reviews\n",
    "Review.objects.all().delete()\n",
    "\n",
    "# Instantiate and save a Listing for each row in the dataframe\n",
    "for index, row in df.iterrows():\n",
    "    try:\n",
    "        listing = Listing.objects.get(pk=row['listing_id'])\n",
    "        Review(\n",
    "            listing=listing,\n",
    "            id=row['id'],\n",
    "            date=row['date'],\n",
    "            reviewer_id=row['reviewer_id'],\n",
    "            comments=row['comments']\n",
    "        ).save() # Commit to DB\n",
    "    except Listing.DoesNotExist:\n",
    "        print (\"Listing %d does not exist\" % row['listing_id'])\n",
    "    if index % 1000 == 0:\n",
    "        print('.', end='')"
   ]
  },
  {
   "cell_type": "code",
   "execution_count": 11,
   "metadata": {
    "collapsed": false
   },
   "outputs": [
    {
     "data": {
      "text/plain": [
       "206"
      ]
     },
     "execution_count": 11,
     "metadata": {},
     "output_type": "execute_result"
    }
   ],
   "source": [
    "Review.objects.filter(comments=\"nan\").update(comments=\"\")"
   ]
  },
  {
   "cell_type": "code",
   "execution_count": 15,
   "metadata": {
    "collapsed": false
   },
   "outputs": [
    {
     "data": {
      "text/plain": [
       "53344"
      ]
     },
     "execution_count": 15,
     "metadata": {},
     "output_type": "execute_result"
    }
   ],
   "source": [
    "from django.db.models.functions import ExtractMonth\n",
    "Review.objects.annotate(month=ExtractMonth('date')).filter(month=6).count()"
   ]
  },
  {
   "cell_type": "code",
   "execution_count": 52,
   "metadata": {
    "collapsed": false
   },
   "outputs": [],
   "source": [
    "months=['Jan', 'Feb', 'Mar', 'Apr', 'May', 'Jun', 'Jul', 'Aug', 'Sep', 'Oct','Nov','Dec']\n",
    "def print_monthly_review_totals(queryset):\n",
    "    for i in range(1,13):\n",
    "        print(months[i-1], '*', queryset.annotate(month=ExtractMonth('date')).filter(month=i).count() / queryset.count())"
   ]
  },
  {
   "cell_type": "code",
   "execution_count": 53,
   "metadata": {
    "collapsed": false
   },
   "outputs": [
    {
     "name": "stdout",
     "output_type": "stream",
     "text": [
      "Jan * 0.06774114262826349\n",
      "Feb * 0.07311883261114954\n",
      "Mar * 0.08771119324181627\n",
      "Apr * 0.09739467647380111\n",
      "May * 0.1116047045115246\n",
      "Jun * 0.12139970141645122\n",
      "Jul * 0.13941484906965737\n",
      "Aug * 0.07480519244073845\n",
      "Sep * 0.05942540873174817\n",
      "Oct * 0.06226104212941048\n",
      "Nov * 0.052522939955576595\n",
      "Dec * 0.052600316789862725\n"
     ]
    }
   ],
   "source": [
    "print_monthly_review_totals(Review.objects.all())"
   ]
  },
  {
   "cell_type": "code",
   "execution_count": 47,
   "metadata": {
    "collapsed": false
   },
   "outputs": [
    {
     "name": "stdout",
     "output_type": "stream",
     "text": [
      "Jan * 0.059813084112149535\n",
      "Feb * 0.052336448598130844\n",
      "Mar * 0.07850467289719626\n",
      "Apr * 0.10654205607476636\n",
      "May * 0.10841121495327102\n",
      "Jun * 0.1485981308411215\n",
      "Jul * 0.18037383177570093\n",
      "Aug * 0.056074766355140186\n",
      "Sep * 0.058878504672897194\n",
      "Oct * 0.04579439252336449\n",
      "Nov * 0.05327102803738318\n",
      "Dec * 0.0514018691588785\n"
     ]
    }
   ],
   "source": [
    "listing_ids = [_['id'] for _ in Neighborhood.objects.get(name=\"Van Nuys\").listing_set.all().values('id')]\n",
    "print_monthly_review_totals(Review.objects.filter(listing_id__in=listing_ids))"
   ]
  },
  {
   "cell_type": "code",
   "execution_count": 3,
   "metadata": {
    "collapsed": false,
    "scrolled": false
   },
   "outputs": [
    {
     "name": "stdout",
     "output_type": "stream",
     "text": [
      "Hasley Canyon None\n",
      "Angeles Crest 30.0\n",
      "Arcadia 8.928571428571429\n",
      "Beverly Hills 23.119760479041915\n",
      "Castaic 6.0\n",
      "Castaic Canyons 24.615384615384617\n",
      "Azusa 7.5\n",
      "Cerritos 19.333333333333332\n",
      "Chatsworth 9.666666666666666\n",
      "Calabasas 15.0\n",
      "Carson 49.54838709677419\n",
      "Culver City 41.943127962085306\n",
      "Claremont 39.611111111111114\n",
      "Compton 1.3076923076923077\n",
      "Covina 15.384615384615385\n",
      "East San Gabriel 15.612903225806452\n",
      "Florence 2.5\n",
      "East Compton 0.0\n",
      "East Los Angeles 40.18181818181818\n",
      "El Monte 22.88888888888889\n",
      "Elysian Valley 21.7\n",
      "Glendale 24.787644787644787\n",
      "Harbor Gateway 22.0\n",
      "Hancock Park 38.15238095238095\n",
      "La Cañada Flintridge 28.125\n",
      "Montecito Heights 25.1\n",
      "Irwindale 10.666666666666666\n",
      "Jefferson Park 25.565217391304348\n",
      "La Verne 16.2\n",
      "La Mirada 30.0\n",
      "Lancaster 14.923076923076923\n",
      "Long Beach 35.46650124069479\n",
      "Northeast Antelope Valley 0.0\n",
      "Malibu 29.70769230769231\n",
      "Palmdale 8.571428571428571\n",
      "Monrovia 18.533333333333335\n",
      "Montebello 22.42105263157895\n",
      "Northwest Palmdale 2.0\n",
      "Palos Verdes Estates 13.454545454545455\n",
      "Pasadena 30.267898383371826\n",
      "Pico Rivera 87.5\n",
      "Rancho Palos Verdes 31.86842105263158\n",
      "Redondo Beach 28.703557312252965\n",
      "Ramona 5.6\n",
      "Ridge Route 20.0\n",
      "Rolling Hills Estates 91.14285714285714\n",
      "Rosemead 17.473684210526315\n",
      "San Dimas 9.555555555555555\n",
      "San Gabriel 20.026315789473685\n",
      "San Pedro 38.734177215189874\n",
      "Santa Clarita 16.373333333333335\n",
      "Santa Fe Springs 11.6\n",
      "Southeast Antelope Valley 5.0\n",
      "Tarzana 16.919540229885058\n",
      "Stevenson Ranch 9.411764705882353\n",
      "Sun Village 1.3333333333333333\n",
      "Topanga 56.22660098522167\n",
      "Torrance 31.84375\n",
      "Tujunga Canyons 6.0\n",
      "Unincorporated Catalina Island 0.0\n",
      "Unincorporated Santa Monica Mountains 75.16666666666667\n",
      "Unincorporated Santa Susana Mountains 2.6666666666666665\n",
      "West Covina 7.26530612244898\n",
      "West Los Angeles 17.842105263157894\n",
      "Westlake Village 0.6666666666666666\n",
      "Whittier 30.541666666666668\n",
      "Wilmington 3.5\n",
      "Harvard Heights 46.04545454545455\n",
      "Carthay 33.29824561403509\n",
      "Chesterfield Square 4.0\n",
      "Cheviot Hills 17.75609756097561\n",
      "Century City 32.0\n",
      "East La Mirada 0.0\n",
      "Northwest Antelope Valley None\n",
      "Playa Vista 21.9\n",
      "Pomona 18.0625\n",
      "Hansen Dam None\n",
      "Hawthorne 44.22222222222222\n",
      "Industry 3.6923076923076925\n",
      "Leona Valley None\n",
      "Koreatown 29.57429718875502\n",
      "Leimert Park 33.84615384615385\n",
      "Panorama City 4.3076923076923075\n",
      "Manchester Square 5.5\n",
      "North El Monte 2.5\n",
      "Valinda 3.0\n",
      "Vermont-Slauson 3.0\n",
      "Winnetka 16.88235294117647\n",
      "Shadow Hills 2.0\n",
      "Arlington Heights 44.27272727272727\n",
      "View Park-Windsor Hills 40.77272727272727\n",
      "Vermont Knolls 2.4\n",
      "Harvard Park None\n",
      "Veterans Administration 51.42857142857143\n",
      "Adams-Normandie 22.358974358974358\n",
      "North Hills 16.0\n",
      "Porter Ranch 9.529411764705882\n",
      "Bradbury 0.0\n",
      "Acton 18.666666666666668\n",
      "Beverlywood 43.2\n",
      "Artesia 1.0\n",
      "Agoura Hills 19.257142857142856\n",
      "Chinatown 54.19607843137255\n",
      "El Segundo 49.070422535211264\n",
      "El Sereno 19.372549019607842\n",
      "Historic South-Central 21.470588235294116\n",
      "Lake Balboa 27.675675675675677\n",
      "Sawtelle 28.594847775175644\n",
      "Central-Alameda 2.0\n",
      "Mid-City 32.58360655737705\n",
      "Echo Park 50.60769230769231\n",
      "Cypress Park 25.181818181818183\n",
      "Northridge 25.96551724137931\n",
      "Canoga Park 13.538461538461538\n",
      "Chatsworth Reservoir None\n",
      "Green Valley 66.0\n",
      "Valley Glen 24.950819672131146\n",
      "Palms 24.911877394636015\n",
      "Exposition Park 4.388059701492537\n",
      "Hollywood 46.24151811385854\n",
      "Fairfax 37.29940119760479\n",
      "Tujunga 35.76470588235294\n",
      "East Pasadena 19.09090909090909\n",
      "Lennox 4.0\n",
      "Mount Washington 40.63157894736842\n",
      "West Compton None\n",
      "Larchmont 31.982608695652175\n",
      "Mayflower Village 10.0\n",
      "East Hollywood 27.87878787878788\n",
      "Lake Los Angeles None\n",
      "Beverly Grove 27.65631469979296\n",
      "Quartz Hill 0.0\n",
      "Glassell Park 32.985915492957744\n",
      "Vermont Vista 9.0\n",
      "Rancho Park 22.451612903225808\n",
      "Reseda 29.322580645161292\n",
      "San Fernando 6.8\n",
      "Vermont Square 30.727272727272727\n",
      "Sierra Madre 28.363636363636363\n",
      "South San Jose Hills 7.333333333333333\n",
      "Sunland 3.75\n",
      "Universal City 218.0\n",
      "Watts 0.0\n",
      "Westmont 13.0\n",
      "Westlake 37.2196261682243\n",
      "Broadway-Manchester 31.714285714285715\n",
      "Downtown 35.35705521472393\n",
      "North Hollywood 25.142857142857142\n",
      "Atwater Village 44.9010989010989\n",
      "Arleta 80.0\n",
      "Lincoln Heights 27.541666666666668\n",
      "Elysian Park 74.15384615384616\n",
      "Gramercy Park 12.666666666666666\n",
      "Toluca Lake 21.09375\n",
      "Cudahy None\n",
      "Sepulveda Basin 21.5\n",
      "Rancho Dominguez 4.0\n",
      "Inglewood 27.63302752293578\n",
      "West Carson 16.266666666666666\n",
      "Green Meadows 51.6\n",
      "Windsor Square 25.542857142857144\n",
      "Pico-Union 42.7891156462585\n",
      "Westwood 18.79495268138801\n",
      "Boyle Heights 27.47252747252747\n",
      "Littlerock None\n",
      "Granada Hills 17.833333333333332\n",
      "Val Verde 41.666666666666664\n",
      "Walnut Park None\n",
      "Silver Lake 51.87234042553192\n",
      "University Park 8.488372093023257\n",
      "Pico-Robertson 15.297619047619047\n",
      "San Pasqual 58.666666666666664\n",
      "Lomita 16.0\n",
      "Athens 93.33333333333333\n",
      "Del Aire 39.166666666666664\n",
      "Agua Dulce 25.636363636363637\n",
      "Hawaiian Gardens 5.0\n",
      "Hyde Park 10.526315789473685\n",
      "Mid-Wilshire 29.444099378881987\n",
      "Bellflower 6.428571428571429\n",
      "South Pasadena 23.964912280701753\n",
      "Rolling Hills 0.0\n",
      "West Adams 23.153846153846153\n",
      "Temple City 9.836065573770492\n",
      "Harbor City 29.333333333333332\n",
      "South Diamond Bar None\n",
      "Alhambra 24.41269841269841\n",
      "Avalon 7.818181818181818\n",
      "San Marino 13.0\n",
      "Altadena 24.728476821192054\n",
      "Maywood None\n",
      "West San Dimas None\n",
      "Avocado Heights 6.75\n",
      "Playa del Rey 24.14876033057851\n",
      "Pacoima 16.0\n",
      "Studio City 19.86875\n",
      "Baldwin Hills/Crenshaw 21.8\n",
      "Signal Hill 29.88235294117647\n",
      "Baldwin Park 4.4\n",
      "Venice 60.76135770234987\n",
      "Bell 53.333333333333336\n",
      "Beverly Crest 19.613445378151262\n",
      "Elizabeth Lake None\n",
      "Brentwood 18.437810945273633\n",
      "Burbank 31.211009174311926\n",
      "Charter Oak 49.0\n",
      "Citrus 13.555555555555555\n",
      "Commerce None\n",
      "Del Rey 42.4089219330855\n",
      "Desert View Highlands None\n",
      "Diamond Bar 7.6521739130434785\n",
      "Sherman Oaks 18.763736263736263\n",
      "Downey 37.75\n",
      "Duarte 14.666666666666666\n",
      "Eagle Rock 49.042857142857144\n",
      "Hidden Hills None\n",
      "Encino 20.422018348623855\n",
      "Florence-Firestone None\n",
      "Gardena 25.291666666666668\n",
      "Los Feliz 32.7972027972028\n",
      "Vincent 9.333333333333334\n",
      "Mission Hills 4.0\n",
      "Alondra Park 20.0\n",
      "Bel-Air 9.6\n",
      "Griffith Park 61.142857142857146\n",
      "Glendora 24.25\n",
      "Hacienda Heights 11.178082191780822\n",
      "Hermosa Beach 28.816326530612244\n",
      "Hollywood Hills 42.18105849582173\n",
      "Highland Park 36.0390243902439\n",
      "Hollywood Hills West 26.622549019607842\n",
      "Huntington Park 32.666666666666664\n",
      "La Crescenta-Montrose 8.105263157894736\n",
      "Ladera Heights 33.47826086956522\n",
      "La Habra Heights 17.7\n",
      "Lake Hughes 6.0\n",
      "West Hills 10.703703703703704\n",
      "Lake View Terrace None\n",
      "Lakewood 17.11764705882353\n",
      "La Puente 14.0\n",
      "Lopez/Kagel Canyons None\n",
      "Lynwood 104.94736842105263\n",
      "Manhattan Beach 24.046783625730995\n",
      "Monterey Park 19.88235294117647\n",
      "North Whittier 0.0\n",
      "Norwalk 14.166666666666666\n",
      "Pacific Palisades 32.609756097560975\n",
      "Paramount 21.4\n",
      "Van Nuys 17.398373983739837\n",
      "Mar Vista 37.46630727762803\n",
      "Lawndale 39.6\n",
      "Marina del Rey 14.062992125984252\n",
      "Bell Gardens None\n",
      "Valley Village 19.30081300813008\n",
      "Sun Valley 30.926829268292682\n",
      "South Park 7.333333333333333\n",
      "Rowland Heights 10.008403361344538\n",
      "Santa Monica 35.26958525345622\n",
      "South El Monte 1.2\n",
      "South Gate 2.4\n",
      "South San Gabriel 38.666666666666664\n",
      "South Whittier 8.4\n",
      "Sylmar 14.19047619047619\n",
      "Vernon 0.0\n",
      "Walnut 5.2\n",
      "Westchester 42.776315789473685\n",
      "West Hollywood 34.302233902759525\n",
      "West Puente Valley 0.0\n",
      "West Whittier-Los Nietos 0.0\n",
      "Whittier Narrows None\n",
      "Willowbrook 25.2\n",
      "Woodland Hills 19.327014218009477\n"
     ]
    }
   ],
   "source": [
    "for n in Neighborhood.objects.all():\n",
    "    print(n.name, n.computed_stats['avg_estimated_bookings_per_listing'])"
   ]
  },
  {
   "cell_type": "code",
   "execution_count": null,
   "metadata": {
    "collapsed": true
   },
   "outputs": [],
   "source": []
  }
 ],
 "metadata": {
  "kernelspec": {
   "display_name": "Django Shell-Plus",
   "language": "python",
   "name": "django_extensions"
  },
  "language_info": {
   "codemirror_mode": {
    "name": "ipython",
    "version": 3
   },
   "file_extension": ".py",
   "mimetype": "text/x-python",
   "name": "python",
   "nbconvert_exporter": "python",
   "pygments_lexer": "ipython3",
   "version": "3.5.2"
  }
 },
 "nbformat": 4,
 "nbformat_minor": 2
}
