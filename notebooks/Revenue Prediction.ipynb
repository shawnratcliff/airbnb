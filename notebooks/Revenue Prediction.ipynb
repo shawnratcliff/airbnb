{
 "cells": [
  {
   "cell_type": "code",
   "execution_count": 82,
   "metadata": {
    "collapsed": true
   },
   "outputs": [],
   "source": [
    "import pandas as pd\n",
    "import numpy as np\n",
    "import pickle\n",
    "from django.db.models import F, ExpressionWrapper, Expression, DurationField\n",
    "from django.contrib.gis.db.models.functions import AsGeoJSON\n",
    "from ast import literal_eval\n",
    "from sklearn import preprocessing"
   ]
  },
  {
   "cell_type": "code",
   "execution_count": 83,
   "metadata": {
    "collapsed": true
   },
   "outputs": [],
   "source": [
    "# Load Census tract-level data\n",
    "TRACT_DATA = pickle.load(open('../pickles/census_data_ml.p', 'rb'))"
   ]
  },
  {
   "cell_type": "code",
   "execution_count": 84,
   "metadata": {
    "collapsed": false
   },
   "outputs": [
    {
     "data": {
      "text/plain": [
       "(26048, 81)"
      ]
     },
     "execution_count": 84,
     "metadata": {},
     "output_type": "execute_result"
    }
   ],
   "source": [
    "# Load pre-saved extracted listing data\n",
    "listing_df = pickle.load(open('../pickles/listings_dataframe.p', 'rb'))\n",
    "extra_listing_data_df = pickle.load(open('../pickles/listings_extra_df.p', 'rb'))\n",
    "# listing_topic_df = pickle.load(open('../pickles/listing_topic_df.p', 'rb'))\n",
    "\n",
    "# Merge the listing data into one frame\n",
    "listing_df = pd.merge(listing_df, extra_listing_data_df, on='id', how='left')\n",
    "\n",
    "# Drop the description column, since we aren't using text features now\n",
    "listing_df.drop('description', axis=1, inplace=True)\n",
    "\n",
    "# listing_df = pd.merge(listing_df, listing_topic_df, on='id', how='left')\n",
    "listing_df.shape # Should be 26048 length"
   ]
  },
  {
   "cell_type": "code",
   "execution_count": 85,
   "metadata": {
    "collapsed": false
   },
   "outputs": [],
   "source": [
    "# Add census tract-level data, but only certain features\n",
    "percent_vars = [c for c in TRACT_DATA.columns if c.startswith('percent_')]\n",
    "census_vars = [col for col in TRACT_DATA.columns\n",
    "               if col in ('tract_id', 'B25064_001E', 'B19301_001E', 'B01003_001E', 'B25001_001E')\n",
    "               or col in percent_vars]\n",
    "\n",
    "tract_df = TRACT_DATA[census_vars].copy()\n",
    "\n",
    "# Fill in missing percent columns with 0\n",
    "percent_cols = [c for c in TRACT_DATA.columns if c.startswith('percent_')]\n",
    "tract_df[percent_cols] = tract_df[percent_cols].fillna(value=0.0)"
   ]
  },
  {
   "cell_type": "code",
   "execution_count": 86,
   "metadata": {
    "collapsed": false
   },
   "outputs": [
    {
     "data": {
      "text/plain": [
       "(25538, 97)"
      ]
     },
     "execution_count": 86,
     "metadata": {},
     "output_type": "execute_result"
    }
   ],
   "source": [
    "# Join the tables \n",
    "merged=pd.merge(listing_df, tract_df, on='tract_id', how='left')\n",
    "\n",
    "# Drop rows with null values \n",
    "merged.dropna(axis=0, inplace=True)\n",
    "\n",
    "# Drop price outliers: massive boost in model accuracy\n",
    "merged = merged[merged.price <= 1000]\n",
    "\n",
    "\n",
    "merged.shape"
   ]
  },
  {
   "cell_type": "code",
   "execution_count": 87,
   "metadata": {
    "collapsed": false,
    "scrolled": true
   },
   "outputs": [],
   "source": [
    "from sklearn import preprocessing\n",
    "from sklearn.model_selection import train_test_split\n",
    "\n",
    "# Build feature and target vectors\n",
    "X = merged.drop(['id', 'estimated_revenue_per_month', 'reviews_per_month',\n",
    "                 'block_group_id', 'tract_id', 'zipcode_id', 'neighborhood_id',\n",
    "                 'price'], axis=1).copy()\n",
    "\n",
    "y = merged.price.copy()\n",
    "\n",
    "# Convert numeric types to floats\n",
    "category_cols = ['room_type', 'property_type', 'bed_type',]\n",
    "float_cols = [col for col in list(X.columns) if col not in category_cols]\n",
    "X[float_cols] = X[float_cols].astype(np.float64)\n",
    "\n",
    "# Fit LabelEncoders to transform training and future prediction data\n",
    "room_type_le = preprocessing.LabelEncoder().fit(X.room_type)\n",
    "property_type_le = preprocessing.LabelEncoder().fit(X.property_type)\n",
    "bed_type_le = preprocessing.LabelEncoder().fit(X.bed_type)\n",
    "\n",
    "# Replace categorical columns with LabelEncoder transformed values\n",
    "X['room_type'] = room_type_le.transform(X.room_type)\n",
    "X['property_type'] = property_type_le.transform(X.property_type)\n",
    "X['bed_type'] = bed_type_le.transform(X.bed_type)\n",
    "\n",
    "X_train, X_test, y_train, y_test = train_test_split(X, y, test_size=0.33, random_state=42)"
   ]
  },
  {
   "cell_type": "code",
   "execution_count": 88,
   "metadata": {
    "collapsed": false,
    "scrolled": true
   },
   "outputs": [
    {
     "name": "stdout",
     "output_type": "stream",
     "text": [
      "r^2:  0.684573682439\n",
      "median absolute error:  20.45\n",
      "mean absolute error:  40.509776934\n"
     ]
    },
    {
     "name": "stderr",
     "output_type": "stream",
     "text": [
      "[Parallel(n_jobs=-1)]: Done  30 out of  30 | elapsed:    3.5s finished\n",
      "[Parallel(n_jobs=4)]: Done  30 out of  30 | elapsed:    0.0s finished\n"
     ]
    }
   ],
   "source": [
    "from sklearn.ensemble import RandomForestRegressor\n",
    "from sklearn.metrics import r2_score, median_absolute_error, mean_absolute_error\n",
    "\n",
    "# Train\n",
    "model=RandomForestRegressor(n_estimators=30, max_features=None, n_jobs=-1, verbose=1)\n",
    "model.fit(X_train, y_train)\n",
    "\n",
    "# Predict/evaluate\n",
    "y_predict = model.predict(X_test)\n",
    "print('r^2: ', r2_score(y_test, y_predict))\n",
    "print('median absolute error: ', median_absolute_error(y_test, y_predict))\n",
    "print('mean absolute error: ', mean_absolute_error(y_test, y_predict))"
   ]
  },
  {
   "cell_type": "code",
   "execution_count": 89,
   "metadata": {
    "collapsed": false
   },
   "outputs": [
    {
     "name": "stderr",
     "output_type": "stream",
     "text": [
      "[Parallel(n_jobs=-1)]: Done  30 out of  30 | elapsed:    5.1s finished\n"
     ]
    }
   ],
   "source": [
    "# Fit the model on the whole data, and pickle it\n",
    "model.fit(X, y)\n",
    "model_with_extras = {\n",
    "    'model': model,\n",
    "    'room_type_le': room_type_le,\n",
    "    'property_type_le': property_type_le,\n",
    "    'bed_type_le': bed_type_le\n",
    "}\n",
    "\n",
    "pickle.dump(model_with_extras, open('../pickles/price_model_with_extras.p', 'wb'))"
   ]
  },
  {
   "cell_type": "code",
   "execution_count": 94,
   "metadata": {
    "collapsed": false,
    "scrolled": false
   },
   "outputs": [
    {
     "name": "stdout",
     "output_type": "stream",
     "text": [
      "186, 145\n",
      "136, 250\n",
      "198, 199\n",
      "171, 120\n",
      "68, 75\n",
      "83, 56\n",
      "128, 80\n",
      "111, 110\n",
      "511, 275\n",
      "98, 99\n",
      "180, 180\n",
      "63, 65\n",
      "133, 95\n",
      "111, 150\n",
      "70, 49\n",
      "110, 85\n",
      "144, 125\n",
      "158, 75\n",
      "76, 75\n",
      "406, 330\n"
     ]
    }
   ],
   "source": [
    "# Take a look at some predictions vs. actual values\n",
    "\n",
    "for i in range(1,1000)[::50]:\n",
    "    predict = y_predict[i]\n",
    "    actual = y_test.iloc[i]\n",
    "    print('%.0f,' % predict, '%.0f' % actual)"
   ]
  },
  {
   "cell_type": "code",
   "execution_count": null,
   "metadata": {
    "collapsed": false,
    "scrolled": false
   },
   "outputs": [],
   "source": [
    "# Show which features were important to the model\n",
    "feat_imp = pd.DataFrame([X.columns, model.feature_importances_]).transpose()\n",
    "feat_imp.columns = ['variable', 'importance']\n",
    "\n",
    "with pd.option_context('display.max_rows', None):\n",
    "    print(feat_imp.sort_values('importance', ascending=False))\n",
    "\n"
   ]
  },
  {
   "cell_type": "code",
   "execution_count": 97,
   "metadata": {
    "collapsed": false
   },
   "outputs": [
    {
     "data": {
      "text/html": [
       "<div>\n",
       "<table border=\"1\" class=\"dataframe\">\n",
       "  <thead>\n",
       "    <tr style=\"text-align: right;\">\n",
       "      <th></th>\n",
       "      <th>actual</th>\n",
       "      <th>predict</th>\n",
       "      <th>err</th>\n",
       "      <th>abs_err</th>\n",
       "    </tr>\n",
       "  </thead>\n",
       "  <tbody>\n",
       "    <tr>\n",
       "      <th>count</th>\n",
       "      <td>8428.000000</td>\n",
       "      <td>8428.000000</td>\n",
       "      <td>8428.000000</td>\n",
       "      <td>8428.000000</td>\n",
       "    </tr>\n",
       "    <tr>\n",
       "      <th>mean</th>\n",
       "      <td>147.185335</td>\n",
       "      <td>149.663827</td>\n",
       "      <td>2.478492</td>\n",
       "      <td>40.394589</td>\n",
       "    </tr>\n",
       "    <tr>\n",
       "      <th>std</th>\n",
       "      <td>132.446583</td>\n",
       "      <td>113.289574</td>\n",
       "      <td>74.216397</td>\n",
       "      <td>62.308112</td>\n",
       "    </tr>\n",
       "    <tr>\n",
       "      <th>min</th>\n",
       "      <td>14.000000</td>\n",
       "      <td>24.033333</td>\n",
       "      <td>-894.066667</td>\n",
       "      <td>0.000000</td>\n",
       "    </tr>\n",
       "    <tr>\n",
       "      <th>25%</th>\n",
       "      <td>70.000000</td>\n",
       "      <td>78.700000</td>\n",
       "      <td>-12.933333</td>\n",
       "      <td>9.000000</td>\n",
       "    </tr>\n",
       "    <tr>\n",
       "      <th>50%</th>\n",
       "      <td>102.000000</td>\n",
       "      <td>113.466667</td>\n",
       "      <td>6.800000</td>\n",
       "      <td>20.933333</td>\n",
       "    </tr>\n",
       "    <tr>\n",
       "      <th>75%</th>\n",
       "      <td>175.000000</td>\n",
       "      <td>174.908333</td>\n",
       "      <td>26.033333</td>\n",
       "      <td>45.133333</td>\n",
       "    </tr>\n",
       "    <tr>\n",
       "      <th>max</th>\n",
       "      <td>1000.000000</td>\n",
       "      <td>910.633333</td>\n",
       "      <td>568.600000</td>\n",
       "      <td>894.066667</td>\n",
       "    </tr>\n",
       "  </tbody>\n",
       "</table>\n",
       "</div>"
      ],
      "text/plain": [
       "            actual      predict          err      abs_err\n",
       "count  8428.000000  8428.000000  8428.000000  8428.000000\n",
       "mean    147.185335   149.663827     2.478492    40.394589\n",
       "std     132.446583   113.289574    74.216397    62.308112\n",
       "min      14.000000    24.033333  -894.066667     0.000000\n",
       "25%      70.000000    78.700000   -12.933333     9.000000\n",
       "50%     102.000000   113.466667     6.800000    20.933333\n",
       "75%     175.000000   174.908333    26.033333    45.133333\n",
       "max    1000.000000   910.633333   568.600000   894.066667"
      ]
     },
     "execution_count": 97,
     "metadata": {},
     "output_type": "execute_result"
    }
   ],
   "source": [
    "# Compare test vs. predicted\n",
    "compare = pd.DataFrame([list(y_test), list(y_predict)]).transpose()\n",
    "compare.columns = ['actual', 'predict']\n",
    "compare['err'] = compare.predict - compare.actual\n",
    "compare['abs_err'] = compare.err.apply(lambda x: abs(x))\n",
    "compare.describe()"
   ]
  },
  {
   "cell_type": "code",
   "execution_count": 80,
   "metadata": {
    "collapsed": false
   },
   "outputs": [],
   "source": [
    "new_listing = {\n",
    "    'address': 'Pacific Promenade, Playa Vista, CA',\n",
    "    'availability_365': 365,\n",
    "    'room_type': 'Private room',\n",
    "    'property_type': 'Apartment',\n",
    "    'bed_type': 'Real Bed',\n",
    "    'accommodates': 2,\n",
    "    'guests_included': 2,\n",
    "    'host_experience_days': 360,\n",
    "    'extra_people': 0,\n",
    "    'review_count': 0,\n",
    "    'minimum_nights': 1,\n",
    "    'amenity_1': False,\n",
    "    'amenity_2': False,\n",
    "    'amenity_3': False,\n",
    "    'amenity_4': False,\n",
    "    'amenity_5': False,\n",
    "    'amenity_6': True,\n",
    "    'amenity_7': False,\n",
    "    'amenity_8': False,\n",
    "    'amenity_9': False,\n",
    "    'amenity_10': False,\n",
    "    'amenity_11': False,\n",
    "    'amenity_12': False,\n",
    "    'amenity_13': False,\n",
    "    'amenity_14': False,\n",
    "    'amenity_15': False,\n",
    "    'amenity_16': False,\n",
    "    'amenity_17': False,\n",
    "    'amenity_18': False,\n",
    "    'amenity_19': False,\n",
    "    'amenity_20': False,\n",
    "    'amenity_21': False,\n",
    "    'amenity_22': False,\n",
    "    'amenity_23': False,\n",
    "    'amenity_24': False,\n",
    "    'amenity_25': False,\n",
    "    'amenity_26': False,\n",
    "    'amenity_27': False,\n",
    "    'amenity_28': False,\n",
    "    'amenity_29': False,\n",
    "    'amenity_30': False,\n",
    "    'amenity_31': False,\n",
    "    'amenity_32': False,\n",
    "    'amenity_33': False,\n",
    "    'amenity_34': False,\n",
    "    'amenity_35': False,\n",
    "    'amenity_36': False,\n",
    "    'amenity_37': False,\n",
    "    'amenity_38': False,\n",
    "    'amenity_39': False,\n",
    "    'amenity_40': False,\n",
    "    'amenity_41': False,\n",
    "    'amenity_42': False,\n",
    "    'amenity_43': False,\n",
    "    'amenity_44': False,\n",
    "}\n",
    "\n",
    "from django.contrib.gis.geos import Point\n",
    "import geocoder\n",
    "def prep_prediction_features(listing_attrs):\n",
    "    g = geocoder.google(listing_attrs['address'])\n",
    "    if not g.ok:\n",
    "        pass # return some error about how it's a bad address\n",
    "    point = Point(x=g.lng, y=g.lat, srid=4326)\n",
    "    tracts = Tract.objects.filter(mpoly__contains=point)\n",
    "    if not tracts.exists():\n",
    "        pass # return some error about how it's a bad address\n",
    "    tract = tracts.first()\n",
    "    if not tract.neighborhood_id:\n",
    "        pass # return some error about how it's LA only\n",
    "\n",
    "    # Fill in the tract, lat & lon\n",
    "    listing_attrs['tract_id'] = tract.id\n",
    "    listing_attrs['latitude'] = g.lat\n",
    "    listing_attrs['longitude'] = g.lng\n",
    "    df = pd.DataFrame(data=[listing_attrs], columns=listing_df.columns)\n",
    "    df.fillna(listing_df.median(), inplace=True)\n",
    "    df = pd.merge(df, tract_df, on='tract_id', how='left')\n",
    "    df['property_type'] = property_type_le.transform(df.property_type)\n",
    "    df['room_type'] = room_type_le.transform(df.room_type)\n",
    "    df['bed_type'] = bed_type_le.transform(df.bed_type)\n",
    "    df.drop(['block_group_id', 'estimated_revenue_per_month', \n",
    "             'id', 'neighborhood_id', 'price', 'reviews_per_month', \n",
    "             'tract_id', 'zipcode_id'], axis=1, inplace=True)\n",
    "    return df"
   ]
  },
  {
   "cell_type": "code",
   "execution_count": 81,
   "metadata": {
    "collapsed": false
   },
   "outputs": [
    {
     "name": "stderr",
     "output_type": "stream",
     "text": [
      "[Parallel(n_jobs=4)]: Done  30 out of  30 | elapsed:    0.0s finished\n"
     ]
    },
    {
     "data": {
      "text/plain": [
       "{'predicted_price': 127.36666666666666}"
      ]
     },
     "execution_count": 81,
     "metadata": {},
     "output_type": "execute_result"
    }
   ],
   "source": [
    "# df=prep_prediction_features(new_listing)\n",
    "# model.predict(df.iloc[0].values.reshape(1,-1))[0]\n",
    "\n",
    "from api.predict import predict_price\n",
    "predict_price(new_listing)\n"
   ]
  },
  {
   "cell_type": "code",
   "execution_count": null,
   "metadata": {
    "collapsed": true
   },
   "outputs": [],
   "source": [
    "\"\"\"\n",
    "from sklearn import preprocessing\n",
    "from sklearn.model_selection import train_test_split\n",
    "\n",
    "# Build feature and target vectors\n",
    "X = merged.drop(['id', 'estimated_revenue_per_month', 'reviews_per_month',\n",
    "                 'block_group_id', 'tract_id', 'zipcode_id', 'neighborhood_id',\n",
    "                 'price'], axis=1).copy()\n",
    "\n",
    "y = merged.price.copy()\n",
    "\n",
    "# Convert numeric types to floats\n",
    "category_cols = ['room_type', 'property_type', 'bed_type',]\n",
    "float_cols = [col for col in list(X.columns) if col not in category_cols]\n",
    "X[float_cols] = X[float_cols].astype(np.float64)\n",
    "\n",
    "# Transform \n",
    "\n",
    "X = pd.get_dummies(X, columns=category_cols)\n",
    "\n",
    "X_train, X_test, y_train, y_test = train_test_split(X, y, test_size=0.33, random_state=42)\n",
    "\"\"\""
   ]
  }
 ],
 "metadata": {
  "kernelspec": {
   "display_name": "Django Shell-Plus",
   "language": "python",
   "name": "django_extensions"
  }
 },
 "nbformat": 4,
 "nbformat_minor": 2
}
