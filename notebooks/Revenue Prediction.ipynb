{
 "cells": [
  {
   "cell_type": "code",
   "execution_count": 37,
   "metadata": {
    "collapsed": true
   },
   "outputs": [],
   "source": [
    "import pandas as pd\n",
    "import numpy as np\n",
    "import pickle\n",
    "from django.db.models import F, ExpressionWrapper, Expression, DurationField\n",
    "from django.contrib.gis.db.models.functions import AsGeoJSON\n",
    "from ast import literal_eval\n",
    "from sklearn import preprocessing"
   ]
  },
  {
   "cell_type": "code",
   "execution_count": 38,
   "metadata": {
    "collapsed": true
   },
   "outputs": [],
   "source": [
    "# Load Census tract-level data\n",
    "TRACT_DATA = pickle.load(open('../pickles/census_data_ml.p', 'rb'))"
   ]
  },
  {
   "cell_type": "code",
   "execution_count": 66,
   "metadata": {
    "collapsed": false
   },
   "outputs": [
    {
     "data": {
      "text/plain": [
       "(26048, 62)"
      ]
     },
     "execution_count": 66,
     "metadata": {},
     "output_type": "execute_result"
    }
   ],
   "source": [
    "# Load pre-saved extracted listing data\n",
    "listing_df = pickle.load(open('../pickles/listings_dataframe.p', 'rb'))\n",
    "extra_listing_data_df = pickle.load(open('../pickles/listings_extra_df.p', 'rb'))\n",
    "# listing_topic_df = pickle.load(open('../pickles/listing_topic_df.p', 'rb'))\n",
    "\n",
    "# Merge the listing data into one frame\n",
    "listing_df = pd.merge(listing_df, extra_listing_data_df, on='id', how='left')\n",
    "\n",
    "# Drop the description column, since we aren't using text features now\n",
    "listing_df.drop('description', axis=1, inplace=True)\n",
    "\n",
    "# Let's drop some more columns to see if we need them or not\n",
    "drop_cols = ['review_scores_rating', 'review_scores_accuracy',\n",
    "             'review_scores_cleanliness', 'review_scores_checkin',\n",
    "             'review_scores_communication', 'review_scores_location',\n",
    "             'review_scores_value', 'require_guest_phone_verification',\n",
    "             'require_guest_profile_picture', 'instant_bookable',\n",
    "             'host_is_superhost', 'host_identity_verified',\n",
    "             'is_english', 'guests_included', 'extra_people'\n",
    "            ]\n",
    "listing_df.drop(drop_cols, axis=1, inplace=True)\n",
    "\n",
    "# listing_df = pd.merge(listing_df, listing_topic_df, on='id', how='left')\n",
    "listing_df.shape # Should be 26048 length"
   ]
  },
  {
   "cell_type": "code",
   "execution_count": 67,
   "metadata": {
    "collapsed": false
   },
   "outputs": [],
   "source": [
    "# Add census tract-level data, but only certain features\n",
    "percent_vars = [c for c in TRACT_DATA.columns if c.startswith('percent_')]\n",
    "census_vars = [col for col in TRACT_DATA.columns\n",
    "               if col in ('tract_id', 'B25064_001E', 'B19301_001E', 'B01003_001E', 'B25001_001E')\n",
    "               or col in percent_vars]\n",
    "\n",
    "tract_df = TRACT_DATA[census_vars].copy()\n",
    "\n",
    "# Fill in missing percent columns with 0\n",
    "percent_cols = [c for c in TRACT_DATA.columns if c.startswith('percent_')]\n",
    "tract_df[percent_cols] = tract_df[percent_cols].fillna(value=0.0)"
   ]
  },
  {
   "cell_type": "code",
   "execution_count": 68,
   "metadata": {
    "collapsed": false
   },
   "outputs": [
    {
     "data": {
      "text/plain": [
       "(19838, 78)"
      ]
     },
     "execution_count": 68,
     "metadata": {},
     "output_type": "execute_result"
    }
   ],
   "source": [
    "# Join the tables \n",
    "merged=pd.merge(listing_df, tract_df, on='tract_id', how='left')\n",
    "\n",
    "# Drop rows with null values \n",
    "merged.dropna(axis=0, inplace=True)\n",
    "\n",
    "# Drop price outliers: massive boost in model accuracy\n",
    "merged = merged[merged.price <= 1000]\n",
    "\n",
    "# Drop listings with no reviews: prices haven't been\n",
    "# validated by the market\n",
    "merged = merged[merged.review_count > 0]\n",
    "\n",
    "\n",
    "merged.shape"
   ]
  },
  {
   "cell_type": "code",
   "execution_count": 69,
   "metadata": {
    "collapsed": false,
    "scrolled": true
   },
   "outputs": [],
   "source": [
    "from sklearn import preprocessing\n",
    "from sklearn.model_selection import train_test_split\n",
    "\n",
    "# Build feature and target vectors\n",
    "X = merged.drop(['id', 'estimated_revenue_per_month', 'reviews_per_month',\n",
    "                 'block_group_id', 'tract_id', 'zipcode_id', 'neighborhood_id',\n",
    "                 'price'], axis=1).copy()\n",
    "\n",
    "y = merged.price.copy()\n",
    "\n",
    "# Convert numeric types to floats\n",
    "category_cols = ['room_type', 'property_type', 'bed_type', 'cancellation_policy']\n",
    "float_cols = [col for col in list(X.columns) if col not in category_cols]\n",
    "X[float_cols] = X[float_cols].astype(np.float64)\n",
    "\n",
    "# Fit LabelEncoders to transform training and future prediction data\n",
    "room_type_le = preprocessing.LabelEncoder().fit(X.room_type)\n",
    "property_type_le = preprocessing.LabelEncoder().fit(X.property_type)\n",
    "bed_type_le = preprocessing.LabelEncoder().fit(X.bed_type)\n",
    "cancellation_policy_le = preprocessing.LabelEncoder().fit(X.cancellation_policy)\n",
    "\n",
    "# Replace categorical columns with LabelEncoder transformed values\n",
    "X['room_type'] = room_type_le.transform(X.room_type)\n",
    "X['property_type'] = property_type_le.transform(X.property_type)\n",
    "X['bed_type'] = bed_type_le.transform(X.bed_type)\n",
    "X['cancellation_policy'] = cancellation_policy_le.transform(X.cancellation_policy)\n",
    "\n",
    "X_train, X_test, y_train, y_test = train_test_split(X, y, test_size=0.2, random_state=6)"
   ]
  },
  {
   "cell_type": "code",
   "execution_count": 70,
   "metadata": {
    "collapsed": false,
    "scrolled": true
   },
   "outputs": [
    {
     "name": "stdout",
     "output_type": "stream",
     "text": [
      "r^2:  0.71627961207\n",
      "median absolute error:  19.75\n",
      "mean absolute error:  37.7282762097\n"
     ]
    },
    {
     "name": "stderr",
     "output_type": "stream",
     "text": [
      "[Parallel(n_jobs=-1)]: Done  10 out of  10 | elapsed:    1.0s finished\n",
      "[Parallel(n_jobs=4)]: Done  10 out of  10 | elapsed:    0.0s finished\n"
     ]
    }
   ],
   "source": [
    "from sklearn.ensemble import RandomForestRegressor\n",
    "from sklearn.metrics import r2_score, median_absolute_error, mean_absolute_error\n",
    "\n",
    "# Train\n",
    "model=RandomForestRegressor(n_estimators=10, max_features=None, n_jobs=-1, verbose=1)\n",
    "model.fit(X_train, y_train)\n",
    "\n",
    "# Predict/evaluate\n",
    "y_predict = model.predict(X_test)\n",
    "print('r^2: ', r2_score(y_test, y_predict))\n",
    "print('median absolute error: ', median_absolute_error(y_test, y_predict))\n",
    "print('mean absolute error: ', mean_absolute_error(y_test, y_predict))"
   ]
  },
  {
   "cell_type": "code",
   "execution_count": 71,
   "metadata": {
    "collapsed": false
   },
   "outputs": [
    {
     "name": "stderr",
     "output_type": "stream",
     "text": [
      "[Parallel(n_jobs=-1)]: Done  10 out of  10 | elapsed:    1.2s finished\n"
     ]
    }
   ],
   "source": [
    "# Fit the model on the whole data, and pickle it\n",
    "model.fit(X, y)\n",
    "model_with_extras = {\n",
    "    'model': model,\n",
    "    'room_type_le': room_type_le,\n",
    "    'property_type_le': property_type_le,\n",
    "    'bed_type_le': bed_type_le,\n",
    "    'cancellation_policy_le': cancellation_policy_le\n",
    "}\n",
    "\n",
    "pickle.dump(model_with_extras, open('../pickles/price_model_with_extras.p', 'wb'))"
   ]
  },
  {
   "cell_type": "code",
   "execution_count": 21,
   "metadata": {
    "collapsed": false,
    "scrolled": false
   },
   "outputs": [
    {
     "name": "stdout",
     "output_type": "stream",
     "text": [
      "85, 60\n",
      "725, 1000\n",
      "386, 300\n",
      "65, 90\n",
      "184, 214\n",
      "119, 115\n",
      "146, 99\n",
      "103, 57\n",
      "74, 70\n",
      "126, 199\n",
      "408, 225\n",
      "49, 46\n",
      "147, 99\n",
      "78, 60\n",
      "419, 350\n",
      "112, 100\n",
      "68, 65\n",
      "206, 175\n",
      "52, 50\n",
      "112, 119\n"
     ]
    }
   ],
   "source": [
    "# Take a look at some predictions vs. actual values\n",
    "\n",
    "for i in range(1,1000)[::50]:\n",
    "    predict = y_predict[i]\n",
    "    actual = y_test.iloc[i]\n",
    "    print('%.0f,' % predict, '%.0f' % actual)"
   ]
  },
  {
   "cell_type": "code",
   "execution_count": 206,
   "metadata": {
    "collapsed": false,
    "scrolled": false
   },
   "outputs": [
    {
     "name": "stdout",
     "output_type": "stream",
     "text": [
      "                            variable   importance\n",
      "45                          bedrooms     0.436066\n",
      "43                         bathrooms     0.125492\n",
      "70                       B19301_001E    0.0618857\n",
      "53                         room_type    0.0398884\n",
      "42                  availability_365    0.0281551\n",
      "50                         longitude    0.0225835\n",
      "0                       accommodates    0.0203928\n",
      "57                      extra_people     0.019021\n",
      "49                          latitude    0.0133106\n",
      "79       percent_bachelors_or_higher    0.0132785\n",
      "72                       B25064_001E    0.0123709\n",
      "46              host_experience_days    0.0122693\n",
      "83              percent_homes_vacant    0.0119839\n",
      "58              review_scores_rating   0.00928815\n",
      "54                      review_count   0.00912898\n",
      "74       percent_professional_degree   0.00845524\n",
      "73                  percent_age_0_17   0.00814184\n",
      "78                 percent_age_65_up   0.00802194\n",
      "56                   guests_included   0.00754688\n",
      "77           percent_doctoral_degree   0.00698726\n",
      "84                 percent_age_35_49   0.00660214\n",
      "52                     property_type   0.00654999\n",
      "81          percent_bachelors_degree   0.00654854\n",
      "51                    minimum_nights   0.00621955\n",
      "75            percent_masters_degree   0.00621475\n",
      "82          percent_associate_degree   0.00617155\n",
      "76                 percent_age_50_64   0.00607239\n",
      "69                       B01003_001E   0.00562839\n",
      "71                       B25001_001E   0.00506998\n",
      "80                 percent_age_18_34   0.00493653\n",
      "38                         amenity_6   0.00481707\n",
      "23                        amenity_30   0.00415003\n",
      "24                        amenity_31   0.00253163\n",
      "60         review_scores_cleanliness   0.00227871\n",
      "64               review_scores_value    0.0021384\n",
      "68               cancellation_policy   0.00207903\n",
      "27                        amenity_35   0.00189643\n",
      "3                         amenity_11   0.00187192\n",
      "63            review_scores_location   0.00173627\n",
      "12                         amenity_2   0.00167812\n",
      "61             review_scores_checkin   0.00167743\n",
      "59            review_scores_accuracy     0.001554\n",
      "8                         amenity_16   0.00153575\n",
      "33                        amenity_40   0.00148509\n",
      "25                        amenity_32   0.00147733\n",
      "48                 host_is_superhost   0.00147184\n",
      "11                        amenity_19   0.00135302\n",
      "10                        amenity_18   0.00134225\n",
      "62       review_scores_communication   0.00130675\n",
      "31                        amenity_39   0.00115359\n",
      "2                         amenity_10   0.00110179\n",
      "18                        amenity_26   0.00109188\n",
      "21                        amenity_29   0.00107629\n",
      "29                        amenity_37   0.00105189\n",
      "6                         amenity_14    0.0010489\n",
      "20                        amenity_28   0.00103599\n",
      "16                        amenity_23  0.000990442\n",
      "13                        amenity_20  0.000981723\n",
      "17                        amenity_24  0.000959348\n",
      "28                        amenity_36  0.000912008\n",
      "40                         amenity_8  0.000904744\n",
      "1                          amenity_1  0.000892457\n",
      "34                        amenity_41  0.000888458\n",
      "7                         amenity_15  0.000873263\n",
      "14                        amenity_21  0.000871439\n",
      "37                         amenity_5  0.000849495\n",
      "47            host_identity_verified   0.00084098\n",
      "22                         amenity_3  0.000833146\n",
      "30                        amenity_38  0.000827643\n",
      "9                         amenity_17  0.000823658\n",
      "67                  instant_bookable  0.000774844\n",
      "26                        amenity_33  0.000771027\n",
      "44                          bed_type  0.000760995\n",
      "15                        amenity_22  0.000637058\n",
      "41                         amenity_9  0.000601407\n",
      "4                         amenity_12  0.000555976\n",
      "32                         amenity_4  0.000554121\n",
      "66     require_guest_profile_picture  0.000505735\n",
      "5                         amenity_13  0.000505124\n",
      "65  require_guest_phone_verification  0.000466815\n",
      "19                        amenity_27  0.000452965\n",
      "39                         amenity_7  0.000398822\n",
      "36                        amenity_44  0.000310282\n",
      "55                        is_english  2.68191e-05\n",
      "35                        amenity_42   5.9906e-06\n"
     ]
    }
   ],
   "source": [
    "# Show which features were important to the model\n",
    "feat_imp = pd.DataFrame([X.columns, model.feature_importances_]).transpose()\n",
    "feat_imp.columns = ['variable', 'importance']\n",
    "\n",
    "with pd.option_context('display.max_rows', None):\n",
    "    print(feat_imp.sort_values('importance', ascending=False))\n",
    "\n"
   ]
  },
  {
   "cell_type": "code",
   "execution_count": 163,
   "metadata": {
    "collapsed": false
   },
   "outputs": [
    {
     "data": {
      "text/html": [
       "<div>\n",
       "<table border=\"1\" class=\"dataframe\">\n",
       "  <thead>\n",
       "    <tr style=\"text-align: right;\">\n",
       "      <th></th>\n",
       "      <th>actual</th>\n",
       "      <th>predict</th>\n",
       "      <th>err</th>\n",
       "      <th>abs_err</th>\n",
       "    </tr>\n",
       "  </thead>\n",
       "  <tbody>\n",
       "    <tr>\n",
       "      <th>count</th>\n",
       "      <td>3968.000000</td>\n",
       "      <td>3968.000000</td>\n",
       "      <td>3968.000000</td>\n",
       "      <td>3968.000000</td>\n",
       "    </tr>\n",
       "    <tr>\n",
       "      <th>mean</th>\n",
       "      <td>143.414567</td>\n",
       "      <td>143.961769</td>\n",
       "      <td>0.547203</td>\n",
       "      <td>35.229486</td>\n",
       "    </tr>\n",
       "    <tr>\n",
       "      <th>std</th>\n",
       "      <td>122.678432</td>\n",
       "      <td>105.145599</td>\n",
       "      <td>63.956642</td>\n",
       "      <td>53.379041</td>\n",
       "    </tr>\n",
       "    <tr>\n",
       "      <th>min</th>\n",
       "      <td>0.000000</td>\n",
       "      <td>20.700000</td>\n",
       "      <td>-647.750000</td>\n",
       "      <td>0.000000</td>\n",
       "    </tr>\n",
       "    <tr>\n",
       "      <th>25%</th>\n",
       "      <td>75.000000</td>\n",
       "      <td>76.400000</td>\n",
       "      <td>-13.462500</td>\n",
       "      <td>7.450000</td>\n",
       "    </tr>\n",
       "    <tr>\n",
       "      <th>50%</th>\n",
       "      <td>107.000000</td>\n",
       "      <td>112.350000</td>\n",
       "      <td>3.450000</td>\n",
       "      <td>17.825000</td>\n",
       "    </tr>\n",
       "    <tr>\n",
       "      <th>75%</th>\n",
       "      <td>169.000000</td>\n",
       "      <td>171.537500</td>\n",
       "      <td>21.850000</td>\n",
       "      <td>39.712500</td>\n",
       "    </tr>\n",
       "    <tr>\n",
       "      <th>max</th>\n",
       "      <td>1000.000000</td>\n",
       "      <td>814.250000</td>\n",
       "      <td>426.250000</td>\n",
       "      <td>647.750000</td>\n",
       "    </tr>\n",
       "  </tbody>\n",
       "</table>\n",
       "</div>"
      ],
      "text/plain": [
       "            actual      predict          err      abs_err\n",
       "count  3968.000000  3968.000000  3968.000000  3968.000000\n",
       "mean    143.414567   143.961769     0.547203    35.229486\n",
       "std     122.678432   105.145599    63.956642    53.379041\n",
       "min       0.000000    20.700000  -647.750000     0.000000\n",
       "25%      75.000000    76.400000   -13.462500     7.450000\n",
       "50%     107.000000   112.350000     3.450000    17.825000\n",
       "75%     169.000000   171.537500    21.850000    39.712500\n",
       "max    1000.000000   814.250000   426.250000   647.750000"
      ]
     },
     "execution_count": 163,
     "metadata": {},
     "output_type": "execute_result"
    }
   ],
   "source": [
    "# Compare test vs. predicted\n",
    "compare = pd.DataFrame([list(y_test), list(y_predict)]).transpose()\n",
    "compare.columns = ['actual', 'predict']\n",
    "compare['err'] = compare.predict - compare.actual\n",
    "compare['abs_err'] = compare.err.apply(lambda x: abs(x))\n",
    "compare.describe()"
   ]
  },
  {
   "cell_type": "code",
   "execution_count": 22,
   "metadata": {
    "collapsed": false
   },
   "outputs": [],
   "source": [
    "new_listing = {\n",
    "    'address': 'compton, ca',\n",
    "    'availability_365': 365,\n",
    "    'room_type': 'Private room',\n",
    "    'property_type': 'Apartment',\n",
    "    'bed_type': 'Real Bed',\n",
    "    'accommodates': 1,\n",
    "    'guests_included': 1,\n",
    "    'bedrooms': 1,\n",
    "    'bathrooms': 1,\n",
    "    'host_experience_days': 720,\n",
    "    'extra_people': 0,\n",
    "    'cancellation_policy': 'Flexible',\n",
    "    'minimum_nights': 1,\n",
    "    'amenity_1': False,\n",
    "    'amenity_2': False,\n",
    "    'amenity_3': False,\n",
    "    'amenity_4': False,\n",
    "    'amenity_5': False,\n",
    "    'amenity_6': True,\n",
    "    'amenity_7': False,\n",
    "    'amenity_8': False,\n",
    "    'amenity_9': False,\n",
    "    'amenity_10': False,\n",
    "    'amenity_11': False,\n",
    "    'amenity_12': False,\n",
    "    'amenity_13': False,\n",
    "    'amenity_14': False,\n",
    "    'amenity_15': False,\n",
    "    'amenity_16': False,\n",
    "    'amenity_17': False,\n",
    "    'amenity_18': False,\n",
    "    'amenity_19': False,\n",
    "    'amenity_20': False,\n",
    "    'amenity_21': False,\n",
    "    'amenity_22': False,\n",
    "    'amenity_23': False,\n",
    "    'amenity_24': False,\n",
    "    'amenity_25': False,\n",
    "    'amenity_26': False,\n",
    "    'amenity_27': False,\n",
    "    'amenity_28': False,\n",
    "    'amenity_29': False,\n",
    "    'amenity_30': True,\n",
    "    'amenity_31': False,\n",
    "    'amenity_32': False,\n",
    "    'amenity_33': False,\n",
    "    'amenity_34': False,\n",
    "    'amenity_35': False,\n",
    "    'amenity_36': False,\n",
    "    'amenity_37': False,\n",
    "    'amenity_38': False,\n",
    "    'amenity_39': False,\n",
    "    'amenity_40': False,\n",
    "    'amenity_41': False,\n",
    "    'amenity_42': False,\n",
    "    'amenity_43': False,\n",
    "    'amenity_44': False,\n",
    "}\n",
    "\n",
    "from django.contrib.gis.geos import Point\n",
    "import geocoder\n",
    "def prep_prediction_features(listing_attrs):\n",
    "    g = geocoder.google(listing_attrs['address'])\n",
    "    if not g.ok:\n",
    "        pass # return some error about how it's a bad address\n",
    "    point = Point(x=g.lng, y=g.lat, srid=4326)\n",
    "    tracts = Tract.objects.filter(mpoly__contains=point)\n",
    "    if not tracts.exists():\n",
    "        pass # return some error about how it's a bad address\n",
    "    tract = tracts.first()\n",
    "    if not tract.neighborhood_id:\n",
    "        pass # return some error about how it's LA only\n",
    "\n",
    "    # Fill in the tract, lat & lon\n",
    "    listing_attrs['tract_id'] = tract.id\n",
    "    listing_attrs['latitude'] = g.lat\n",
    "    listing_attrs['longitude'] = g.lng\n",
    "    df = pd.DataFrame(data=[listing_attrs], columns=listing_df.columns)\n",
    "    df.fillna(listing_df.median(), inplace=True)\n",
    "    df = pd.merge(df, tract_df, on='tract_id', how='left')\n",
    "    df['property_type'] = property_type_le.transform(df.property_type)\n",
    "    df['room_type'] = room_type_le.transform(df.room_type)\n",
    "    df['bed_type'] = bed_type_le.transform(df.bed_type)\n",
    "    df['cancellation_policy'] = cancellation_policy_le.transform(df.cancellation_policy)\n",
    "    df.drop(['block_group_id', 'estimated_revenue_per_month', \n",
    "             'id', 'neighborhood_id', 'price', 'reviews_per_month', \n",
    "             'tract_id', 'zipcode_id'], axis=1, inplace=True)\n",
    "    return df"
   ]
  },
  {
   "cell_type": "code",
   "execution_count": 29,
   "metadata": {
    "collapsed": false
   },
   "outputs": [],
   "source": [
    "# from treeinterpreter import treeinterpreter as ti\n",
    "# df=prep_prediction_features(new_listing)\n",
    "# prediction, bias, contributions = ti.predict(model, df.iloc[0].values.reshape(1,-1))\n",
    "# print(prediction, bias)\n",
    "# sorted(zip(df.columns, contributions[0]), key=lambda x: -abs(x[1]))\n",
    "\n",
    "from api.predict import predict_price\n",
    "contrib = predict_price(new_listing)['decomposition']\n"
   ]
  },
  {
   "cell_type": "code",
   "execution_count": 31,
   "metadata": {
    "collapsed": false
   },
   "outputs": [
    {
     "data": {
      "text/plain": [
       "['bedrooms',\n",
       " 'room_type',\n",
       " 'availability_365',\n",
       " 'B19301_001E',\n",
       " 'accommodates',\n",
       " 'percent_homes_vacant',\n",
       " 'percent_masters_degree',\n",
       " 'longitude',\n",
       " 'percent_age_65_up',\n",
       " 'percent_bachelors_degree',\n",
       " 'latitude',\n",
       " 'minimum_nights',\n",
       " 'extra_people',\n",
       " 'percent_age_0_17',\n",
       " 'amenity_2',\n",
       " 'review_count',\n",
       " 'percent_age_18_34',\n",
       " 'B25001_001E',\n",
       " 'percent_age_35_49',\n",
       " 'amenity_12',\n",
       " 'amenity_15',\n",
       " 'amenity_1',\n",
       " 'amenity_17',\n",
       " 'amenity_8',\n",
       " 'percent_associate_degree',\n",
       " 'guests_included',\n",
       " 'B25064_001E',\n",
       " 'amenity_4',\n",
       " 'cancellation_policy',\n",
       " 'amenity_9',\n",
       " 'percent_age_50_64',\n",
       " 'amenity_29',\n",
       " 'percent_bachelors_or_higher',\n",
       " 'host_experience_days',\n",
       " 'amenity_38',\n",
       " 'percent_doctoral_degree',\n",
       " 'bed_type',\n",
       " 'percent_professional_degree',\n",
       " 'bathrooms',\n",
       " 'amenity_37',\n",
       " 'amenity_32',\n",
       " 'amenity_3',\n",
       " 'B01003_001E',\n",
       " 'amenity_18',\n",
       " 'amenity_40',\n",
       " 'amenity_10',\n",
       " 'amenity_11',\n",
       " 'amenity_13',\n",
       " 'amenity_14',\n",
       " 'amenity_16',\n",
       " 'amenity_19',\n",
       " 'amenity_20',\n",
       " 'amenity_21',\n",
       " 'amenity_22',\n",
       " 'amenity_23',\n",
       " 'amenity_24',\n",
       " 'amenity_26',\n",
       " 'amenity_27',\n",
       " 'amenity_28',\n",
       " 'amenity_30',\n",
       " 'amenity_31',\n",
       " 'amenity_33',\n",
       " 'amenity_35',\n",
       " 'amenity_36',\n",
       " 'amenity_39',\n",
       " 'amenity_41',\n",
       " 'amenity_42',\n",
       " 'amenity_44',\n",
       " 'amenity_5',\n",
       " 'amenity_6',\n",
       " 'amenity_7',\n",
       " 'property_type']"
      ]
     },
     "execution_count": 31,
     "metadata": {},
     "output_type": "execute_result"
    }
   ],
   "source": [
    "[x[0] for x in contrib]"
   ]
  },
  {
   "cell_type": "code",
   "execution_count": 55,
   "metadata": {
    "collapsed": false,
    "scrolled": true
   },
   "outputs": [
    {
     "name": "stdout",
     "output_type": "stream",
     "text": [
      "0.0\n",
      "1.0\n",
      "2.0\n",
      "3.0\n",
      "4.0\n",
      "5.0\n",
      "6.0\n",
      "7.0\n",
      "8.0\n",
      "9.0\n",
      "10.0\n",
      "11.0\n",
      "12.0\n",
      "13.0\n",
      "14.0\n",
      "15.0\n",
      "16.0\n"
     ]
    }
   ],
   "source": [
    "for x in sorted(list(listing_df.guests_included.unique())):\n",
    "    print(x)"
   ]
  },
  {
   "cell_type": "code",
   "execution_count": 58,
   "metadata": {
    "collapsed": false
   },
   "outputs": [
    {
     "ename": "AttributeError",
     "evalue": "'DataFrame' object has no attribute 'description'",
     "output_type": "error",
     "traceback": [
      "\u001b[0;31m---------------------------------------------------------------------------\u001b[0m",
      "\u001b[0;31mAttributeError\u001b[0m                            Traceback (most recent call last)",
      "\u001b[0;32m<ipython-input-58-d4ba2b9ace7f>\u001b[0m in \u001b[0;36m<module>\u001b[0;34m()\u001b[0m\n\u001b[0;32m----> 1\u001b[0;31m \u001b[0mlisting_df\u001b[0m\u001b[0;34m[\u001b[0m\u001b[0mlisting_df\u001b[0m\u001b[0;34m.\u001b[0m\u001b[0mguests_included\u001b[0m \u001b[0;34m==\u001b[0m \u001b[0;36m0\u001b[0m\u001b[0;34m]\u001b[0m\u001b[0;34m.\u001b[0m\u001b[0mdescription\u001b[0m\u001b[0;34m\u001b[0m\u001b[0m\n\u001b[0m",
      "\u001b[0;32m/Users/shawn/Projects/airbnb/venv/lib/python3.5/site-packages/pandas/core/generic.py\u001b[0m in \u001b[0;36m__getattr__\u001b[0;34m(self, name)\u001b[0m\n\u001b[1;32m   2742\u001b[0m             \u001b[0;32mif\u001b[0m \u001b[0mname\u001b[0m \u001b[0;32min\u001b[0m \u001b[0mself\u001b[0m\u001b[0;34m.\u001b[0m\u001b[0m_info_axis\u001b[0m\u001b[0;34m:\u001b[0m\u001b[0;34m\u001b[0m\u001b[0m\n\u001b[1;32m   2743\u001b[0m                 \u001b[0;32mreturn\u001b[0m \u001b[0mself\u001b[0m\u001b[0;34m[\u001b[0m\u001b[0mname\u001b[0m\u001b[0;34m]\u001b[0m\u001b[0;34m\u001b[0m\u001b[0m\n\u001b[0;32m-> 2744\u001b[0;31m             \u001b[0;32mreturn\u001b[0m \u001b[0mobject\u001b[0m\u001b[0;34m.\u001b[0m\u001b[0m__getattribute__\u001b[0m\u001b[0;34m(\u001b[0m\u001b[0mself\u001b[0m\u001b[0;34m,\u001b[0m \u001b[0mname\u001b[0m\u001b[0;34m)\u001b[0m\u001b[0;34m\u001b[0m\u001b[0m\n\u001b[0m\u001b[1;32m   2745\u001b[0m \u001b[0;34m\u001b[0m\u001b[0m\n\u001b[1;32m   2746\u001b[0m     \u001b[0;32mdef\u001b[0m \u001b[0m__setattr__\u001b[0m\u001b[0;34m(\u001b[0m\u001b[0mself\u001b[0m\u001b[0;34m,\u001b[0m \u001b[0mname\u001b[0m\u001b[0;34m,\u001b[0m \u001b[0mvalue\u001b[0m\u001b[0;34m)\u001b[0m\u001b[0;34m:\u001b[0m\u001b[0;34m\u001b[0m\u001b[0m\n",
      "\u001b[0;31mAttributeError\u001b[0m: 'DataFrame' object has no attribute 'description'"
     ]
    }
   ],
   "source": [
    "listing_df[listing_df.guests_included == 0]"
   ]
  },
  {
   "cell_type": "code",
   "execution_count": 75,
   "metadata": {
    "collapsed": false
   },
   "outputs": [],
   "source": [
    "LISTING_COLUMNS = pickle.load(open('../pickles/listing_columns_ml.p', 'rb'))"
   ]
  },
  {
   "cell_type": "code",
   "execution_count": 77,
   "metadata": {
    "collapsed": false
   },
   "outputs": [],
   "source": [
    "LISTING_COLUMNS = [c for c in LISTING_COLUMNS if c not in ['extra_people', 'guests_included']]"
   ]
  },
  {
   "cell_type": "code",
   "execution_count": null,
   "metadata": {
    "collapsed": true
   },
   "outputs": [],
   "source": []
  }
 ],
 "metadata": {
  "kernelspec": {
   "display_name": "Django Shell-Plus",
   "language": "python",
   "name": "django_extensions"
  },
  "language_info": {
   "codemirror_mode": {
    "name": "ipython",
    "version": 3
   },
   "file_extension": ".py",
   "mimetype": "text/x-python",
   "name": "python",
   "nbconvert_exporter": "python",
   "pygments_lexer": "ipython3",
   "version": "3.5.2"
  }
 },
 "nbformat": 4,
 "nbformat_minor": 2
}
