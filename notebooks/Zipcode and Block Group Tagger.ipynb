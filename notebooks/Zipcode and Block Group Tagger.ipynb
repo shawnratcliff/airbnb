{
 "cells": [
  {
   "cell_type": "code",
   "execution_count": 1,
   "metadata": {
    "collapsed": true
   },
   "outputs": [],
   "source": [
    "from main.models import BlockGroup, Zipcode, Crime, Listing"
   ]
  },
  {
   "cell_type": "code",
   "execution_count": 4,
   "metadata": {
    "collapsed": false
   },
   "outputs": [],
   "source": [
    "# Lookup and set block_group fields on all Crimes, Listings that are within a boundary\n",
    "# (Leaves null values in place)\n",
    "for i, bg in enumerate(BlockGroup.objects.all()):\n",
    "    crimes = Crime.objects.filter(point__within=bg.mpoly)\n",
    "    crimes.update(block_group = bg)\n",
    "    listings = Listing.objects.filter(point__within=bg.mpoly)\n",
    "    listings.update(block_group = bg)   \n",
    "    if i % 1000 == 0:\n",
    "        print('.', end='')\n",
    "    "
   ]
  },
  {
   "cell_type": "code",
   "execution_count": 5,
   "metadata": {
    "collapsed": false
   },
   "outputs": [
    {
     "name": "stdout",
     "output_type": "stream",
     "text": [
      ".................................."
     ]
    }
   ],
   "source": [
    "# Lookup and set zipcode fields on all Crimes, Listings that are within a boundary\n",
    "for i, zc in enumerate(Zipcode.objects.all()):\n",
    "    crimes = Crime.objects.filter(point__within=zc.mpoly)\n",
    "    crimes.update(zipcode = zc)\n",
    "    listings = Listing.objects.filter(point__within=zc.mpoly)\n",
    "    listings.update(zipcode = zc)   \n",
    "    if i % 1000 == 0:\n",
    "        print('.', end='')\n",
    "    "
   ]
  },
  {
   "cell_type": "code",
   "execution_count": 9,
   "metadata": {
    "collapsed": false
   },
   "outputs": [
    {
     "data": {
      "text/plain": [
       "272"
      ]
     },
     "execution_count": 9,
     "metadata": {},
     "output_type": "execute_result"
    }
   ],
   "source": [
    "Neighborhood.objects.annotate(Avg('listing__price')).annotate(Count('crime')).count()"
   ]
  },
  {
   "cell_type": "code",
   "execution_count": null,
   "metadata": {
    "collapsed": true
   },
   "outputs": [],
   "source": []
  }
 ],
 "metadata": {
  "kernelspec": {
   "display_name": "Django Shell-Plus",
   "language": "python",
   "name": "django_extensions"
  },
  "language_info": {
   "codemirror_mode": {
    "name": "ipython",
    "version": 3
   },
   "file_extension": ".py",
   "mimetype": "text/x-python",
   "name": "python",
   "nbconvert_exporter": "python",
   "pygments_lexer": "ipython3",
   "version": "3.5.2"
  }
 },
 "nbformat": 4,
 "nbformat_minor": 2
}
