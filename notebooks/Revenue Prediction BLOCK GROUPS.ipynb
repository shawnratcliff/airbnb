{
 "cells": [
  {
   "cell_type": "code",
   "execution_count": 1,
   "metadata": {
    "collapsed": true
   },
   "outputs": [],
   "source": [
    "import pandas as pd\n",
    "import numpy as np\n",
    "import pickle\n",
    "from django.db.models import F, ExpressionWrapper, Expression, DurationField\n",
    "from django.contrib.gis.db.models.functions import AsGeoJSON\n",
    "from ast import literal_eval\n",
    "from sklearn import preprocessing"
   ]
  },
  {
   "cell_type": "code",
   "execution_count": 2,
   "metadata": {
    "collapsed": false
   },
   "outputs": [],
   "source": [
    "# Load Census tract-level data\n",
    "BLOCK_GROUP_DATA = pickle.load(open('../pickles/census_data_block_groups_gap_filled_ml.p', 'rb'))"
   ]
  },
  {
   "cell_type": "code",
   "execution_count": 3,
   "metadata": {
    "collapsed": false
   },
   "outputs": [
    {
     "data": {
      "text/plain": [
       "(26048, 62)"
      ]
     },
     "execution_count": 3,
     "metadata": {},
     "output_type": "execute_result"
    }
   ],
   "source": [
    "# Load pre-saved extracted listing data\n",
    "listing_df = pickle.load(open('../pickles/listings_dataframe.p', 'rb'))\n",
    "extra_listing_data_df = pickle.load(open('../pickles/listings_extra_df.p', 'rb'))\n",
    "\n",
    "# Merge the listing data into one frame\n",
    "listing_df = pd.merge(listing_df, extra_listing_data_df, on='id', how='left')\n",
    "\n",
    "# Drop the description column, since we aren't using text features now\n",
    "listing_df.drop('description', axis=1, inplace=True)\n",
    "\n",
    "# Let's drop some more columns to see if we need them or not\n",
    "drop_cols = ['review_scores_rating', 'review_scores_accuracy',\n",
    "             'review_scores_cleanliness', 'review_scores_checkin',\n",
    "             'review_scores_communication', 'review_scores_location',\n",
    "             'review_scores_value', 'require_guest_phone_verification',\n",
    "             'require_guest_profile_picture', 'instant_bookable',\n",
    "             'host_is_superhost', 'host_identity_verified',\n",
    "             'is_english', 'guests_included', 'extra_people',]\n",
    "listing_df.drop(drop_cols, axis=1, inplace=True)\n",
    "\n",
    "# listing_df = pd.merge(listing_df, listing_topic_df, on='id', how='left')\n",
    "listing_df.shape # Should be 26048 length"
   ]
  },
  {
   "cell_type": "code",
   "execution_count": 5,
   "metadata": {
    "collapsed": false
   },
   "outputs": [],
   "source": [
    "# Add census block group data, but only certain features\n",
    "percent_vars = [c for c in BLOCK_GROUP_DATA.columns if c.startswith('percent_')]\n",
    "census_vars = [col for col in BLOCK_GROUP_DATA.columns\n",
    "               if col in ('block_group_id', 'B25064_001E', 'B19301_001E', 'B01003_001E', 'B25001_001E')\n",
    "               or col in percent_vars]\n",
    "\n",
    "block_group_df = BLOCK_GROUP_DATA[census_vars].copy()\n",
    "\n",
    "# Fill in missing percent columns with 0\n",
    "percent_cols = [c for c in BLOCK_GROUP_DATA.columns if c.startswith('percent_')]\n",
    "block_group_df[percent_cols] = block_group_df[percent_cols].fillna(value=0.0)"
   ]
  },
  {
   "cell_type": "code",
   "execution_count": 53,
   "metadata": {
    "collapsed": false
   },
   "outputs": [
    {
     "data": {
      "text/plain": [
       "(18262, 77)"
      ]
     },
     "execution_count": 53,
     "metadata": {},
     "output_type": "execute_result"
    }
   ],
   "source": [
    "# Join the tables \n",
    "merged=pd.merge(listing_df, block_group_df, on='block_group_id', how='left')\n",
    "\n",
    "# Drop rows with null values \n",
    "merged.dropna(axis=0, inplace=True)\n",
    "\n",
    "# Drop price outliers: massive boost in model accuracy\n",
    "merged = merged[merged.price <= 1000]\n",
    "\n",
    "# Drop listings with no reviews: prices haven't been\n",
    "# validated by the market\n",
    "merged = merged[merged.review_count > 0]\n",
    "\n",
    "# Drop listings with 0 days of availability\n",
    "merged = merged[merged.availability_365 > 0]\n",
    "\n",
    "# Now, drop review count from the table\n",
    "merged.drop(['review_count'], axis=1, inplace=True)\n",
    "\n",
    "\n",
    "merged.shape"
   ]
  },
  {
   "cell_type": "code",
   "execution_count": 58,
   "metadata": {
    "collapsed": false,
    "scrolled": true
   },
   "outputs": [],
   "source": [
    "from sklearn import preprocessing\n",
    "from sklearn.model_selection import train_test_split\n",
    "\n",
    "# Build feature and target vectors\n",
    "X = merged.drop(['id', 'estimated_revenue_per_month', 'reviews_per_month',\n",
    "                 'block_group_id', 'tract_id', 'zipcode_id', 'neighborhood_id',\n",
    "                 'price'], axis=1).copy()\n",
    "\n",
    "y = merged.price.copy()\n",
    "\n",
    "# Convert numeric types to floats\n",
    "category_cols = ['room_type', 'property_type', 'bed_type', 'cancellation_policy']\n",
    "float_cols = [col for col in list(X.columns) if col not in category_cols]\n",
    "X[float_cols] = X[float_cols].astype(np.float64)\n",
    "\n",
    "# Fit LabelEncoders to transform training and future prediction data\n",
    "room_type_le = preprocessing.LabelEncoder().fit(X.room_type)\n",
    "property_type_le = preprocessing.LabelEncoder().fit(X.property_type)\n",
    "bed_type_le = preprocessing.LabelEncoder().fit(X.bed_type)\n",
    "cancellation_policy_le = preprocessing.LabelEncoder().fit(X.cancellation_policy)\n",
    "\n",
    "# Replace categorical columns with LabelEncoder transformed values\n",
    "X['room_type'] = room_type_le.transform(X.room_type)\n",
    "X['property_type'] = property_type_le.transform(X.property_type)\n",
    "X['bed_type'] = bed_type_le.transform(X.bed_type)\n",
    "X['cancellation_policy'] = cancellation_policy_le.transform(X.cancellation_policy)\n",
    "\n",
    "X_train, X_test, y_train, y_test = train_test_split(X, y, test_size=0.25, random_state=31)"
   ]
  },
  {
   "cell_type": "code",
   "execution_count": 63,
   "metadata": {
    "collapsed": false,
    "scrolled": true
   },
   "outputs": [
    {
     "name": "stdout",
     "output_type": "stream",
     "text": [
      "r^2:  0.699118953756\n",
      "median absolute error:  19.15\n",
      "mean absolute error:  37.5511607534\n"
     ]
    },
    {
     "name": "stderr",
     "output_type": "stream",
     "text": [
      "[Parallel(n_jobs=-1)]: Done  20 out of  20 | elapsed:    1.4s finished\n",
      "[Parallel(n_jobs=4)]: Done  20 out of  20 | elapsed:    0.0s finished\n"
     ]
    }
   ],
   "source": [
    "from sklearn.ensemble import RandomForestRegressor\n",
    "from sklearn.metrics import r2_score, median_absolute_error, mean_absolute_error\n",
    "\n",
    "# Train\n",
    "model=RandomForestRegressor(n_estimators=20, max_features=None, n_jobs=-1, verbose=1)\n",
    "model.fit(X_train, y_train)\n",
    "\n",
    "# Predict/evaluate\n",
    "y_predict = model.predict(X_test)\n",
    "print('r^2: ', r2_score(y_test, y_predict))\n",
    "print('median absolute error: ', median_absolute_error(y_test, y_predict))\n",
    "print('mean absolute error: ', mean_absolute_error(y_test, y_predict))"
   ]
  },
  {
   "cell_type": "code",
   "execution_count": null,
   "metadata": {
    "collapsed": false
   },
   "outputs": [],
   "source": [
    "# Fit the model on the whole data, and pickle it\n",
    "model.fit(X, y)\n",
    "model_with_extras = {\n",
    "    'model': model,\n",
    "    'room_type_le': room_type_le,\n",
    "    'property_type_le': property_type_le,\n",
    "    'bed_type_le': bed_type_le,\n",
    "    'cancellation_policy_le': cancellation_policy_le\n",
    "}\n",
    "\n",
    "pickle.dump(model_with_extras, open('../pickles/bg_price_model_with_extras.p', 'wb'))"
   ]
  },
  {
   "cell_type": "code",
   "execution_count": 52,
   "metadata": {
    "collapsed": false,
    "scrolled": false
   },
   "outputs": [
    {
     "name": "stdout",
     "output_type": "stream",
     "text": [
      "117, 29\n",
      "74, 80\n",
      "155, 199\n",
      "136, 140\n",
      "79, 85\n",
      "49, 49\n",
      "69, 70\n",
      "64, 69\n",
      "214, 125\n",
      "177, 159\n",
      "398, 260\n",
      "136, 134\n",
      "262, 239\n",
      "120, 115\n",
      "148, 115\n",
      "282, 299\n",
      "209, 98\n",
      "179, 125\n",
      "110, 85\n",
      "95, 99\n"
     ]
    }
   ],
   "source": [
    "# Take a look at some predictions vs. actual values\n",
    "\n",
    "for i in range(3,1000)[::50]:\n",
    "    predict = y_predict[i]\n",
    "    actual = y_test.iloc[i]\n",
    "    print('%.0f,' % predict, '%.0f' % actual)"
   ]
  },
  {
   "cell_type": "code",
   "execution_count": null,
   "metadata": {
    "collapsed": false,
    "scrolled": false
   },
   "outputs": [],
   "source": [
    "# Show which features were important to the model\n",
    "feat_imp = pd.DataFrame([X.columns, model.feature_importances_]).transpose()\n",
    "feat_imp.columns = ['variable', 'importance']\n",
    "\n",
    "with pd.option_context('display.max_rows', None):\n",
    "    print(feat_imp.sort_values('importance', ascending=False))\n",
    "\n"
   ]
  },
  {
   "cell_type": "code",
   "execution_count": 62,
   "metadata": {
    "collapsed": false
   },
   "outputs": [
    {
     "data": {
      "text/html": [
       "<div>\n",
       "<table border=\"1\" class=\"dataframe\">\n",
       "  <thead>\n",
       "    <tr style=\"text-align: right;\">\n",
       "      <th></th>\n",
       "      <th>actual</th>\n",
       "      <th>predict</th>\n",
       "      <th>err</th>\n",
       "      <th>abs_err</th>\n",
       "    </tr>\n",
       "  </thead>\n",
       "  <tbody>\n",
       "    <tr>\n",
       "      <th>count</th>\n",
       "      <td>4566.000000</td>\n",
       "      <td>4566.000000</td>\n",
       "      <td>4566.000000</td>\n",
       "      <td>4566.000000</td>\n",
       "    </tr>\n",
       "    <tr>\n",
       "      <th>mean</th>\n",
       "      <td>145.260403</td>\n",
       "      <td>147.948581</td>\n",
       "      <td>2.688178</td>\n",
       "      <td>41.415584</td>\n",
       "    </tr>\n",
       "    <tr>\n",
       "      <th>std</th>\n",
       "      <td>124.929805</td>\n",
       "      <td>105.831281</td>\n",
       "      <td>71.502265</td>\n",
       "      <td>58.345312</td>\n",
       "    </tr>\n",
       "    <tr>\n",
       "      <th>min</th>\n",
       "      <td>16.000000</td>\n",
       "      <td>37.644603</td>\n",
       "      <td>-822.247834</td>\n",
       "      <td>0.002323</td>\n",
       "    </tr>\n",
       "    <tr>\n",
       "      <th>25%</th>\n",
       "      <td>70.000000</td>\n",
       "      <td>74.782752</td>\n",
       "      <td>-14.952624</td>\n",
       "      <td>12.065600</td>\n",
       "    </tr>\n",
       "    <tr>\n",
       "      <th>50%</th>\n",
       "      <td>105.000000</td>\n",
       "      <td>112.688402</td>\n",
       "      <td>9.753591</td>\n",
       "      <td>23.991730</td>\n",
       "    </tr>\n",
       "    <tr>\n",
       "      <th>75%</th>\n",
       "      <td>175.000000</td>\n",
       "      <td>163.881450</td>\n",
       "      <td>30.688402</td>\n",
       "      <td>48.180715</td>\n",
       "    </tr>\n",
       "    <tr>\n",
       "      <th>max</th>\n",
       "      <td>1000.000000</td>\n",
       "      <td>747.002786</td>\n",
       "      <td>360.717860</td>\n",
       "      <td>822.247834</td>\n",
       "    </tr>\n",
       "  </tbody>\n",
       "</table>\n",
       "</div>"
      ],
      "text/plain": [
       "            actual      predict          err      abs_err\n",
       "count  4566.000000  4566.000000  4566.000000  4566.000000\n",
       "mean    145.260403   147.948581     2.688178    41.415584\n",
       "std     124.929805   105.831281    71.502265    58.345312\n",
       "min      16.000000    37.644603  -822.247834     0.002323\n",
       "25%      70.000000    74.782752   -14.952624    12.065600\n",
       "50%     105.000000   112.688402     9.753591    23.991730\n",
       "75%     175.000000   163.881450    30.688402    48.180715\n",
       "max    1000.000000   747.002786   360.717860   822.247834"
      ]
     },
     "execution_count": 62,
     "metadata": {},
     "output_type": "execute_result"
    }
   ],
   "source": [
    "# Compare test vs. predicted\n",
    "compare = pd.DataFrame([list(y_test), list(y_predict)]).transpose()\n",
    "compare.columns = ['actual', 'predict']\n",
    "compare['err'] = compare.predict - compare.actual\n",
    "compare['abs_err'] = compare.err.apply(lambda x: abs(x))\n",
    "compare.describe()"
   ]
  },
  {
   "cell_type": "code",
   "execution_count": 41,
   "metadata": {
    "collapsed": false
   },
   "outputs": [
    {
     "data": {
      "text/html": [
       "<div>\n",
       "<table border=\"1\" class=\"dataframe\">\n",
       "  <thead>\n",
       "    <tr style=\"text-align: right;\">\n",
       "      <th></th>\n",
       "      <th>accommodates</th>\n",
       "      <th>availability_365</th>\n",
       "      <th>bathrooms</th>\n",
       "      <th>bedrooms</th>\n",
       "      <th>block_group_id</th>\n",
       "      <th>estimated_revenue_per_month</th>\n",
       "      <th>host_experience_days</th>\n",
       "      <th>id</th>\n",
       "      <th>latitude</th>\n",
       "      <th>longitude</th>\n",
       "      <th>minimum_nights</th>\n",
       "      <th>neighborhood_id</th>\n",
       "      <th>price</th>\n",
       "      <th>tract_id</th>\n",
       "      <th>zipcode_id</th>\n",
       "      <th>review_count</th>\n",
       "      <th>reviews_per_month</th>\n",
       "    </tr>\n",
       "  </thead>\n",
       "  <tbody>\n",
       "    <tr>\n",
       "      <th>count</th>\n",
       "      <td>3038.000000</td>\n",
       "      <td>3038.0</td>\n",
       "      <td>3038.000000</td>\n",
       "      <td>3038.000000</td>\n",
       "      <td>3038.000000</td>\n",
       "      <td>3038.000000</td>\n",
       "      <td>3038.000000</td>\n",
       "      <td>3.038000e+03</td>\n",
       "      <td>3038.000000</td>\n",
       "      <td>3038.000000</td>\n",
       "      <td>3038.000000</td>\n",
       "      <td>3038.000000</td>\n",
       "      <td>3038.000000</td>\n",
       "      <td>3038.000000</td>\n",
       "      <td>3038.000000</td>\n",
       "      <td>3038.000000</td>\n",
       "      <td>3038.000000</td>\n",
       "    </tr>\n",
       "    <tr>\n",
       "      <th>mean</th>\n",
       "      <td>2.833772</td>\n",
       "      <td>0.0</td>\n",
       "      <td>1.278802</td>\n",
       "      <td>1.270902</td>\n",
       "      <td>11123.257735</td>\n",
       "      <td>364.513608</td>\n",
       "      <td>777.702436</td>\n",
       "      <td>8.548736e+06</td>\n",
       "      <td>34.056291</td>\n",
       "      <td>-118.344903</td>\n",
       "      <td>3.379526</td>\n",
       "      <td>146.925938</td>\n",
       "      <td>156.312377</td>\n",
       "      <td>4169.233377</td>\n",
       "      <td>16154.199803</td>\n",
       "      <td>2.997038</td>\n",
       "      <td>0.372367</td>\n",
       "    </tr>\n",
       "    <tr>\n",
       "      <th>std</th>\n",
       "      <td>1.780428</td>\n",
       "      <td>0.0</td>\n",
       "      <td>0.653088</td>\n",
       "      <td>0.856909</td>\n",
       "      <td>6722.040458</td>\n",
       "      <td>821.199479</td>\n",
       "      <td>540.711686</td>\n",
       "      <td>3.629676e+06</td>\n",
       "      <td>0.092219</td>\n",
       "      <td>0.118607</td>\n",
       "      <td>9.307384</td>\n",
       "      <td>74.904651</td>\n",
       "      <td>301.497838</td>\n",
       "      <td>2409.132327</td>\n",
       "      <td>9436.241424</td>\n",
       "      <td>11.485642</td>\n",
       "      <td>0.806893</td>\n",
       "    </tr>\n",
       "    <tr>\n",
       "      <th>min</th>\n",
       "      <td>1.000000</td>\n",
       "      <td>0.0</td>\n",
       "      <td>0.000000</td>\n",
       "      <td>0.000000</td>\n",
       "      <td>6.000000</td>\n",
       "      <td>0.000000</td>\n",
       "      <td>8.000000</td>\n",
       "      <td>2.434500e+04</td>\n",
       "      <td>33.340521</td>\n",
       "      <td>-118.840689</td>\n",
       "      <td>1.000000</td>\n",
       "      <td>2.000000</td>\n",
       "      <td>0.000000</td>\n",
       "      <td>94.000000</td>\n",
       "      <td>42.000000</td>\n",
       "      <td>0.000000</td>\n",
       "      <td>0.000000</td>\n",
       "    </tr>\n",
       "    <tr>\n",
       "      <th>25%</th>\n",
       "      <td>2.000000</td>\n",
       "      <td>0.0</td>\n",
       "      <td>1.000000</td>\n",
       "      <td>1.000000</td>\n",
       "      <td>5393.000000</td>\n",
       "      <td>0.000000</td>\n",
       "      <td>346.000000</td>\n",
       "      <td>6.156894e+06</td>\n",
       "      <td>34.023507</td>\n",
       "      <td>-118.424883</td>\n",
       "      <td>1.000000</td>\n",
       "      <td>78.000000</td>\n",
       "      <td>70.000000</td>\n",
       "      <td>1936.000000</td>\n",
       "      <td>10290.000000</td>\n",
       "      <td>0.000000</td>\n",
       "      <td>0.000000</td>\n",
       "    </tr>\n",
       "    <tr>\n",
       "      <th>50%</th>\n",
       "      <td>2.000000</td>\n",
       "      <td>0.0</td>\n",
       "      <td>1.000000</td>\n",
       "      <td>1.000000</td>\n",
       "      <td>10738.500000</td>\n",
       "      <td>45.443573</td>\n",
       "      <td>679.000000</td>\n",
       "      <td>8.799094e+06</td>\n",
       "      <td>34.067566</td>\n",
       "      <td>-118.354025</td>\n",
       "      <td>2.000000</td>\n",
       "      <td>147.000000</td>\n",
       "      <td>100.000000</td>\n",
       "      <td>5027.000000</td>\n",
       "      <td>16826.000000</td>\n",
       "      <td>1.000000</td>\n",
       "      <td>0.070007</td>\n",
       "    </tr>\n",
       "    <tr>\n",
       "      <th>75%</th>\n",
       "      <td>4.000000</td>\n",
       "      <td>0.0</td>\n",
       "      <td>1.000000</td>\n",
       "      <td>1.000000</td>\n",
       "      <td>15913.000000</td>\n",
       "      <td>368.514404</td>\n",
       "      <td>1128.500000</td>\n",
       "      <td>1.177795e+07</td>\n",
       "      <td>34.102358</td>\n",
       "      <td>-118.281531</td>\n",
       "      <td>3.000000</td>\n",
       "      <td>214.000000</td>\n",
       "      <td>150.000000</td>\n",
       "      <td>6219.000000</td>\n",
       "      <td>23780.750000</td>\n",
       "      <td>2.000000</td>\n",
       "      <td>0.379883</td>\n",
       "    </tr>\n",
       "    <tr>\n",
       "      <th>max</th>\n",
       "      <td>16.000000</td>\n",
       "      <td>0.0</td>\n",
       "      <td>8.000000</td>\n",
       "      <td>6.000000</td>\n",
       "      <td>23194.000000</td>\n",
       "      <td>17100.000000</td>\n",
       "      <td>2774.000000</td>\n",
       "      <td>1.428430e+07</td>\n",
       "      <td>34.675951</td>\n",
       "      <td>-117.705117</td>\n",
       "      <td>365.000000</td>\n",
       "      <td>272.000000</td>\n",
       "      <td>10000.000000</td>\n",
       "      <td>8007.000000</td>\n",
       "      <td>32389.000000</td>\n",
       "      <td>322.000000</td>\n",
       "      <td>8.929688</td>\n",
       "    </tr>\n",
       "  </tbody>\n",
       "</table>\n",
       "</div>"
      ],
      "text/plain": [
       "       accommodates  availability_365    bathrooms     bedrooms  \\\n",
       "count   3038.000000            3038.0  3038.000000  3038.000000   \n",
       "mean       2.833772               0.0     1.278802     1.270902   \n",
       "std        1.780428               0.0     0.653088     0.856909   \n",
       "min        1.000000               0.0     0.000000     0.000000   \n",
       "25%        2.000000               0.0     1.000000     1.000000   \n",
       "50%        2.000000               0.0     1.000000     1.000000   \n",
       "75%        4.000000               0.0     1.000000     1.000000   \n",
       "max       16.000000               0.0     8.000000     6.000000   \n",
       "\n",
       "       block_group_id  estimated_revenue_per_month  host_experience_days  \\\n",
       "count     3038.000000                  3038.000000           3038.000000   \n",
       "mean     11123.257735                   364.513608            777.702436   \n",
       "std       6722.040458                   821.199479            540.711686   \n",
       "min          6.000000                     0.000000              8.000000   \n",
       "25%       5393.000000                     0.000000            346.000000   \n",
       "50%      10738.500000                    45.443573            679.000000   \n",
       "75%      15913.000000                   368.514404           1128.500000   \n",
       "max      23194.000000                 17100.000000           2774.000000   \n",
       "\n",
       "                 id     latitude    longitude  minimum_nights  \\\n",
       "count  3.038000e+03  3038.000000  3038.000000     3038.000000   \n",
       "mean   8.548736e+06    34.056291  -118.344903        3.379526   \n",
       "std    3.629676e+06     0.092219     0.118607        9.307384   \n",
       "min    2.434500e+04    33.340521  -118.840689        1.000000   \n",
       "25%    6.156894e+06    34.023507  -118.424883        1.000000   \n",
       "50%    8.799094e+06    34.067566  -118.354025        2.000000   \n",
       "75%    1.177795e+07    34.102358  -118.281531        3.000000   \n",
       "max    1.428430e+07    34.675951  -117.705117      365.000000   \n",
       "\n",
       "       neighborhood_id         price     tract_id    zipcode_id  review_count  \\\n",
       "count      3038.000000   3038.000000  3038.000000   3038.000000   3038.000000   \n",
       "mean        146.925938    156.312377  4169.233377  16154.199803      2.997038   \n",
       "std          74.904651    301.497838  2409.132327   9436.241424     11.485642   \n",
       "min           2.000000      0.000000    94.000000     42.000000      0.000000   \n",
       "25%          78.000000     70.000000  1936.000000  10290.000000      0.000000   \n",
       "50%         147.000000    100.000000  5027.000000  16826.000000      1.000000   \n",
       "75%         214.000000    150.000000  6219.000000  23780.750000      2.000000   \n",
       "max         272.000000  10000.000000  8007.000000  32389.000000    322.000000   \n",
       "\n",
       "       reviews_per_month  \n",
       "count        3038.000000  \n",
       "mean            0.372367  \n",
       "std             0.806893  \n",
       "min             0.000000  \n",
       "25%             0.000000  \n",
       "50%             0.070007  \n",
       "75%             0.379883  \n",
       "max             8.929688  "
      ]
     },
     "execution_count": 41,
     "metadata": {},
     "output_type": "execute_result"
    }
   ],
   "source": [
    "listing_df[listing_df.availability_365 == 0].describe()"
   ]
  },
  {
   "cell_type": "code",
   "execution_count": null,
   "metadata": {
    "collapsed": true
   },
   "outputs": [],
   "source": []
  }
 ],
 "metadata": {
  "kernelspec": {
   "display_name": "Django Shell-Plus",
   "language": "python",
   "name": "django_extensions"
  },
  "language_info": {
   "codemirror_mode": {
    "name": "ipython",
    "version": 3
   },
   "file_extension": ".py",
   "mimetype": "text/x-python",
   "name": "python",
   "nbconvert_exporter": "python",
   "pygments_lexer": "ipython3",
   "version": "3.5.2"
  }
 },
 "nbformat": 4,
 "nbformat_minor": 2
}
