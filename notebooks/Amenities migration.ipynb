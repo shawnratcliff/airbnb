{
 "cells": [
  {
   "cell_type": "code",
   "execution_count": 2,
   "metadata": {
    "collapsed": false
   },
   "outputs": [],
   "source": [
    "import re"
   ]
  },
  {
   "cell_type": "code",
   "execution_count": 9,
   "metadata": {
    "collapsed": false
   },
   "outputs": [],
   "source": [
    "# Parse raw_amenities, get amenity objects (or create if new), and add\n",
    "for l in Listing.objects.all():\n",
    "    amenity_names = re.sub(r'[{}\"]', '', l.raw_amenities).split(',')\n",
    "    amenities = (\n",
    "        Amenity.objects.get_or_create(name=name)[0]\n",
    "        for name in amenity_names\n",
    "    )\n",
    "    l.amenities.set(amenities)"
   ]
  },
  {
   "cell_type": "code",
   "execution_count": 13,
   "metadata": {
    "collapsed": false
   },
   "outputs": [
    {
     "data": {
      "text/plain": [
       "{'amenities__count__avg': 16.476448024549292}"
      ]
     },
     "execution_count": 13,
     "metadata": {},
     "output_type": "execute_result"
    }
   ],
   "source": [
    "Listing.objects.annotate(Count('amenities')).aggregate(Avg('amenities__count'))"
   ]
  },
  {
   "cell_type": "code",
   "execution_count": 22,
   "metadata": {
    "collapsed": false
   },
   "outputs": [
    {
     "data": {
      "text/plain": [
       "'[\"24-Hour Check-in\", \"Air Conditioning\", \"Buzzer/Wireless Intercom\", \"Cable TV\", \"Carbon Monoxide Detector\", \"Dryer\", \"Elevator in Building\", \"Essentials\", \"Family/Kid Friendly\", \"Fire Extinguisher\", \"First Aid Kit\", \"Free Parking on Premises\", \"Gym\", \"Hair Dryer\", \"Hangers\", \"Heating\", \"Hot Tub\", \"Indoor Fireplace\", \"Internet\", \"Iron\", \"Kitchen\", \"Laptop Friendly Workspace\", \"Pets Allowed\", \"Pool\", \"Safety Card\", \"Shampoo\", \"Smoke Detector\", \"Suitable for Events\", \"TV\", \"Washer\", \"Wheelchair Accessible\", \"Wireless Internet\"]'"
      ]
     },
     "execution_count": 22,
     "metadata": {},
     "output_type": "execute_result"
    }
   ],
   "source": [
    "import json\n",
    "json.dumps([amenity.name for amenity in Listing.objects.first().amenities.all()])"
   ]
  },
  {
   "cell_type": "code",
   "execution_count": null,
   "metadata": {
    "collapsed": true
   },
   "outputs": [],
   "source": []
  }
 ],
 "metadata": {
  "kernelspec": {
   "display_name": "Django Shell-Plus",
   "language": "python",
   "name": "django_extensions"
  },
  "language_info": {
   "codemirror_mode": {
    "name": "ipython",
    "version": 3
   },
   "file_extension": ".py",
   "mimetype": "text/x-python",
   "name": "python",
   "nbconvert_exporter": "python",
   "pygments_lexer": "ipython3",
   "version": "3.5.2"
  }
 },
 "nbformat": 4,
 "nbformat_minor": 2
}
