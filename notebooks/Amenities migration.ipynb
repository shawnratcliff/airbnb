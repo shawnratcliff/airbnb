{
 "cells": [
  {
   "cell_type": "code",
   "execution_count": 2,
   "metadata": {
    "collapsed": false
   },
   "outputs": [],
   "source": [
    "import re"
   ]
  },
  {
   "cell_type": "code",
   "execution_count": 9,
   "metadata": {
    "collapsed": false
   },
   "outputs": [],
   "source": [
    "# Parse raw_amenities, get amenity objects (or create if new), and add\n",
    "for l in Listing.objects.all():\n",
    "    amenity_names = re.sub(r'[{}\"]', '', l.raw_amenities).split(',')\n",
    "    amenities = (\n",
    "        Amenity.objects.get_or_create(name=name)[0]\n",
    "        for name in amenity_names\n",
    "    )\n",
    "    l.amenities.set(amenities)"
   ]
  },
  {
   "cell_type": "code",
   "execution_count": 13,
   "metadata": {
    "collapsed": false
   },
   "outputs": [
    {
     "data": {
      "text/plain": [
       "{'amenities__count__avg': 16.476448024549292}"
      ]
     },
     "execution_count": 13,
     "metadata": {},
     "output_type": "execute_result"
    }
   ],
   "source": [
    "Listing.objects.annotate(Count('amenities')).aggregate(Avg('amenities__count'))"
   ]
  },
  {
   "cell_type": "code",
   "execution_count": 27,
   "metadata": {
    "collapsed": false
   },
   "outputs": [
    {
     "name": "stdout",
     "output_type": "stream",
     "text": [
      "24-Hour Check-in $193.58 (without: $174.71)\n",
      "Air Conditioning $194.47 (without: $151.77)\n",
      "Breakfast $189.62 (without: $179.93)\n",
      "Buzzer/Wireless Intercom $238.47 (without: $173.51)\n",
      "Cable TV $235.48 (without: $144.52)\n",
      "Carbon Monoxide Detector $184.27 (without: $176.08)\n",
      "Cat(s) $126.90 (without: $184.71)\n",
      "Dog(s) $137.10 (without: $187.27)\n",
      "Doorman $208.93 (without: $180.00)\n",
      "Dryer $194.23 (without: $140.33)\n",
      "Elevator in Building $168.29 (without: $184.09)\n",
      "Essentials $182.17 (without: $175.25)\n",
      "Family/Kid Friendly $222.93 (without: $130.82)\n",
      "Fire Extinguisher $191.36 (without: $172.69)\n",
      "First Aid Kit $183.29 (without: $179.34)\n",
      "Free Parking on Premises $204.59 (without: $135.02)\n",
      "Gym $220.35 (without: $174.96)\n",
      "Hair Dryer $192.44 (without: $169.56)\n",
      "Hangers $188.05 (without: $171.63)\n",
      "Heating $186.63 (without: $147.56)\n",
      "Hot Tub $282.90 (without: $157.71)\n",
      "Indoor Fireplace $300.06 (without: $144.42)\n",
      "Internet $185.63 (without: $167.74)\n",
      "Iron $194.80 (without: $168.21)\n",
      "Kitchen $186.76 (without: $129.32)\n",
      "Laptop Friendly Workspace $192.25 (without: $169.23)\n",
      "Lock on Bedroom Door $138.92 (without: $187.36)\n",
      "Other pet(s) $160.20 (without: $181.17)\n",
      "Pets Allowed $230.51 (without: $169.75)\n",
      "Pets live on this property $132.69 (without: $192.49)\n",
      "Pool $266.95 (without: $155.46)\n",
      "Safety Card $199.58 (without: $177.37)\n",
      "Shampoo $180.21 (without: $182.42)\n",
      "Smoke Detector $179.60 (without: $186.58)\n",
      "Smoking Allowed $163.65 (without: $182.47)\n",
      "Suitable for Events $370.37 (without: $163.29)\n",
      "TV $200.71 (without: $123.96)\n",
      "Washer $193.16 (without: $141.91)\n",
      "Washer / Dryer $161.08 (without: $180.94)\n",
      "Wheelchair Accessible $227.47 (without: $175.77)\n",
      "Wireless Internet $180.48 (without: $190.08)\n"
     ]
    }
   ],
   "source": [
    "# Which amenities are associated with higher/lower average prices?\n",
    "for amenity in Amenity.objects.all():\n",
    "    print(amenity.name, \n",
    "          \"$%0.2f\" % amenity.listing_set.aggregate(Avg('price'))['price__avg'],\n",
    "          \"(without: $%0.2f)\" % Listing.objects.exclude(amenities=amenity).aggregate(Avg('price'))['price__avg']\n",
    "         )"
   ]
  },
  {
   "cell_type": "code",
   "execution_count": null,
   "metadata": {
    "collapsed": true
   },
   "outputs": [],
   "source": []
  }
 ],
 "metadata": {
  "kernelspec": {
   "display_name": "Django Shell-Plus",
   "language": "python",
   "name": "django_extensions"
  },
  "language_info": {
   "codemirror_mode": {
    "name": "ipython",
    "version": 3
   },
   "file_extension": ".py",
   "mimetype": "text/x-python",
   "name": "python",
   "nbconvert_exporter": "python",
   "pygments_lexer": "ipython3",
   "version": "3.5.2"
  }
 },
 "nbformat": 4,
 "nbformat_minor": 2
}
