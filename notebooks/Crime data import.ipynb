{
 "cells": [
  {
   "cell_type": "code",
   "execution_count": 4,
   "metadata": {
    "collapsed": false
   },
   "outputs": [],
   "source": [
    "from main.models import Neighborhood, Zipcode, BlockGroup\n",
    "from django.contrib.gis.db.models.functions import Distance\n",
    "from datetime import datetime\n",
    "import pytz\n",
    "from django.contrib.gis.geos import Point\n",
    "import pandas as pd\n",
    "import numpy as np\n",
    "from ast import literal_eval"
   ]
  },
  {
   "cell_type": "code",
   "execution_count": 2,
   "metadata": {
    "collapsed": false
   },
   "outputs": [],
   "source": [
    "# Define data types for initial parsing of CSV\n",
    "# np.int64, str, np.float64\n",
    "dtype = {\n",
    "    'Date.Rptd': str,\n",
    "    'DR.NO': np.int64,\n",
    "    'DATE.OCC': str,\n",
    "    'TIME.OCC': str,\n",
    "    'Crm.Cd': int,\n",
    "    'CrmCd.Desc': str,\n",
    "    'Location.1': str, # parse as (float, float) pair\n",
    "}\n",
    "     \n",
    "# Specify columns that should be parsed as dates\n",
    "parse_dates = ['Date.Rptd', 'DATE.OCC']\n",
    "\n",
    "# Specify conversion functions for particular columns\n",
    "converters = {\n",
    "    'TIME.OCC': lambda t: ('000' + t)[-4:] # Fill with leading zeros, e.g. '30' --> '0030'\n",
    "}"
   ]
  },
  {
   "cell_type": "code",
   "execution_count": 3,
   "metadata": {
    "collapsed": false,
    "scrolled": true
   },
   "outputs": [],
   "source": [
    "# Read CSV contents into dataframe\n",
    "df = pd.read_csv(\n",
    "    '../res/Crimes_2012-2015.csv.gz',\n",
    "    usecols=list(dtype.keys()),\n",
    "    dtype=dtype, \n",
    "    parse_dates=parse_dates, \n",
    "    converters=converters\n",
    ")"
   ]
  },
  {
   "cell_type": "code",
   "execution_count": 6,
   "metadata": {
    "collapsed": false,
    "scrolled": false
   },
   "outputs": [
    {
     "data": {
      "text/plain": [
       "Date.Rptd     False\n",
       "DR.NO         False\n",
       "DATE.OCC      False\n",
       "TIME.OCC      False\n",
       "Crm.Cd        False\n",
       "CrmCd.Desc    False\n",
       "Location.1    False\n",
       "dtype: bool"
      ]
     },
     "execution_count": 6,
     "metadata": {},
     "output_type": "execute_result"
    }
   ],
   "source": [
    "# Check for columns containing null values\n",
    "df.isnull().any()"
   ]
  },
  {
   "cell_type": "code",
   "execution_count": 5,
   "metadata": {
    "collapsed": false
   },
   "outputs": [],
   "source": [
    "# Fill certain null / missing values\n",
    "# df['reviews_per_month'].fillna(value=0.0, inplace=True)\n",
    "\n",
    "# Drop entries with certain missing values\n",
    "df.dropna(subset=['Location.1', 'CrmCd.Desc'], inplace=True)"
   ]
  },
  {
   "cell_type": "code",
   "execution_count": 9,
   "metadata": {
    "collapsed": false,
    "scrolled": false
   },
   "outputs": [
    {
     "name": "stdout",
     "output_type": "stream",
     "text": [
      ".................................................................................................................................................................................................................................................................................................................................................................................................................................................................................................................................................................................................................................................................................................................................................................................................................................................................................................................................................................."
     ]
    }
   ],
   "source": [
    "# Delete all existing Crimes\n",
    "Crime.objects.all().delete()\n",
    "\n",
    "# Instantiate and save a Listing for each row in the dataframe\n",
    "for index, row in df.iterrows():\n",
    "    coords = literal_eval(row['Location.1'])\n",
    "    point = Point(x=coords[1], y=coords[0], srid=4326)\n",
    "    # Combine date, time of occurrence\n",
    "    date_occurred = row['DATE.OCC'].to_pydatetime().replace(\n",
    "        hour=int(row['TIME.OCC'][:2]),\n",
    "        minute=int(row['TIME.OCC'][2:]),\n",
    "        tzinfo=pytz.timezone('America/Los_Angeles')\n",
    "    )\n",
    "    crime = Crime(\n",
    "        report_number=row['DR.NO'],\n",
    "        date_reported=row['Date.Rptd'],\n",
    "        date_occurred=date_occurred,\n",
    "        crime_code=row['Crm.Cd'],\n",
    "        crime_code_desc=row['CrmCd.Desc'],\n",
    "        point=point\n",
    "    )\n",
    "    crime.save() # commit to DB\n",
    "    if index % 1000 == 0:\n",
    "        print('.', end='')"
   ]
  },
  {
   "cell_type": "code",
   "execution_count": null,
   "metadata": {
    "collapsed": false
   },
   "outputs": [],
   "source": [
    "# Tag each crime with neighborhood, block group, zipcode\n",
    "\n",
    "# Tag Neighborhood\n",
    "for i, neighborhood in enumerate(Neighborhood.objects.all()):\n",
    "    crimes = Crime.objects.filter(point__within=neighborhood.mpoly)\n",
    "    crimes.update(neighborhood=neighborhood)    \n",
    "    print(neighborhood, crimes.count())\n"
   ]
  },
  {
   "cell_type": "code",
   "execution_count": 26,
   "metadata": {
    "collapsed": false
   },
   "outputs": [
    {
     "name": "stdout",
     "output_type": "stream",
     "text": [
      "............................................................................................................................................................................................................................................................................................................................................"
     ]
    }
   ],
   "source": [
    "# Tag Zipcode\n",
    "for i, zipcode in enumerate(Zipcode.objects.all()):\n",
    "    crimes = Crime.objects.filter(point__within=zipcode.mpoly)\n",
    "    crimes.update(zipcode=zipcode)    \n",
    "    if i % 100 == 0:\n",
    "        print('.', end='')"
   ]
  },
  {
   "cell_type": "code",
   "execution_count": 27,
   "metadata": {
    "collapsed": false
   },
   "outputs": [
    {
     "name": "stdout",
     "output_type": "stream",
     "text": [
      "........................................................................................................................................................................................................................................"
     ]
    }
   ],
   "source": [
    "# Tag Block Group\n",
    "for i, block_group in enumerate(BlockGroup.objects.all()):\n",
    "    crimes = Crime.objects.filter(point__within=block_group.mpoly)\n",
    "    crimes.update(block_group=block_group)    \n",
    "    if i % 100 == 0:\n",
    "        print('.', end='')"
   ]
  },
  {
   "cell_type": "code",
   "execution_count": 14,
   "metadata": {
    "collapsed": false
   },
   "outputs": [
    {
     "name": "stdout",
     "output_type": "stream",
     "text": [
      "1583 (-118.2413, 33.7767) Wilmington 1.93488533 m\n",
      "62988 (-118.2413, 33.7767) Wilmington 1.93488533 m\n",
      "95847 (-118.2413, 33.7767) Wilmington 1.93488533 m\n",
      "100001 (-118.3614, 34.0872) West Hollywood 0.06925057 m\n",
      "115370 (-118.3614, 34.0872) West Hollywood 0.06925057 m\n",
      "129461 (-117.6596, 34.4527) Northeast Antelope Valley 15.79142378 m\n",
      "138998 (-118.2413, 33.7767) Wilmington 1.93488533 m\n",
      "142039 (-118.3614, 34.0872) West Hollywood 0.06925057 m\n",
      "220515 (-118.2737, 33.7589) Wilmington 9.95183629 m\n",
      "258894 (-118.2762, 33.72) San Pedro 45.9989447 m\n",
      "294805 (-118.2705, 33.7351) San Pedro 4.05969477 m\n",
      "312159 (-118.2759, 33.7189) San Pedro 14.79602465 m\n",
      "320162 (-118.3614, 34.0872) West Hollywood 0.06925057 m\n",
      "350518 (-118.2413, 33.7767) Wilmington 1.93488533 m\n",
      "373814 (-118.2705, 33.7351) San Pedro 4.05969477 m\n",
      "392814 (-118.2494, 33.7667) Wilmington 3.18894499 m\n",
      "402388 (-118.3614, 34.0872) West Hollywood 0.06925057 m\n",
      "419332 (-118.3614, 34.0872) West Hollywood 0.06925057 m\n",
      "428782 (-118.2705, 33.7351) San Pedro 4.05969477 m\n",
      "434726 (-118.2819, 33.7166) San Pedro 8.58688041 m\n",
      "437846 (-118.2413, 33.7767) Wilmington 1.93488533 m\n",
      "439132 (-118.2705, 33.7351) San Pedro 4.05969477 m\n",
      "463496 (-118.2413, 33.7767) Wilmington 1.93488533 m\n",
      "475685 (-118.2413, 33.7767) Wilmington 1.93488533 m\n",
      "475710 (-118.2413, 33.7767) Wilmington 1.93488533 m\n",
      "477147 (-118.2413, 33.7767) Wilmington 1.93488533 m\n",
      "495625 (-118.6682, 34.1849) West Hills 4.2232144 m\n",
      "512568 (-118.2413, 33.7767) Wilmington 1.93488533 m\n",
      "520050 (-118.2413, 33.7767) Wilmington 1.93488533 m\n",
      "531938 (-118.6682, 34.1849) West Hills 4.2232144 m\n",
      "549192 (-118.2413, 33.7767) Wilmington 1.93488533 m\n",
      "591058 (-118.2413, 33.7767) Wilmington 1.93488533 m\n",
      "591059 (-118.2413, 33.7767) Wilmington 1.93488533 m\n",
      "593490 (-118.2413, 33.7767) Wilmington 1.93488533 m\n",
      "610665 (-118.2774, 33.7303) San Pedro 16.65793233 m\n",
      "661378 (-118.2413, 33.7767) Wilmington 1.93488533 m\n",
      "702845 (-118.3614, 34.0872) West Hollywood 0.06925057 m\n",
      "718463 (-118.3614, 34.0872) West Hollywood 0.06925057 m\n",
      "724235 (-118.2413, 33.7767) Wilmington 1.93488533 m\n",
      "778415 (-118.3614, 34.0872) West Hollywood 0.06925057 m\n",
      "800575 (-118.2705, 33.7351) San Pedro 4.05969477 m\n",
      "801238 (-118.2705, 33.7351) San Pedro 4.05969477 m\n",
      "803300 (-118.2802, 33.7186) San Pedro 18.660326 m\n",
      "826763 (-118.3614, 34.0872) West Hollywood 0.06925057 m\n",
      "830415 (-118.3614, 34.0872) West Hollywood 0.06925057 m\n",
      "857459 (-118.2494, 33.7667) Wilmington 3.18894499 m\n",
      "857462 (-118.2739, 33.7496) San Pedro 0.6462551 m\n",
      "873226 (-118.2413, 33.7767) Wilmington 1.93488533 m\n",
      "882264 (-118.3614, 34.0872) West Hollywood 0.06925057 m\n",
      "893889 (-118.3614, 34.0872) West Hollywood 0.06925057 m\n",
      "900583 (-118.2413, 33.7767) Wilmington 1.93488533 m\n",
      "922338 (-118.2413, 33.7767) Wilmington 1.93488533 m\n",
      "928792 (-118.2413, 33.7767) Wilmington 1.93488533 m\n"
     ]
    }
   ],
   "source": [
    "# Compute the nearest Neighborhood to crimes \n",
    "# that are missing a neighborhood\n",
    "for crime in Crime.objects.filter(neighborhood=None):\n",
    "    neighborhood = Neighborhood.objects.annotate(\n",
    "        distance=Distance('mpoly', crime.point)).order_by('distance').first()\n",
    "    print(crime.pk, crime.point.coords, neighborhood, neighborhood.distance)"
   ]
  },
  {
   "cell_type": "code",
   "execution_count": 13,
   "metadata": {
    "collapsed": false
   },
   "outputs": [
    {
     "data": {
      "text/plain": [
       "(6771, {'main.Crime': 6771})"
      ]
     },
     "execution_count": 13,
     "metadata": {},
     "output_type": "execute_result"
    }
   ],
   "source": [
    "# Delete crimes with invalid location data\n",
    "Crime.objects.filter(point__equals=Point(0.0, 0.0, srid=4326)).delete()"
   ]
  },
  {
   "cell_type": "code",
   "execution_count": 38,
   "metadata": {
    "collapsed": false
   },
   "outputs": [
    {
     "data": {
      "text/plain": [
       "<QuerySet [<Neighborhood: Bradbury>, <Neighborhood: Val Verde>, <Neighborhood: North El Monte>, <Neighborhood: Vincent>, <Neighborhood: Whittier Narrows>, <Neighborhood: Lake Hughes>, <Neighborhood: West Whittier-Los Nietos>, <Neighborhood: Rolling Hills>, <Neighborhood: Quartz Hill>, <Neighborhood: Maywood>, <Neighborhood: La Cañada Flintridge>, <Neighborhood: Avocado Heights>, <Neighborhood: Charter Oak>, <Neighborhood: Hidden Hills>, <Neighborhood: East Pasadena>, <Neighborhood: West San Dimas>, <Neighborhood: Baldwin Park>, <Neighborhood: Lawndale>, <Neighborhood: South Diamond Bar>, <Neighborhood: East La Mirada>, '...(remaining elements truncated)...']>"
      ]
     },
     "execution_count": 38,
     "metadata": {},
     "output_type": "execute_result"
    }
   ],
   "source": [
    "from django.db.models import Count\n",
    "Neighborhood.objects.annotate(crime_count=Count('crime')).order_by('crime_count')"
   ]
  },
  {
   "cell_type": "code",
   "execution_count": null,
   "metadata": {
    "collapsed": true
   },
   "outputs": [],
   "source": []
  }
 ],
 "metadata": {
  "kernelspec": {
   "display_name": "Django Shell-Plus",
   "language": "python",
   "name": "django_extensions"
  },
  "language_info": {
   "codemirror_mode": {
    "name": "ipython",
    "version": 3
   },
   "file_extension": ".py",
   "mimetype": "text/x-python",
   "name": "python",
   "nbconvert_exporter": "python",
   "pygments_lexer": "ipython3",
   "version": "3.6.0"
  }
 },
 "nbformat": 4,
 "nbformat_minor": 2
}
