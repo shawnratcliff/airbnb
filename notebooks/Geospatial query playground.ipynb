{
 "cells": [
  {
   "cell_type": "code",
   "execution_count": 3,
   "metadata": {
    "collapsed": true
   },
   "outputs": [],
   "source": [
    "# Imports\n",
    "from main.models import Neighborhood\n",
    "from django.contrib.gis.geos import (\n",
    "    GEOSGeometry, \n",
    "    Polygon,\n",
    "    Point,\n",
    "    MultiPolygon,\n",
    ")\n",
    "from pprint import pprint\n",
    "from django.contrib.gis.measure import Distance"
   ]
  },
  {
   "cell_type": "code",
   "execution_count": 2,
   "metadata": {
    "collapsed": false
   },
   "outputs": [
    {
     "name": "stdout",
     "output_type": "stream",
     "text": [
      "<QuerySet [<Neighborhood: Beverly Hills>]>\n",
      "True\n"
     ]
    }
   ],
   "source": [
    "# Find the neighborhood that contains a given point\n",
    "test_point = Point(-118.41303, 34.0658684) # Peninsula Hotel\n",
    "print(Neighborhood.objects.filter(mpoly__contains=test_point))\n",
    "\n",
    "# Check if a particular neighborhood contains a point\n",
    "beverly_hills = Neighborhood.objects.get(name=\"Beverly Hills\")\n",
    "print(beverly_hills.mpoly.contains(test_point))"
   ]
  },
  {
   "cell_type": "code",
   "execution_count": 4,
   "metadata": {
    "collapsed": true
   },
   "outputs": [],
   "source": [
    "bh=beverly_hills.mpoly.centroid"
   ]
  },
  {
   "cell_type": "code",
   "execution_count": 13,
   "metadata": {
    "collapsed": false
   },
   "outputs": [
    {
     "data": {
      "text/plain": [
       "django.contrib.gis.geos.point.Point"
      ]
     },
     "execution_count": 13,
     "metadata": {},
     "output_type": "execute_result"
    }
   ],
   "source": [
    "type(bh)"
   ]
  },
  {
   "cell_type": "code",
   "execution_count": null,
   "metadata": {
    "collapsed": true
   },
   "outputs": [],
   "source": [
    "# TESTING\n",
    "\n",
    "# Define custom spatial relationship\n",
    "truly_overlaps = \"2********\" # See https://en.wikipedia.org/wiki/DE-9IM\n",
    "\n",
    "# For each LA zipcode, show the neighborhoods it overlaps\n",
    "la_zipcodes = set([\n",
    "    zipcode\n",
    "    for n in Neighborhood.objects.all()\n",
    "    for zipcode in Zipcode.objects.filter(mpoly__relate=(n.mpoly, truly_overlaps))\n",
    "])\n",
    "\n",
    "for zipcode in set(la_zipcodes):\n",
    "    print(zipcode.zipcode, Neighborhood.objects.filter(mpoly__relate=(zipcode.mpoly, truly_overlaps)), '\\n')"
   ]
  },
  {
   "cell_type": "code",
   "execution_count": null,
   "metadata": {
    "collapsed": true
   },
   "outputs": [],
   "source": [
    "z=Zipcode.objects.annotate(percent_water=F('water_area') / (F('water_area') + F('land_area')))\n",
    "z.order_by('-percent_water')"
   ]
  },
  {
   "cell_type": "code",
   "execution_count": null,
   "metadata": {
    "collapsed": true
   },
   "outputs": [],
   "source": [
    "# Distance annotations\n",
    "from django.contrib.gis.db.models.functions import Distance\n",
    "l=Listing.objects.get(pk=287339)\n",
    "d=BlockGroup.objects.annotate(distance=Distance('mpoly', l.point)).order_by('distance').first().distance"
   ]
  },
  {
   "cell_type": "code",
   "execution_count": null,
   "metadata": {
    "collapsed": true
   },
   "outputs": [],
   "source": [
    "# Compute the nearest ZCTA to listings \n",
    "# that are missing a zipcode region (and the distance to the boundary)\n",
    "for listing in Listing.objects.filter(zipcode=None):\n",
    "    zipcode = Zipcode.objects.annotate(\n",
    "        distance=Distance('mpoly', listing.point)).order_by('distance').first()\n",
    "    print(listing.pk, zipcode.pk, zipcode.distance)"
   ]
  },
  {
   "cell_type": "code",
   "execution_count": null,
   "metadata": {
    "collapsed": true
   },
   "outputs": [],
   "source": [
    "# Test: search listings by distance to POI\n",
    "from django.contrib.gis.measure import D\n",
    "import geocoder\n",
    "\n",
    "poi = GEOSGeometry(geocoder.google('Beverly Hills Hotel').wkt, srid=4326)\n",
    "listings = Listing.objects.filter(point__distance_lt=(poi, D(mi=0.25)))\n",
    "print(listings.count())"
   ]
  },
  {
   "cell_type": "code",
   "execution_count": null,
   "metadata": {
    "collapsed": true
   },
   "outputs": [],
   "source": []
  }
 ],
 "metadata": {
  "kernelspec": {
   "display_name": "Django Shell-Plus",
   "language": "python",
   "name": "django_extensions"
  },
  "language_info": {
   "codemirror_mode": {
    "name": "ipython",
    "version": 3
   },
   "file_extension": ".py",
   "mimetype": "text/x-python",
   "name": "python",
   "nbconvert_exporter": "python",
   "pygments_lexer": "ipython3",
   "version": "3.6.0"
  }
 },
 "nbformat": 4,
 "nbformat_minor": 2
}
