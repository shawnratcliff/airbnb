{
 "cells": [
  {
   "cell_type": "code",
   "execution_count": 1,
   "metadata": {
    "collapsed": true
   },
   "outputs": [],
   "source": [
    "# Imports\n",
    "from main.models import Neighborhood\n",
    "from django.contrib.gis.geos import (\n",
    "    GEOSGeometry, \n",
    "    Polygon,\n",
    "    Point,\n",
    "    MultiPolygon,\n",
    ")\n",
    "from pprint import pprint"
   ]
  },
  {
   "cell_type": "code",
   "execution_count": 23,
   "metadata": {
    "collapsed": false
   },
   "outputs": [
    {
     "name": "stdout",
     "output_type": "stream",
     "text": [
      "<QuerySet [<Neighborhood: Beverly Hills>]>\n",
      "True\n"
     ]
    }
   ],
   "source": [
    "# Find the neighborhood that contains a given point\n",
    "test_point = Point(-118.41303, 34.0658684) # Peninsula Hotel\n",
    "print(Neighborhood.objects.filter(mpoly__contains=test_point))\n",
    "\n",
    "# Check if a particular neighborhood contains a point\n",
    "beverly_hills = Neighborhood.objects.get(name=\"Beverly Hills\")\n",
    "print(beverly_hills.mpoly.contains(test_point))"
   ]
  },
  {
   "cell_type": "code",
   "execution_count": null,
   "metadata": {
    "collapsed": true
   },
   "outputs": [],
   "source": []
  }
 ],
 "metadata": {
  "kernelspec": {
   "display_name": "Django Shell-Plus",
   "language": "python",
   "name": "django_extensions"
  },
  "language_info": {
   "codemirror_mode": {
    "name": "ipython",
    "version": 3
   },
   "file_extension": ".py",
   "mimetype": "text/x-python",
   "name": "python",
   "nbconvert_exporter": "python",
   "pygments_lexer": "ipython3",
   "version": "3.5.2"
  }
 },
 "nbformat": 4,
 "nbformat_minor": 2
}
