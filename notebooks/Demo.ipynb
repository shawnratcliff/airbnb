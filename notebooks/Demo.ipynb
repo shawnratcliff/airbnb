{
 "cells": [
  {
   "cell_type": "code",
   "execution_count": 1,
   "metadata": {
    "collapsed": false
   },
   "outputs": [],
   "source": [
    "from main.models import Neighborhood, Listing\n",
    "from django.db.models import Avg\n",
    "from django.contrib.gis.geos import (\n",
    "    GEOSGeometry, \n",
    "    Polygon,\n",
    "    Point,\n",
    "    MultiPolygon,\n",
    ")\n",
    "from django.contrib.gis.measure import D\n",
    "from pprint import pprint"
   ]
  },
  {
   "cell_type": "markdown",
   "metadata": {},
   "source": [
    "## Step 1: Define a function that locates which neighborhood a point of interest in, and displays Airbnb statistics for that neighborhood."
   ]
  },
  {
   "cell_type": "code",
   "execution_count": 2,
   "metadata": {
    "collapsed": true
   },
   "outputs": [],
   "source": [
    "def local_summary(point):\n",
    "    neighborhood = Neighborhood.objects.filter(mpoly__contains=point).first()\n",
    "    if neighborhood:\n",
    "        local_listings = neighborhood.listing_set\n",
    "        print('Neighborhood: %s.' % neighborhood)\n",
    "        print(local_listings.count(), 'Airbnb listings found.')\n",
    "        print('Average price: $%.2f / night.' % \n",
    "              local_listings.aggregate(Avg('price'))['price__avg'])\n",
    "    else:\n",
    "        print('This point was not found in any Los Angeles neighborhood.')\n",
    "    \n",
    "    "
   ]
  },
  {
   "cell_type": "markdown",
   "metadata": {},
   "source": [
    "## Step 2: Create some points of interest using Google Maps coordinates."
   ]
  },
  {
   "cell_type": "code",
   "execution_count": 3,
   "metadata": {
    "collapsed": true
   },
   "outputs": [],
   "source": [
    "lax = Point(y=33.9416, x=-118.4085, srid=4326)\n",
    "dodger_stadium = Point(y=34.0739, x=-118.2400, srid=4326)\n",
    "chateau_marmont = Point(y=34.0984, x=-118.3685, srid=4326)"
   ]
  },
  {
   "cell_type": "markdown",
   "metadata": {},
   "source": [
    "## Step 3: Let's make some guesses. What neighborhoods are these in? Which one has the priciest Airbnbs?"
   ]
  },
  {
   "cell_type": "markdown",
   "metadata": {},
   "source": [
    "### LAX"
   ]
  },
  {
   "cell_type": "code",
   "execution_count": 6,
   "metadata": {
    "collapsed": false,
    "scrolled": true
   },
   "outputs": [
    {
     "name": "stdout",
     "output_type": "stream",
     "text": [
      "Neighborhood: Westchester.\n",
      "152 Airbnb listings found.\n",
      "Average price: $139.10 / night.\n"
     ]
    }
   ],
   "source": [
    "local_summary(lax)"
   ]
  },
  {
   "cell_type": "markdown",
   "metadata": {},
   "source": [
    "### Dodger Stadium"
   ]
  },
  {
   "cell_type": "code",
   "execution_count": 7,
   "metadata": {
    "collapsed": false,
    "scrolled": true
   },
   "outputs": [
    {
     "name": "stdout",
     "output_type": "stream",
     "text": [
      "Neighborhood: Elysian Park.\n",
      "13 Airbnb listings found.\n",
      "Average price: $119.23 / night.\n"
     ]
    }
   ],
   "source": [
    "local_summary(dodger_stadium)"
   ]
  },
  {
   "cell_type": "markdown",
   "metadata": {},
   "source": [
    "### Chateau Marmont"
   ]
  },
  {
   "cell_type": "code",
   "execution_count": 8,
   "metadata": {
    "collapsed": false
   },
   "outputs": [
    {
     "name": "stdout",
     "output_type": "stream",
     "text": [
      "Neighborhood: Hollywood Hills West.\n",
      "408 Airbnb listings found.\n",
      "Average price: $507.56 / night.\n"
     ]
    }
   ],
   "source": [
    "local_summary(chateau_marmont)"
   ]
  },
  {
   "cell_type": "code",
   "execution_count": null,
   "metadata": {
    "collapsed": true
   },
   "outputs": [],
   "source": []
  }
 ],
 "metadata": {
  "kernelspec": {
   "display_name": "Django Shell-Plus",
   "language": "python",
   "name": "django_extensions"
  },
  "language_info": {
   "codemirror_mode": {
    "name": "ipython",
    "version": 3
   },
   "file_extension": ".py",
   "mimetype": "text/x-python",
   "name": "python",
   "nbconvert_exporter": "python",
   "pygments_lexer": "ipython3",
   "version": "3.6.0"
  }
 },
 "nbformat": 4,
 "nbformat_minor": 2
}
