{
 "cells": [
  {
   "cell_type": "code",
   "execution_count": 46,
   "metadata": {
    "collapsed": false
   },
   "outputs": [],
   "source": [
    "from bs4 import BeautifulSoup\n",
    "import requests\n",
    "import re\n",
    "import json"
   ]
  },
  {
   "cell_type": "code",
   "execution_count": 7,
   "metadata": {
    "collapsed": true
   },
   "outputs": [],
   "source": [
    "# Collect neighborhood names formatted as LA Times URL slugs\n",
    "neighborhood_slugs = {\n",
    "    n.pk: n.name.lower().replace(' ', '-').replace('/','').replace('ñ','n')\n",
    "    for n in Neighborhood.objects.all()\n",
    "}"
   ]
  },
  {
   "cell_type": "code",
   "execution_count": 44,
   "metadata": {
    "collapsed": false
   },
   "outputs": [],
   "source": [
    "# Scrape the neighborhood profile pages for the 2000 census population\n",
    "population_counts = {}\n",
    "for primary_key, slug in neighborhood_slugs.items():\n",
    "    r = requests.get('http://maps.latimes.com/neighborhoods/neighborhood/%s' % slug)\n",
    "    soup = BeautifulSoup(r.content, \"lxml\")\n",
    "    selection = soup.select('.neighborhoods-accordion-drawer li')\n",
    "    if selection:\n",
    "        bullet_item = selection[0]\n",
    "        p = re.compile('([\\d,]+) population in 2000')\n",
    "        m = p.match(bullet_item.text)\n",
    "        population_counts[primary_key] = int(m.group(1).replace(',',''))\n",
    "    else:\n",
    "        population_counts[primary_key] = None\n",
    "    "
   ]
  },
  {
   "cell_type": "code",
   "execution_count": 57,
   "metadata": {
    "collapsed": false
   },
   "outputs": [
    {
     "data": {
      "text/plain": [
       "['Chatsworth Reservoir',\n",
       " 'Griffith Park',\n",
       " 'Hansen Dam',\n",
       " 'Sepulveda Basin',\n",
       " 'South Diamond Bar',\n",
       " 'Universal City',\n",
       " 'Whittier Narrows']"
      ]
     },
     "execution_count": 57,
     "metadata": {},
     "output_type": "execute_result"
    }
   ],
   "source": [
    "# Some neighborhoods have no reported population.\n",
    "# These neighborhoods are mainly parks or commercial zones with no or very sparse housing.\n",
    "[\n",
    "    Neighborhood.objects.get(pk=pk).name\n",
    "    for pk in population_counts.keys()\n",
    "    if population_counts[pk] == None\n",
    "]"
   ]
  },
  {
   "cell_type": "code",
   "execution_count": null,
   "metadata": {
    "collapsed": true
   },
   "outputs": [],
   "source": [
    "# Save the result to JSON file for future use\n",
    "with open(\"../res/neighborhood_population_counts.json\", \"w\") as f:\n",
    "    f.write(json.dumps(population_counts))"
   ]
  },
  {
   "cell_type": "code",
   "execution_count": 66,
   "metadata": {
    "collapsed": false
   },
   "outputs": [],
   "source": [
    "# Update the database models\n",
    "for pk, population in population_counts.items():\n",
    "    n = Neighborhood.objects.get(pk=pk)\n",
    "    n.data['population_latimes_2000_census'] = population\n",
    "    n.save()\n",
    "    "
   ]
  }
 ],
 "metadata": {
  "kernelspec": {
   "display_name": "Django Shell-Plus",
   "language": "python",
   "name": "django_extensions"
  },
  "language_info": {
   "codemirror_mode": {
    "name": "ipython",
    "version": 3
   },
   "file_extension": ".py",
   "mimetype": "text/x-python",
   "name": "python",
   "nbconvert_exporter": "python",
   "pygments_lexer": "ipython3",
   "version": "3.5.2"
  }
 },
 "nbformat": 4,
 "nbformat_minor": 2
}
