{
 "cells": [
  {
   "cell_type": "code",
   "execution_count": 2,
   "metadata": {
    "collapsed": false
   },
   "outputs": [
    {
     "name": "stdout",
     "output_type": "stream",
     "text": [
      "CPU times: user 766 ms, sys: 224 ms, total: 990 ms\n",
      "Wall time: 2.72 s\n"
     ]
    }
   ],
   "source": [
    "%%time\n",
    "import textacy\n",
    "from django.db.models import F, Expression\n",
    "from api.filters import random_sample, get_filter_query\n",
    "from itertools import chain\n",
    "import pickle\n",
    "\n",
    "stop_words = pickle.load(open('../pickles/stopwords.p', 'rb'))"
   ]
  },
  {
   "cell_type": "code",
   "execution_count": 49,
   "metadata": {
    "collapsed": false
   },
   "outputs": [],
   "source": [
    "filters = {\n",
    "#    'max_sample_size': 5000,\n",
    "    'numerical_range': [\n",
    "        {\n",
    "            'attribute_name': 'price',\n",
    "            'min': None,\n",
    "            'max': None\n",
    "        },\n",
    "        {\n",
    "            'attribute_name': 'accommodates',\n",
    "            'min': None,\n",
    "            'max': None\n",
    "        },\n",
    "        {\n",
    "            'attribute_name': 'estimated_revenue_per_month',\n",
    "            'min': 1,\n",
    "            'max': None\n",
    "        }\n",
    "    ],\n",
    "    'region': {\n",
    "        'region_type': 'neighborhood',\n",
    "        'id': 106\n",
    "    }\n",
    "}\n",
    "query = get_filter_query(filters)"
   ]
  },
  {
   "cell_type": "code",
   "execution_count": 104,
   "metadata": {
    "collapsed": false
   },
   "outputs": [
    {
     "name": "stdout",
     "output_type": "stream",
     "text": [
      "CPU times: user 84.3 ms, sys: 6.97 ms, total: 91.3 ms\n",
      "Wall time: 111 ms\n"
     ]
    }
   ],
   "source": [
    "%%time\n",
    "# Build queryset and inverse queryset\n",
    "queryset = Listing.objects.only('description').filter(query)\n",
    "excluded = Listing.objects.only('description').exclude(id__in=(e['id'] for e in queryset.values('id')))\n",
    "\n",
    "# Take a random sample of each\n",
    "queryset = random_sample(queryset, 250)\n",
    "excluded = random_sample(excluded, 100)\n",
    "\n",
    "# Build input features\n",
    "all_docs = list()\n",
    "bools = list()\n",
    "for l in chain(queryset, excluded):\n",
    "    # Generate a list of lists of tokens, excluding stop words\n",
    "    all_docs.append(filter(\n",
    "        lambda w: w not in stop_words,\n",
    "        textacy.preprocess_text(\n",
    "            l.description, \n",
    "            lowercase=True, \n",
    "            no_punct=True, \n",
    "            no_numbers=True).split()\n",
    "        )\n",
    "    )\n",
    "    bools.append(l in queryset)\n",
    "\n",
    "    \n",
    "    \n",
    "    \n",
    "###\n",
    "###\n",
    "### MUST DO SOME ERROR PREVENTION (EMPTY QUERYSETS, ETC.)\n",
    "\n",
    "# Train model and output results\n",
    "key_terms = textacy.keyterms.most_discriminating_terms(\n",
    "    terms_lists=all_docs, bool_array_grp1=bools, top_n_terms=20)"
   ]
  },
  {
   "cell_type": "code",
   "execution_count": 105,
   "metadata": {
    "collapsed": false
   },
   "outputs": [
    {
     "data": {
      "text/plain": [
       "(['lax',\n",
       "  'redondo',\n",
       "  'torrance',\n",
       "  'long',\n",
       "  'miles',\n",
       "  'harbor',\n",
       "  'freeway',\n",
       "  'properties',\n",
       "  'medical',\n",
       "  'gardena',\n",
       "  'hermosa',\n",
       "  'beach',\n",
       "  'south',\n",
       "  'bunk',\n",
       "  'another',\n",
       "  'mattresses',\n",
       "  'student',\n",
       "  'chilling',\n",
       "  'indoors',\n",
       "  'form'],\n",
       " ['hills',\n",
       "  'private',\n",
       "  'beverly',\n",
       "  'location',\n",
       "  'west',\n",
       "  'guest',\n",
       "  'unit',\n",
       "  'heart',\n",
       "  'grove',\n",
       "  'king',\n",
       "  'cable',\n",
       "  'sunset',\n",
       "  'shower',\n",
       "  'fully',\n",
       "  'building',\n",
       "  'view',\n",
       "  'beautiful',\n",
       "  'brand',\n",
       "  'throughout',\n",
       "  'located'])"
      ]
     },
     "execution_count": 105,
     "metadata": {},
     "output_type": "execute_result"
    }
   ],
   "source": [
    "key_terms"
   ]
  },
  {
   "cell_type": "code",
   "execution_count": null,
   "metadata": {
    "collapsed": false,
    "scrolled": true
   },
   "outputs": [],
   "source": [
    "# Quick experiment: do weighted replication of words\n",
    "# for online word cloud generator\n",
    "duplicated_words = [\n",
    "    (word + ' ') * (30-i)\n",
    "    for i, word\n",
    "    in enumerate(key_terms)\n",
    "]\n",
    "print(duplicated_words)"
   ]
  },
  {
   "cell_type": "code",
   "execution_count": 82,
   "metadata": {
    "collapsed": false
   },
   "outputs": [],
   "source": [
    "\"\"\"\n",
    "Generating the doc_term_matrix takes a while. \n",
    "A pickled matrix from the full listing set is in ../pickles/\n",
    "\"\"\"\n",
    "\n",
    "#sample_listings = random_sample(Listing.objects.all(), 5000)\n",
    "sample_listings = Listing.objects.all()\n",
    "\n",
    "doc_stream = (\n",
    "    textacy.Doc(textacy.preprocess_text(\n",
    "        l.description, \n",
    "        lowercase=True, \n",
    "        no_punct=True, \n",
    "        no_numbers=True,\n",
    "        no_contractions=True\n",
    "    ))\n",
    "    for l in sample_listings\n",
    "    if textacy.text_utils.detect_language(l.description) == 'en' # English only; we don't have other analyzers available\n",
    ")\n",
    "\n",
    "corpus = textacy.Corpus('en', docs=doc_stream)\n",
    "\n",
    "doc_term_matrix, id2term = textacy.vsm.doc_term_matrix(\n",
    "    (doc.to_terms_list(ngrams=1, named_entities=True, as_strings=True)\n",
    "        for doc in corpus),\n",
    "    weighting='tfidf', normalize=True, smooth_idf=True, min_df=2, max_df=0.95)\n",
    "\n"
   ]
  },
  {
   "cell_type": "code",
   "execution_count": null,
   "metadata": {
    "collapsed": false,
    "scrolled": false
   },
   "outputs": [],
   "source": [
    "model = textacy.tm.TopicModel('nmf', n_topics=30) # non-negative matrix factorization method\n",
    "model.fit(doc_term_matrix)\n",
    "\n"
   ]
  },
  {
   "cell_type": "code",
   "execution_count": 97,
   "metadata": {
    "collapsed": true
   },
   "outputs": [],
   "source": [
    "\"\"\"\n",
    "Pickle the model if the topics are coherent!\n",
    "\"\"\"\n",
    "\n",
    "pickle.dump(model, open('../pickles/model.p', 'wb'))"
   ]
  },
  {
   "cell_type": "code",
   "execution_count": 98,
   "metadata": {
    "collapsed": false
   },
   "outputs": [
    {
     "name": "stdout",
     "output_type": "stream",
     "text": [
      "topic 0 : guest   stay   space   available   need   day   access   use   time   provide \n",
      "\n",
      "topic 1 : place   adventurer   solo   traveler   business   couple   will   good   love   close \n",
      "\n",
      "topic 2 : minute   number   drive   away   lax   walk   downtown   ride   freeway   five minute \n",
      "\n",
      "topic 3 : venice   kinney   beach   abbot   boardwalk   block   canal   bike   marina   abbott \n",
      "\n",
      "topic 4 : number   bedroom   bath   block   sleep   sq   ft   foot   car   unit \n",
      "\n",
      "topic 5 : apartment   bedroom   one   building   locate   spacious   entire   balcony   heart   complex \n",
      "\n",
      "topic 6 : view   ocean   mountain   deck   amazing   malibu   hill   sunset   balcony   canyon \n",
      "\n",
      "topic 7 : hollywood   fame   walk   blvd   chinese   west   sign   theatre   heart   theater \n",
      "\n",
      "topic 8 : beverly   hill   grove   west   rodeo   drive   city   century   center   ucla \n",
      "\n",
      "topic 9 : tv   wifi   free   cable   parking   dryer   include   washer   internet   kitchen \n",
      "\n",
      "topic 10 : room   share   bathroom   living   kitchen   live   dining   use   nice   large \n",
      "\n",
      "topic 11 : walk   distance   restaurant   shop   bar   store   market   grocery   walking   block \n",
      "\n",
      "topic 12 : house   guest   backyard   main   yard   quiet   garden   beautiful   bedroom   one \n",
      "\n",
      "topic 13 : min   number   drive   walk   lax   numbernumber   free   downtown   universal   bus \n",
      "\n",
      "topic 14 : pool   gym   jacuzzi   hot   amenity   center   tub   swim   court   spa \n",
      "\n",
      "topic 15 : home   family   away   enjoy   feel   beautiful   quiet   perfect   neighborhood   bedroom \n",
      "\n",
      "topic 16 : bed   queen   size   bedroom   sofa   king   one   two   mattress   twin \n",
      "\n",
      "topic 17 : studio   universal   burbank   warner   noho   city   art   ventura   district   disney \n",
      "\n",
      "topic 18 : private   entrance   bathroom   bath   patio   separate   shower   suite   quiet   guest \n",
      "\n",
      "topic 19 : bus   close   quiet   metro   neighborhood   freeway   station   easy   safe   access \n",
      "\n",
      "topic 20 : beach   long   hermosa   manhattan   bike   ocean   pier   redondo   block   lax \n",
      "\n",
      "topic 21 : los   angeles   downtown   la   center   locate   staple   city   loft   convention \n",
      "\n",
      "topic 22 : mile   number   away   lax   miracle   airport   store   disneyland   one mile   numbernumber \n",
      "\n",
      "topic 23 : new   brand   appliance   furniture   modern   unit   remodel   newly   luxury   renovate \n",
      "\n",
      "topic 24 : large   floor   space   open   area   dining   outdoor   light   patio   ceiling \n",
      "\n",
      "topic 25 : pasadena   town   old   bowl   rose   rise   gold   parade   line   downtown \n",
      "\n",
      "topic 26 : second   floor   bedroom   master   bathroom   first   two   story   unit   third \n",
      "\n",
      "topic 27 : park   echo   lake   silver   silverlake   griffith   feliz   sunset   junction   elysian \n",
      "\n",
      "topic 28 : great   location   place   central   restaurant   close   convenient   spot   la   lot \n",
      "\n",
      "topic 29 : santa   monica   3rd   promenade   pier   ucla   street   beach   brentwood   westwood \n",
      "\n"
     ]
    }
   ],
   "source": [
    "# Print the topics\n",
    "for topic_idx, top_terms in model.top_topic_terms(id2term, top_n=10):\n",
    "    print('topic', topic_idx, ':', '   '.join(top_terms),'\\n')"
   ]
  },
  {
   "cell_type": "code",
   "execution_count": 101,
   "metadata": {
    "collapsed": false
   },
   "outputs": [],
   "source": [
    "q=Listing.objects.filter(description__contains=\"park\")"
   ]
  },
  {
   "cell_type": "code",
   "execution_count": 103,
   "metadata": {
    "collapsed": false
   },
   "outputs": [
    {
     "data": {
      "text/plain": [
       "<QuerySet [8652973, 9250229, 10907712, 741734, 6171307, 5616987, 7132466, 8940686, 13310795, 33449, 420329, 3811175, 759229, 3522136, 1526602, 13403554, 8408103, 985865, 4519165, 502172, '...(remaining elements truncated)...']>"
      ]
     },
     "execution_count": 103,
     "metadata": {},
     "output_type": "execute_result"
    }
   ],
   "source": [
    "q.values_list('id', flat=True)"
   ]
  },
  {
   "cell_type": "code",
   "execution_count": null,
   "metadata": {
    "collapsed": true
   },
   "outputs": [],
   "source": []
  }
 ],
 "metadata": {
  "kernelspec": {
   "display_name": "Django Shell-Plus",
   "language": "python",
   "name": "django_extensions"
  }
 },
 "nbformat": 4,
 "nbformat_minor": 2
}
