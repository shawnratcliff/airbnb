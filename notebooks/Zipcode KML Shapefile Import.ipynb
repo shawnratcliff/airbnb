{
 "cells": [
  {
   "cell_type": "code",
   "execution_count": 1,
   "metadata": {
    "collapsed": false
   },
   "outputs": [],
   "source": [
    "from main.models import Zipcode, BlockGroup, Neighborhood, Listing\n",
    "from django.contrib.gis.geos import (\n",
    "    GEOSGeometry, \n",
    "    Polygon, \n",
    "    MultiPolygon,\n",
    "    WKBReader, \n",
    "    WKBWriter,\n",
    "    Point\n",
    ")\n",
    "from django.contrib.gis.gdal import DataSource\n",
    "from django.db.models import ExpressionWrapper, F\n",
    "import re\n",
    "from lxml import etree"
   ]
  },
  {
   "cell_type": "markdown",
   "metadata": {},
   "source": [
    "## Discussion regarding overlap detection of unevenly aligned geo boundaries\n",
    "http://gis.stackexchange.com/questions/69139/how-do-i-use-polygon-centroids-within-a-geoqueryset"
   ]
  },
  {
   "cell_type": "markdown",
   "metadata": {},
   "source": [
    "## ZCTA Import"
   ]
  },
  {
   "cell_type": "code",
   "execution_count": 2,
   "metadata": {
    "collapsed": false
   },
   "outputs": [],
   "source": [
    "# Open US Zip Code Tabulation Areas shapefile\n",
    "ds = DataSource('/Users/shawn/Downloads/cb_2015_us_zcta510_500k/cb_2015_us_zcta510_500k.kml')\n",
    "layer = ds[0] # There's only 1 layer in this file"
   ]
  },
  {
   "cell_type": "code",
   "execution_count": 3,
   "metadata": {
    "collapsed": false
   },
   "outputs": [],
   "source": [
    "# Create and save zipcode objects\n",
    "for feature in layer:\n",
    "    # Extract attrs\n",
    "    root = etree.fromstring(feature.get('Description'))\n",
    "    table = root.find('table')\n",
    "    attrs = {\n",
    "        tr[0].text: tr[1].text\n",
    "        for tr in table.findall('tr')[1:]\n",
    "    }\n",
    "    geom = GEOSGeometry(feature.geom.json, srid=4326)\n",
    "    geom = WKBReader().read(wkb=WKBWriter(dim=2).write(geom)) # Coerce 3D input geometry to 2D\n",
    "    if geom.geom_type != 'MultiPolygon':\n",
    "        geom = MultiPolygon(geom)\n",
    "\n",
    "    # Create or update zipcode object\n",
    "    Zipcode.objects.update_or_create(\n",
    "        zipcode=attrs['ZCTA5CE10'],\n",
    "        land_area=float(attrs['ALAND10']),\n",
    "        water_area=float(attrs['AWATER10']),\n",
    "        mpoly=geom\n",
    "    )"
   ]
  },
  {
   "cell_type": "code",
   "execution_count": null,
   "metadata": {
    "collapsed": false,
    "scrolled": false
   },
   "outputs": [],
   "source": []
  },
  {
   "cell_type": "markdown",
   "metadata": {},
   "source": [
    "## Block Group Import"
   ]
  },
  {
   "cell_type": "code",
   "execution_count": 4,
   "metadata": {
    "collapsed": false
   },
   "outputs": [],
   "source": [
    "# Open Los Angeles County Block Groups shapefile\n",
    "ds = DataSource('/Users/shawn/Downloads/cb_2015_06_bg_500k/cb_2015_06_bg_500k.kml')\n",
    "layer = ds[0] # There's only 1 layer in this file"
   ]
  },
  {
   "cell_type": "code",
   "execution_count": 5,
   "metadata": {
    "collapsed": false,
    "scrolled": false
   },
   "outputs": [],
   "source": [
    "# Create and save BlockGroup objects\n",
    "for feature in layer:\n",
    "    # Extract attributes\n",
    "    root = etree.fromstring(feature.get('Description'))\n",
    "    table = root.find('table')\n",
    "    attrs = {\n",
    "        tr[0].text: tr[1].text\n",
    "        for tr in table.findall('tr')[1:]\n",
    "    }\n",
    "    \n",
    "    # Extract geometry\n",
    "    geom = GEOSGeometry(feature.geom.json, srid=4326)\n",
    "    geom = WKBReader().read(wkb=WKBWriter(dim=2).write(geom)) # Coerce 3D input geometry to 2D\n",
    "    if geom.geom_type != 'MultiPolygon':\n",
    "        geom = MultiPolygon(geom)\n",
    "\n",
    "    # Create or update object\n",
    "    BlockGroup.objects.update_or_create(\n",
    "        geoid=attrs['GEOID'], \n",
    "        land_area=float(attrs['ALAND']), \n",
    "        water_area=float(attrs['AWATER']),\n",
    "        mpoly=geom\n",
    "    )"
   ]
  },
  {
   "cell_type": "code",
   "execution_count": 9,
   "metadata": {
    "collapsed": false,
    "scrolled": false
   },
   "outputs": [
    {
     "name": "stdout",
     "output_type": "stream",
     "text": [
      "287339 <QuerySet []> \n",
      "\n",
      "656963 <QuerySet []> \n",
      "\n",
      "2227286 <QuerySet []> \n",
      "\n",
      "8244781 <QuerySet []> \n",
      "\n",
      "6986728 <QuerySet []> \n",
      "\n",
      "10638942 <QuerySet []> \n",
      "\n",
      "11038162 <QuerySet []> \n",
      "\n",
      "11083126 <QuerySet []> \n",
      "\n",
      "11362231 <QuerySet []> \n",
      "\n",
      "12849655 <QuerySet []> \n",
      "\n",
      "12863157 <QuerySet []> \n",
      "\n",
      "12866294 <QuerySet []> \n",
      "\n",
      "13297945 <QuerySet []> \n",
      "\n",
      "13682291 <QuerySet []> \n",
      "\n",
      "13811274 <QuerySet []> \n",
      "\n",
      "13896738 <QuerySet []> \n",
      "\n",
      "13911140 <QuerySet []> \n",
      "\n",
      "13936161 <QuerySet []> \n",
      "\n",
      "13960487 <QuerySet []> \n",
      "\n",
      "14079456 <QuerySet []> \n",
      "\n",
      "14282984 <QuerySet []> \n",
      "\n"
     ]
    }
   ],
   "source": [
    "# Assign listings to zipcodes\n",
    "Listing.objects.update(zipcode=None)\n",
    "for l in Listing.objects.all():\n",
    "    zipcodes = Zipcode.objects.filter(mpoly__contains_properly=l.point)\n",
    "    if zipcodes.count() == 1:\n",
    "        l.zipcode = zipcodes.first()\n",
    "        l.save()\n",
    "    else:\n",
    "        print(l.id, zipcodes, '\\n')"
   ]
  },
  {
   "cell_type": "code",
   "execution_count": 19,
   "metadata": {
    "collapsed": false
   },
   "outputs": [
    {
     "name": "stdout",
     "output_type": "stream",
     "text": [
      "287339 <QuerySet []> \n",
      "\n",
      "656963 <QuerySet []> \n",
      "\n",
      "2227286 <QuerySet []> \n",
      "\n",
      "8244781 <QuerySet []> \n",
      "\n",
      "6986728 <QuerySet []> \n",
      "\n",
      "10638942 <QuerySet []> \n",
      "\n",
      "11038162 <QuerySet []> \n",
      "\n",
      "11362231 <QuerySet []> \n",
      "\n",
      "12849655 <QuerySet []> \n",
      "\n",
      "12863157 <QuerySet []> \n",
      "\n",
      "12866294 <QuerySet []> \n",
      "\n",
      "13297945 <QuerySet []> \n",
      "\n",
      "13682291 <QuerySet []> \n",
      "\n",
      "13811274 <QuerySet []> \n",
      "\n",
      "13896738 <QuerySet []> \n",
      "\n",
      "13911140 <QuerySet []> \n",
      "\n",
      "13936161 <QuerySet []> \n",
      "\n",
      "13960487 <QuerySet []> \n",
      "\n",
      "14079456 <QuerySet []> \n",
      "\n",
      "14282984 <QuerySet []> \n",
      "\n"
     ]
    }
   ],
   "source": [
    "# assign listings to block groups\n",
    "for l in Listing.objects.all():\n",
    "    bgs = BlockGroup.objects.filter(mpoly__contains_properly=l.point)\n",
    "    if bgs.count() == 1:\n",
    "        l.block_group = bgs.first()\n",
    "        l.save()\n",
    "    else:\n",
    "        print(l.pk, bgs, '\\n')"
   ]
  },
  {
   "cell_type": "code",
   "execution_count": null,
   "metadata": {
    "collapsed": true
   },
   "outputs": [],
   "source": []
  }
 ],
 "metadata": {
  "kernelspec": {
   "display_name": "Django Shell-Plus",
   "language": "python",
   "name": "django_extensions"
  },
  "language_info": {
   "codemirror_mode": {
    "name": "ipython",
    "version": 3
   },
   "file_extension": ".py",
   "mimetype": "text/x-python",
   "name": "python",
   "nbconvert_exporter": "python",
   "pygments_lexer": "ipython3",
   "version": "3.6.0"
  }
 },
 "nbformat": 4,
 "nbformat_minor": 2
}
