{
 "cells": [
  {
   "cell_type": "code",
   "execution_count": 1,
   "metadata": {
    "collapsed": false
   },
   "outputs": [],
   "source": [
    "from main.models import Zipcode, BlockGroup, Neighborhood, Listing\n",
    "from django.contrib.gis.geos import (\n",
    "    GEOSGeometry, \n",
    "    Polygon, \n",
    "    MultiPolygon,\n",
    "    WKBReader, \n",
    "    WKBWriter,\n",
    "    Point\n",
    ")\n",
    "from django.contrib.gis.gdal import DataSource\n",
    "import re\n",
    "from lxml import etree"
   ]
  },
  {
   "cell_type": "markdown",
   "metadata": {},
   "source": [
    "## Discussion regarding overlap detection of unevenly aligned geo boundaries\n",
    "http://gis.stackexchange.com/questions/69139/how-do-i-use-polygon-centroids-within-a-geoqueryset"
   ]
  },
  {
   "cell_type": "markdown",
   "metadata": {},
   "source": [
    "## ZCTA Import"
   ]
  },
  {
   "cell_type": "code",
   "execution_count": 2,
   "metadata": {
    "collapsed": false
   },
   "outputs": [],
   "source": [
    "# Open US Zip Code Tabulation Areas shapefile\n",
    "ds = DataSource('/Users/shawn/Downloads/cb_2015_us_zcta510_500k/cb_2015_us_zcta510_500k.kml')\n",
    "layer = ds[0] # There's only 1 layer in this file"
   ]
  },
  {
   "cell_type": "code",
   "execution_count": 3,
   "metadata": {
    "collapsed": false
   },
   "outputs": [],
   "source": [
    "# Create and save zipcode objects\n",
    "for feature in layer:\n",
    "    # Extract attrs\n",
    "    root = etree.fromstring(feature.get('Description'))\n",
    "    table = root.find('table')\n",
    "    attrs = {\n",
    "        tr[0].text: tr[1].text\n",
    "        for tr in table.findall('tr')[1:]\n",
    "    }\n",
    "    geom = GEOSGeometry(feature.geom.json, srid=4326)\n",
    "    geom = WKBReader().read(wkb=WKBWriter(dim=2).write(geom)) # Coerce 3D input geometry to 2D\n",
    "    if geom.geom_type != 'MultiPolygon':\n",
    "        geom = MultiPolygon(geom)\n",
    "\n",
    "    # Create or update zipcode object\n",
    "    Zipcode.objects.update_or_create(\n",
    "        zipcode=attrs['ZCTA5CE10'],\n",
    "        area_land=int(attrs['ALAND10']),\n",
    "        area_water=int(attrs['AWATER10']),\n",
    "        mpoly=geom\n",
    "    )"
   ]
  },
  {
   "cell_type": "code",
   "execution_count": null,
   "metadata": {
    "collapsed": false,
    "scrolled": false
   },
   "outputs": [],
   "source": []
  },
  {
   "cell_type": "markdown",
   "metadata": {},
   "source": [
    "## Block Group Import"
   ]
  },
  {
   "cell_type": "code",
   "execution_count": 4,
   "metadata": {
    "collapsed": false
   },
   "outputs": [],
   "source": [
    "# Open Los Angeles County Block Groups shapefile\n",
    "ds = DataSource('/Users/shawn/Downloads/cb_2015_06_bg_500k/cb_2015_06_bg_500k.kml')\n",
    "layer = ds[0] # There's only 1 layer in this file"
   ]
  },
  {
   "cell_type": "code",
   "execution_count": 5,
   "metadata": {
    "collapsed": false,
    "scrolled": false
   },
   "outputs": [],
   "source": [
    "# Create and save BlockGroup objects\n",
    "for feature in layer:\n",
    "    # Extract attributes\n",
    "    root = etree.fromstring(feature.get('Description'))\n",
    "    table = root.find('table')\n",
    "    attrs = {\n",
    "        tr[0].text: tr[1].text\n",
    "        for tr in table.findall('tr')[1:]\n",
    "    }\n",
    "    \n",
    "    # Extract geometry\n",
    "    geom = GEOSGeometry(feature.geom.json, srid=4326)\n",
    "    geom = WKBReader().read(wkb=WKBWriter(dim=2).write(geom)) # Coerce 3D input geometry to 2D\n",
    "    if geom.geom_type != 'MultiPolygon':\n",
    "        geom = MultiPolygon(geom)\n",
    "\n",
    "    # Create or update object\n",
    "    BlockGroup.objects.update_or_create(\n",
    "        geoid=attrs['GEOID'], \n",
    "        area_land=int(attrs['ALAND']), \n",
    "        area_water=int(attrs['AWATER']),\n",
    "        mpoly=geom\n",
    "    )"
   ]
  },
  {
   "cell_type": "code",
   "execution_count": null,
   "metadata": {
    "collapsed": true
   },
   "outputs": [],
   "source": []
  },
  {
   "cell_type": "code",
   "execution_count": null,
   "metadata": {
    "collapsed": true
   },
   "outputs": [],
   "source": [
    "# TESTING\n",
    "\n",
    "# Define custom spatial relationship\n",
    "truly_overlaps = \"2********\" # See https://en.wikipedia.org/wiki/DE-9IM\n",
    "\n",
    "# For each LA zipcode, show the neighborhoods it overlaps\n",
    "la_zipcodes = set([\n",
    "    zipcode\n",
    "    for n in Neighborhood.objects.all()\n",
    "    for zipcode in Zipcode.objects.filter(mpoly__relate=(n.mpoly, truly_overlaps))\n",
    "])\n",
    "\n",
    "for zipcode in set(la_zipcodes):\n",
    "    print(zipcode.zipcode, Neighborhood.objects.filter(mpoly__relate=(zipcode.mpoly, truly_overlaps)), '\\n')"
   ]
  }
 ],
 "metadata": {
  "kernelspec": {
   "display_name": "Django Shell-Plus",
   "language": "python",
   "name": "django_extensions"
  },
  "language_info": {
   "codemirror_mode": {
    "name": "ipython",
    "version": 3
   },
   "file_extension": ".py",
   "mimetype": "text/x-python",
   "name": "python",
   "nbconvert_exporter": "python",
   "pygments_lexer": "ipython3",
   "version": "3.6.0"
  }
 },
 "nbformat": 4,
 "nbformat_minor": 2
}
