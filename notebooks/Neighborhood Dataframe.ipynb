{
 "cells": [
  {
   "cell_type": "code",
   "execution_count": 1,
   "metadata": {
    "collapsed": true
   },
   "outputs": [],
   "source": [
    "import pandas as pd\n",
    "import numpy as np"
   ]
  },
  {
   "cell_type": "code",
   "execution_count": 51,
   "metadata": {
    "collapsed": true
   },
   "outputs": [],
   "source": [
    "# Build list of dicts with relevant data\n",
    "data = list()\n",
    "for n in Neighborhood.objects.all():\n",
    "    n_data = n.data\n",
    "    n_data['id'] = n.id\n",
    "    data.append(n_data)\n",
    "\n",
    "# Build list of column names\n",
    "columns = list(Neighborhood.objects.first().data.keys()) + ['id',]\n",
    "\n",
    "# Construct dataframe\n",
    "df = pd.DataFrame(data, columns=columns)\n",
    "\n",
    "# Precompute z-scores\n",
    "for col in columns:\n",
    "    if col is not 'id':\n",
    "        df['%s_z' % col] = (df[col] - df[col].mean()) / df[col].std(ddof=0)\n",
    "\n",
    "# Pickle the dataframe\n",
    "df.to_pickle('../pickles/neighborhood_data.p')"
   ]
  },
  {
   "cell_type": "code",
   "execution_count": null,
   "metadata": {
    "collapsed": true
   },
   "outputs": [],
   "source": []
  }
 ],
 "metadata": {
  "kernelspec": {
   "display_name": "Django Shell-Plus",
   "language": "python",
   "name": "django_extensions"
  },
  "language_info": {
   "codemirror_mode": {
    "name": "ipython",
    "version": 3
   },
   "file_extension": ".py",
   "mimetype": "text/x-python",
   "name": "python",
   "nbconvert_exporter": "python",
   "pygments_lexer": "ipython3",
   "version": "3.5.2"
  }
 },
 "nbformat": 4,
 "nbformat_minor": 2
}
