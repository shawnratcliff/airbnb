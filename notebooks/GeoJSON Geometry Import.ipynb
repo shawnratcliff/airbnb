{
 "cells": [
  {
   "cell_type": "code",
   "execution_count": null,
   "metadata": {
    "collapsed": true
   },
   "outputs": [],
   "source": [
    "\"\"\" \n",
    "GeoJSON import tool for LA neighborhoods\n",
    "\n",
    "To be used when setting up new application DB.\n",
    "\"\"\"\n"
   ]
  },
  {
   "cell_type": "code",
   "execution_count": 1,
   "metadata": {
    "collapsed": false
   },
   "outputs": [],
   "source": [
    "# Imports\n",
    "from main.models import Neighborhood, County\n",
    "from django.contrib.gis.geos import (\n",
    "    GEOSGeometry, \n",
    "    Polygon, \n",
    "    MultiPolygon,\n",
    "    WKBReader, \n",
    "    WKBWriter\n",
    ")\n",
    "import json"
   ]
  },
  {
   "cell_type": "markdown",
   "metadata": {},
   "source": [
    "## LA Neighborhoods"
   ]
  },
  {
   "cell_type": "code",
   "execution_count": 2,
   "metadata": {
    "collapsed": true
   },
   "outputs": [],
   "source": [
    "# Step 1: Load geojson data\n",
    "with open('../res/neighbourhoods.geojson') as f:\n",
    "    data = json.load(f)\n",
    "\n",
    "neighborhoods = data['features']"
   ]
  },
  {
   "cell_type": "code",
   "execution_count": 3,
   "metadata": {
    "collapsed": false,
    "scrolled": false
   },
   "outputs": [],
   "source": [
    "# Step 2: Save a new Neighborhood object in the DB for each neighborhood in the JSON file\n",
    "for n in neighborhoods:\n",
    "    nbh = Neighborhood()\n",
    "    nbh.name = n['properties']['neighbourhood']\n",
    "    geom = GEOSGeometry(json.dumps(n['geometry']))\n",
    "    geom = WKBReader().read(wkb=WKBWriter(dim=2).write(geom)) # Coerce 3D input geometry to 2D\n",
    "    nbh.mpoly = geom\n",
    "    nbh.save()"
   ]
  },
  {
   "cell_type": "markdown",
   "metadata": {
    "collapsed": true
   },
   "source": []
  }
 ],
 "metadata": {
  "kernelspec": {
   "display_name": "Django Shell-Plus",
   "language": "python",
   "name": "django_extensions"
  },
  "language_info": {
   "codemirror_mode": {
    "name": "ipython",
    "version": 3
   },
   "file_extension": ".py",
   "mimetype": "text/x-python",
   "name": "python",
   "nbconvert_exporter": "python",
   "pygments_lexer": "ipython3",
   "version": "3.6.0"
  }
 },
 "nbformat": 4,
 "nbformat_minor": 2
}
